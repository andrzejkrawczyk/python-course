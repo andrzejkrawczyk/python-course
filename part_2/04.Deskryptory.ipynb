{
 "cells": [
  {
   "cell_type": "markdown",
   "metadata": {
    "slideshow": {
     "slide_type": "slide"
    }
   },
   "source": [
    "# Deskryptory\n",
    "* określony protokół zachowania dla atrybutów\n",
    "* istnieją 3 operacje na atrybucie - odczyt, przypisanie i usunięcie wartości\n",
    "* jeśli istnieje deskryptor - zwróć go, inaczej zwróć atrybut\n",
    "* deskryptor implementuje:\n",
    "* `descriptor.__get__(self, obj, objtype=None)` -> value\n",
    "* `descriptor.__set__(self, obj, value)` -> None\n",
    "* `descriptor.__del__(self, obj)` -> None\n",
    "* działają tylko dla nowych klas w Python2\n",
    "* deskryptor implementujący tylko `__get__` jest nazywany \"non-data descriptor\""
   ]
  },
  {
   "cell_type": "code",
   "execution_count": null,
   "metadata": {
    "slideshow": {
     "slide_type": "subslide"
    }
   },
   "outputs": [],
   "source": [
    "class Punkt():\n",
    "    \n",
    "    def __init__(self, x, y):\n",
    "        self._x = x\n",
    "        self._y = y\n",
    "        \n",
    "    def getX(self):\n",
    "        return self._x\n",
    "    \n",
    "    def getY(self):\n",
    "        return self._y\n",
    "    \n",
    "    def setX(self, x):\n",
    "        self._x = x\n",
    "        \n",
    "    def setY(self, y):\n",
    "        self._y = y\n",
    "        \n",
    "p = Punkt(1, 2)\n",
    "print(p.getX())\n",
    "p.setX(5)\n",
    "print(p.getX())"
   ]
  },
  {
   "cell_type": "code",
   "execution_count": null,
   "metadata": {
    "slideshow": {
     "slide_type": "subslide"
    }
   },
   "outputs": [],
   "source": [
    "class Punkt():\n",
    "    \n",
    "    def __init__(self, x, y):\n",
    "        self._x = x\n",
    "        self._y = y\n",
    "        \n",
    "    def getX(self):return self._x\n",
    "    def setX(self, x):self._x = x\n",
    "    def getY(self):return self._y\n",
    "    def setY(self, y):self._y = y\n",
    "        \n",
    "    x = property(fget=getX, fset=setX, fdel=None, doc=None)\n",
    "    y = property(getY, setY)\n",
    "        \n",
    "p = Punkt(1, 2)\n",
    "print(p.x)\n",
    "p.x = 5\n",
    "print(p.x)"
   ]
  },
  {
   "cell_type": "code",
   "execution_count": null,
   "metadata": {
    "slideshow": {
     "slide_type": "subslide"
    }
   },
   "outputs": [],
   "source": [
    "class Punkt():\n",
    "    \n",
    "    def __init__(self, x, y):\n",
    "        self._x = x\n",
    "        self._y = y\n",
    "        \n",
    "    def getX(self):return self._x\n",
    "    def setX(self, x):self._x = x\n",
    "        \n",
    "    def getY(self):return self._y\n",
    "    def setY(self, y):self._y = y\n",
    "        \n",
    "    def dodaj(self):\n",
    "        return self._x + self._y\n",
    "        \n",
    "    x = property(getX, setX)\n",
    "    y = property(getY, setY)\n",
    "    suma = property(dodaj)\n",
    "        \n",
    "p = Punkt(1, 2)\n",
    "print(p.x)\n",
    "p.x = 5\n",
    "print(p.x)\n",
    "print(p.suma)"
   ]
  },
  {
   "cell_type": "code",
   "execution_count": null,
   "metadata": {
    "slideshow": {
     "slide_type": "subslide"
    }
   },
   "outputs": [],
   "source": [
    "class ReadOnly():\n",
    "    def __init__(self, value):\n",
    "        self._value = value\n",
    "        \n",
    "    def __get__(self, obj, objtype):\n",
    "        print(self, obj, objtype)\n",
    "        print(obj._y)\n",
    "        return self._value\n",
    "    \n",
    "    def __set__(self, obj, val):\n",
    "        print(self, obj, val)\n",
    "        raise AttributeError\n",
    "\n",
    "class Punkt():\n",
    "    x = ReadOnly(5)\n",
    "    \n",
    "    def __init__(self, y):\n",
    "        self._y = y\n",
    "\n",
    "p = Punkt(2)\n",
    "print(p.x)\n",
    "p.x = 10"
   ]
  },
  {
   "cell_type": "code",
   "execution_count": null,
   "metadata": {
    "slideshow": {
     "slide_type": "subslide"
    }
   },
   "outputs": [],
   "source": [
    "class ReadOnly():\n",
    "    def __init__(self, value):\n",
    "        self._value = value\n",
    "        \n",
    "    def __get__(self, obj, objtype):\n",
    "        print(\"get: \", self, obj, objtype)\n",
    "        print(obj._y)\n",
    "        return self._value\n",
    "    \n",
    "    def __set__(self, obj, val):\n",
    "        print(self, obj, val)\n",
    "        raise AttributeError\n",
    "\n",
    "class Punkt():\n",
    "    \n",
    "    def __init__(self, x, y):\n",
    "        self.x = ReadOnly(x)\n",
    "        self._y = y\n",
    "\n",
    "p = Punkt(1, 2)\n",
    "print(p.x)\n",
    "p.__dict__\n",
    "p.__dict__['x']"
   ]
  },
  {
   "cell_type": "code",
   "execution_count": null,
   "metadata": {
    "slideshow": {
     "slide_type": "subslide"
    }
   },
   "outputs": [],
   "source": [
    "class ReadOnlyXPlus5():        \n",
    "    def __get__(self, obj, objtype):\n",
    "        print(\"get: \", self, obj, objtype)\n",
    "        return obj._x + 5\n",
    "    \n",
    "    def __set__(self, obj, val):\n",
    "        print(self, obj, val)\n",
    "        raise AttributeError\n",
    "\n",
    "class Punkt():\n",
    "    \n",
    "    def __init__(self, x, y):\n",
    "        self._x = x\n",
    "        self._y = y\n",
    "        \n",
    "    x = ReadOnlyXPlus5()\n",
    "\n",
    "p = Punkt(1, 2)\n",
    "print(p.x)\n",
    "print(p.__dict__)\n",
    "Punkt.x"
   ]
  },
  {
   "cell_type": "code",
   "execution_count": null,
   "metadata": {
    "slideshow": {
     "slide_type": "subslide"
    }
   },
   "outputs": [],
   "source": [
    "class NonDataDesc():\n",
    "    def __init__(self, x):\n",
    "        self.x = x\n",
    "        \n",
    "    def __get__(self, obj, objtype):\n",
    "        print(\"NonDataGet\")\n",
    "        return self.x\n",
    "    \n",
    "class DataDesc():\n",
    "    def __init__(self, x):\n",
    "        self.x = x\n",
    "        \n",
    "    def __get__(self, obj, objtype):\n",
    "        print(\"DataDescGet\")\n",
    "        return self.x\n",
    "    \n",
    "    def __set__(self, obj, val):\n",
    "        self.x = val\n",
    "    \n",
    "class A():\n",
    "    #x = NonDataDesc(10)\n",
    "    x = DataDesc(-5)\n",
    "        \n",
    "a = A()\n",
    "print(a.x)\n",
    "a.x = 5\n",
    "print(a.x)"
   ]
  },
  {
   "cell_type": "markdown",
   "metadata": {
    "slideshow": {
     "slide_type": "slide"
    }
   },
   "source": [
    "* deskryptor powinien być zdefiniowany na poziomie klasy\n",
    "* różnica w sposobie wywoływania deskryptora dla klasy i obiektu\n",
    "* metoda `__getattribute__` dla type i object\n",
    "* nie można się dostać do deskryptora z `__dict__`"
   ]
  },
  {
   "cell_type": "markdown",
   "metadata": {
    "slideshow": {
     "slide_type": "subslide"
    }
   },
   "source": [
    "* mechanizm Pythona do pobierania atrybutów\n",
    "* obj.x -> przeszukuje `dict` obiektu\n",
    "* jeśli x definiuje `__get__` -> wywołaj `x.__get__(obj)`\n",
    "* sposób działania `object.__getattribute__`\n",
    "* `b.x` -> `type(b).__dict__['x'].__get__(b, type(b))`\n",
    "* `B.x` -> `B.__dict__['x'].__get__(None, B)`"
   ]
  },
  {
   "cell_type": "markdown",
   "metadata": {
    "slideshow": {
     "slide_type": "subslide"
    }
   },
   "source": [
    "### Kolejność ważności attrybutów\n",
    "1. Deskryptory\n",
    "2. Atrybuty instancji\n",
    "3. non-data descriptors, czyli deskryptory tylko z `__get__`\n",
    "4. `__getattribute__`, jeśli zaimplementowana"
   ]
  },
  {
   "cell_type": "markdown",
   "metadata": {
    "slideshow": {
     "slide_type": "subslide"
    }
   },
   "source": [
    "### Podsumowanie\n",
    "* deskryptory są wywoływane przez `__getattribute__()`\n",
    "* nadpisanie `__getattribute__()` spowoduje brak wywoływania deskryptora\n",
    "* różnica w sposobie wywołania dla obiektu i klasy\n",
    "* data descriptors zawsze nadpisują `dict` instancji\n",
    "* non-data descriptors mogą być nadpisane przez atrybut instancji"
   ]
  },
  {
   "cell_type": "markdown",
   "metadata": {
    "slideshow": {
     "slide_type": "slide"
    }
   },
   "source": [
    "<h1><center>?</center></h1>"
   ]
  },
  {
   "cell_type": "code",
   "execution_count": null,
   "metadata": {
    "slideshow": {
     "slide_type": "fragment"
    }
   },
   "outputs": [],
   "source": [
    "def foo():\n",
    "    pass\n",
    "\n",
    "dir(foo)"
   ]
  },
  {
   "cell_type": "code",
   "execution_count": null,
   "metadata": {
    "collapsed": true,
    "slideshow": {
     "slide_type": "subslide"
    }
   },
   "outputs": [],
   "source": [
    "class A():\n",
    "    def __init__(self, x):\n",
    "        self.x = x\n",
    "    \n",
    "    def f(*args):\n",
    "        print(args)\n",
    "        if len(args) > 0:\n",
    "            print(args[0].x)\n",
    "        print(\"foo\")\n",
    "        \n",
    "A.f()\n",
    "#A(5).f()"
   ]
  }
 ],
 "metadata": {
  "celltoolbar": "Slideshow",
  "kernelspec": {
   "display_name": "Python 3",
   "language": "python",
   "name": "python3"
  },
  "language_info": {
   "codemirror_mode": {
    "name": "ipython",
    "version": 3
   },
   "file_extension": ".py",
   "mimetype": "text/x-python",
   "name": "python",
   "nbconvert_exporter": "python",
   "pygments_lexer": "ipython3",
   "version": "3.6.2"
  }
 },
 "nbformat": 4,
 "nbformat_minor": 2
}
