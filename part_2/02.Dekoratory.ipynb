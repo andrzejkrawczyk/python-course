{
 "cells": [
  {
   "cell_type": "markdown",
   "metadata": {
    "slideshow": {
     "slide_type": "slide"
    }
   },
   "source": [
    "# Dekoratory\n",
    "\n",
    "* obiekty, które są callable\n",
    "* specjalna składnia `@`\n",
    "* modyfikacje runtime funkcji, metod, klas\n",
    "* od wersji Python 2.4\n",
    "* implementacja w formie funkcji albo klasy"
   ]
  },
  {
   "cell_type": "code",
   "execution_count": null,
   "metadata": {
    "slideshow": {
     "slide_type": "subslide"
    }
   },
   "outputs": [],
   "source": [
    "def greetings(f):\n",
    "    print(f)\n",
    "    def wrapper(*args, **kwargs):\n",
    "        return f(*args, **kwargs)\n",
    "    \n",
    "    return wrapper\n",
    "    \n",
    "@greetings    \n",
    "def foo(a, b):\n",
    "    print(a, b)\n",
    "    print(\"Foo function\")\n",
    "    \n",
    "def bar():\n",
    "    pass\n",
    "    \n",
    "foo(4, 5)\n",
    "print(foo)\n",
    "print(bar)"
   ]
  },
  {
   "cell_type": "code",
   "execution_count": null,
   "metadata": {
    "slideshow": {
     "slide_type": "subslide"
    }
   },
   "outputs": [],
   "source": [
    "def greetings(a, b, *args, **kwargs):\n",
    "    print(\"parametry funkcji tworzącej dekorator: \", a, b, args, kwargs)\n",
    "    def wrapper(f):\n",
    "        def inner_wrapper(*args, **kwargs):\n",
    "            print(\"dekorator foo mówi: \", \"Hello world!\")\n",
    "            print(\"parametry przekazane do foo: \", args, kwargs)\n",
    "            return f(*args, **kwargs)\n",
    "        return inner_wrapper\n",
    "    \n",
    "    return wrapper\n",
    "    \n",
    "@greetings(1, 2, 3, liczba10=10, liczba20=20)  \n",
    "def foo(a, b):\n",
    "    print(a, b)\n",
    "    print(\"Foo function\")\n",
    "    \n",
    "def bar():\n",
    "    pass\n",
    "    \n",
    "foo(4, 5)\n",
    "print(foo)\n",
    "print(bar)"
   ]
  },
  {
   "cell_type": "markdown",
   "metadata": {
    "slideshow": {
     "slide_type": "subslide"
    }
   },
   "source": [
    "# moduł functools\n",
    "* Zawiera funkcje, zwracające funkcje albo działające na funkcjach\n",
    "* wiele przydatnych zaimplementowanych rozwiązań\n",
    "* wrapper_update i wraps, signal dispatch, lru_cache, partial"
   ]
  },
  {
   "cell_type": "markdown",
   "metadata": {
    "slideshow": {
     "slide_type": "subslide"
    }
   },
   "source": [
    "# wraps\n",
    "* dekorator na update_wrapper\n",
    "* `functools.update_wrapper(wrapper, wrapped, assigned=WRAPPER_ASSIGNMENTS, updated=WRAPPER_UPDATES)`\n",
    "* `__module__, __name__, __qualname__, __annotations__ and __doc__` wrapper assignemnts\n",
    "* ` __dict__` wrapper updates"
   ]
  },
  {
   "cell_type": "code",
   "execution_count": null,
   "metadata": {
    "slideshow": {
     "slide_type": "subslide"
    }
   },
   "outputs": [],
   "source": [
    "from functools import wraps\n",
    "\n",
    "def greetings(f):\n",
    "    \n",
    "    @wraps(f)\n",
    "    def wrapper(*args, **kwargs):\n",
    "        print(\"Parametry przekazane do nowej funkcji: \", args, kwargs)\n",
    "        return f(*args, **kwargs)\n",
    "    \n",
    "    return wrapper\n",
    "    \n",
    "@greetings    \n",
    "def foo(a, b):\n",
    "    \"\"\"Docstring funkcji foo\"\"\"\n",
    "    print(a, b)\n",
    "    print(\"Foo function\")\n",
    "    \n",
    "foo(4, 5)\n",
    "print(foo.__wrapped__)\n",
    "print(foo)\n",
    "print(foo.__doc__)"
   ]
  },
  {
   "cell_type": "code",
   "execution_count": null,
   "metadata": {
    "slideshow": {
     "slide_type": "subslide"
    }
   },
   "outputs": [],
   "source": [
    "def attrs(**kwargs):\n",
    "    def decorate(f):\n",
    "        for k in kwargs:\n",
    "            setattr(f, k, kwargs[k])\n",
    "        return f\n",
    "    return decorate\n",
    "\n",
    "@attrs(version=\"1.0\", author=\"Andrzej Krawczyk\")\n",
    "def foo():\n",
    "    print(\"Hi!\")\n",
    "    \n",
    "print(foo.version)\n",
    "print(foo.author)\n",
    "print(foo())"
   ]
  },
  {
   "cell_type": "code",
   "execution_count": null,
   "metadata": {
    "slideshow": {
     "slide_type": "subslide"
    }
   },
   "outputs": [],
   "source": [
    "def attrs(a, b, *args, **kwargs):\n",
    "    print(a, b, args, kwargs)\n",
    "    def decorate(f):\n",
    "        print(f)\n",
    "        for k in kwargs:\n",
    "            setattr(f, k, kwargs[k])\n",
    "        return f\n",
    "    return decorate\n",
    "\n",
    "@attrs(1, 2, 3, version=\"1.0\", author=\"Andrzej Krawczyk\")\n",
    "def foo():\n",
    "    print(\"Hi!\")\n",
    "    \n",
    "print(foo.version)\n",
    "print(foo.author)\n",
    "print(foo())"
   ]
  },
  {
   "cell_type": "code",
   "execution_count": null,
   "metadata": {
    "slideshow": {
     "slide_type": "subslide"
    }
   },
   "outputs": [],
   "source": [
    "class greetings():\n",
    "    def __init__(self, f):\n",
    "        self.f = f\n",
    "    \n",
    "    \n",
    "    def __call__(self, *args, **kwargs):\n",
    "        print(\"pozdrowienia z dekoratora w formie klasy\", self.f)\n",
    "        return self.f(*args, **kwargs)\n",
    "    \n",
    "    \n",
    "@greetings    \n",
    "def foo(a, b):\n",
    "    print(a, b)\n",
    "    print(\"Foo function\")\n",
    "    \n",
    "def bar():\n",
    "    pass\n",
    "    \n",
    "foo(4, 5)\n",
    "print(foo)\n",
    "print(bar)"
   ]
  },
  {
   "cell_type": "code",
   "execution_count": null,
   "metadata": {
    "slideshow": {
     "slide_type": "subslide"
    }
   },
   "outputs": [],
   "source": [
    "from functools import wraps\n",
    "\n",
    "class greetings():\n",
    "    def __init__(self, a, b, c):\n",
    "        self.a = a\n",
    "        self.b = b\n",
    "        self.c = c\n",
    "    \n",
    "    def __call__(self, f, *args, **kwargs):\n",
    "        @wraps(f)\n",
    "        def wrapper(*args, **kwargs):\n",
    "            print(\"pozdrowienia z dekoratora w formie klasy\", f)\n",
    "            print(self.a, self.b, self.c)\n",
    "            return f(*args, **kwargs)\n",
    "        return wrapper\n",
    "    \n",
    "    \n",
    "@greetings(\"ala\", \"ma\", \"kota\")    \n",
    "def foo(a, b):\n",
    "    print(\"Foo function\", a, b)\n",
    "    \n",
    "def bar():\n",
    "    pass\n",
    "    \n",
    "foo(4, 5)\n",
    "print(foo)\n",
    "print(bar)"
   ]
  }
 ],
 "metadata": {
  "celltoolbar": "Slideshow",
  "kernelspec": {
   "display_name": "Python 3",
   "language": "python",
   "name": "python3"
  },
  "language_info": {
   "codemirror_mode": {
    "name": "ipython",
    "version": 3
   },
   "file_extension": ".py",
   "mimetype": "text/x-python",
   "name": "python",
   "nbconvert_exporter": "python",
   "pygments_lexer": "ipython3",
   "version": "3.6.2"
  }
 },
 "nbformat": 4,
 "nbformat_minor": 2
}
