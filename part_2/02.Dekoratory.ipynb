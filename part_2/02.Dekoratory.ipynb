{
 "cells": [
  {
   "cell_type": "markdown",
   "metadata": {
    "slideshow": {
     "slide_type": "slide"
    }
   },
   "source": [
    "# Dekoratory\n",
    "\n",
    "* obiekty, które są callable\n",
    "* specjalna składnia `@`\n",
    "* modyfikacje runtime funkcji, metod, klas\n",
    "* od wersji Python 2.4\n",
    "* implementacja w formie funkcji albo klasy"
   ]
  },
  {
   "cell_type": "code",
   "execution_count": null,
   "metadata": {
    "slideshow": {
     "slide_type": "subslide"
    }
   },
   "outputs": [],
   "source": [
    "def greetings(f):\n",
    "    print(f)\n",
    "    def wrapper(*args, **kwargs):\n",
    "        return f(*args, **kwargs)\n",
    "    \n",
    "    return wrapper\n",
    "    \n",
    "@greetings    \n",
    "def foo(a, b):\n",
    "    print(a, b)\n",
    "    print(\"Foo function\")\n",
    "    \n",
    "def bar():\n",
    "    pass\n",
    "    \n",
    "foo(4, 5)\n",
    "print(foo)\n",
    "print(bar)"
   ]
  },
  {
   "cell_type": "code",
   "execution_count": null,
   "metadata": {
    "slideshow": {
     "slide_type": "subslide"
    }
   },
   "outputs": [],
   "source": [
    "def greetings(a, b, *args, **kwargs):\n",
    "    print(\"parametry funkcji tworzącej dekorator: \", a, b, args, kwargs)\n",
    "    def wrapper(f):\n",
    "        def inner_wrapper(*args, **kwargs):\n",
    "            print(\"dekorator foo mówi: \", \"Hello world!\")\n",
    "            print(\"parametry przekazane do foo: \", args, kwargs)\n",
    "            return f(*args, **kwargs)\n",
    "        return inner_wrapper\n",
    "    \n",
    "    return wrapper\n",
    "    \n",
    "@greetings(1, 2, 3, liczba10=10, liczba20=20)  \n",
    "def foo(a, b):\n",
    "    print(a, b)\n",
    "    print(\"Foo function\")\n",
    "    \n",
    "def bar():\n",
    "    pass\n",
    "    \n",
    "foo(4, 5)\n",
    "print(foo)\n",
    "print(bar)"
   ]
  },
  {
   "cell_type": "code",
   "execution_count": null,
   "metadata": {
    "slideshow": {
     "slide_type": "subslide"
    }
   },
   "outputs": [],
   "source": [
    "def greetings(f):\n",
    "    def wrapper(*args, **kwargs):\n",
    "        print(\"greetings\")\n",
    "        f(*args, **kwargs)\n",
    "    return wrapper\n",
    "\n",
    "def hello(f):\n",
    "    def wrapper(*args, **kwargs):\n",
    "        print(\"hello world\")\n",
    "        f(*args, **kwargs)\n",
    "    return wrapper\n",
    "\n",
    "@greetings\n",
    "@hello\n",
    "def foo():\n",
    "    print(\"foo\")\n",
    "    \n",
    "foo()"
   ]
  },
  {
   "cell_type": "markdown",
   "metadata": {
    "slideshow": {
     "slide_type": "slide"
    }
   },
   "source": [
    "# moduł functools\n",
    "* Zawiera funkcje, zwracające funkcje albo działające na funkcjach\n",
    "* wiele przydatnych zaimplementowanych rozwiązań\n",
    "* wrapper_update i wraps, signal dispatch, lru_cache, partial"
   ]
  },
  {
   "cell_type": "markdown",
   "metadata": {
    "slideshow": {
     "slide_type": "slide"
    }
   },
   "source": [
    "# wraps\n",
    "* dekorator na update_wrapper\n",
    "* `functools.update_wrapper(wrapper, wrapped, assigned=WRAPPER_ASSIGNMENTS, updated=WRAPPER_UPDATES)`\n",
    "* `__module__, __name__, __qualname__, __annotations__ and __doc__` wrapper assignemnts\n",
    "* ` __dict__` wrapper updates"
   ]
  },
  {
   "cell_type": "code",
   "execution_count": null,
   "metadata": {
    "slideshow": {
     "slide_type": "subslide"
    }
   },
   "outputs": [],
   "source": [
    "from functools import wraps\n",
    "\n",
    "def greetings(f):\n",
    "    @wraps(f)\n",
    "    def wrapper(*args, **kwargs):\n",
    "        print(\"Parametry przekazane do nowej funkcji: \", args, kwargs)\n",
    "        return f(*args, **kwargs)\n",
    "    \n",
    "    return wrapper\n",
    "    \n",
    "@greetings    \n",
    "def foo(a, b):\n",
    "    \"\"\"Docstring funkcji foo\"\"\"\n",
    "    print(a, b)\n",
    "    print(\"Foo function\")\n",
    "    \n",
    "foo(4, 5)\n",
    "print(foo.__wrapped__)\n",
    "print(foo)\n",
    "print(foo.__doc__)"
   ]
  },
  {
   "cell_type": "code",
   "execution_count": null,
   "metadata": {
    "slideshow": {
     "slide_type": "subslide"
    }
   },
   "outputs": [],
   "source": [
    "def attrs(**kwargs):\n",
    "    def decorate(f):\n",
    "        for k in kwargs:\n",
    "            setattr(f, k, kwargs[k])\n",
    "        return f\n",
    "    return decorate\n",
    "\n",
    "@attrs(version=\"1.0\", author=\"Andrzej Krawczyk\")\n",
    "def foo():\n",
    "    print(\"Hi!\")\n",
    "    \n",
    "print(foo.version)\n",
    "print(foo.author)\n",
    "print(foo())"
   ]
  },
  {
   "cell_type": "code",
   "execution_count": null,
   "metadata": {
    "slideshow": {
     "slide_type": "subslide"
    }
   },
   "outputs": [],
   "source": [
    "class greetings():\n",
    "    def __init__(self, f):\n",
    "        self.f = f\n",
    "    \n",
    "    def __call__(self, *args, **kwargs):\n",
    "        print(\"pozdrowienia z dekoratora w formie klasy\", self.f)\n",
    "        return self.f(*args, **kwargs)\n",
    "    \n",
    "    \n",
    "@greetings    \n",
    "def foo(a, b):\n",
    "    print(a, b)\n",
    "    print(\"Foo function\")\n",
    "    \n",
    "def bar():\n",
    "    pass\n",
    "    \n",
    "foo(4, 5)\n",
    "print(foo)\n",
    "print(bar)"
   ]
  },
  {
   "cell_type": "code",
   "execution_count": null,
   "metadata": {
    "slideshow": {
     "slide_type": "subslide"
    }
   },
   "outputs": [],
   "source": [
    "from functools import wraps\n",
    "\n",
    "class greetings():\n",
    "    def __init__(self, a, b, c):\n",
    "        self.a = a\n",
    "        self.b = b\n",
    "        self.c = c\n",
    "    \n",
    "    def __call__(self, f, *args, **kwargs):\n",
    "        @wraps(f)\n",
    "        def wrapper(*args, **kwargs):\n",
    "            print(\"pozdrowienia z dekoratora w formie klasy\", f)\n",
    "            print(self.a, self.b, self.c)\n",
    "            return f(*args, **kwargs)\n",
    "        return wrapper\n",
    "    \n",
    "    \n",
    "@greetings(\"ala\", \"ma\", \"kota\")    \n",
    "def foo(a, b):\n",
    "    print(\"Foo function\", a, b)\n",
    "    \n",
    "def bar():\n",
    "    pass\n",
    "    \n",
    "foo(4, 5)\n",
    "print(foo)\n",
    "print(bar)"
   ]
  },
  {
   "cell_type": "markdown",
   "metadata": {
    "collapsed": true,
    "slideshow": {
     "slide_type": "slide"
    }
   },
   "source": [
    "# singledispatch\n",
    "* dekorator pozwalający symulować przeciążenia funkcji\n",
    "* przeciążenie tylko na pierwszym argumencie funkcji\n",
    "* metoda `register` - rejestrowanie typów z implementacjami funkcji"
   ]
  },
  {
   "cell_type": "code",
   "execution_count": null,
   "metadata": {
    "slideshow": {
     "slide_type": "subslide"
    }
   },
   "outputs": [],
   "source": [
    "from functools import singledispatch\n",
    "\n",
    "@singledispatch\n",
    "def suma(arg):\n",
    "    print(\"inicjalizacja sumy\")\n",
    "    \n",
    "@suma.register(tuple)\n",
    "def _(arg):\n",
    "    print(\"suma dla krotki\", arg)\n",
    "    return arg[0] + arg[1]\n",
    "\n",
    "@suma.register(list)\n",
    "def _(arg):\n",
    "    print(\"suma dla listy\", arg)\n",
    "    return sum(arg)\n",
    "\n",
    "@suma.register(int)\n",
    "@suma.register(str)\n",
    "def _(arg):\n",
    "    print(\"dla int lub str\", arg)\n",
    "    \n",
    "print(\"int: \", suma(1))\n",
    "print(\"str: \", suma(\"1\"))\n",
    "print(\"krotka: \", suma((1, 2)))\n",
    "print(\"lista: \", suma([1, 2, 3, 4]))"
   ]
  },
  {
   "cell_type": "code",
   "execution_count": null,
   "metadata": {
    "slideshow": {
     "slide_type": "subslide"
    }
   },
   "outputs": [],
   "source": [
    "print(suma.dispatch(int))\n",
    "print(suma.registry)"
   ]
  },
  {
   "cell_type": "markdown",
   "metadata": {
    "slideshow": {
     "slide_type": "slide"
    }
   },
   "source": [
    "# lru_cache (least recently used)\n",
    "* implementacja dekoratora do cache'owania ostatnich wynków\n",
    "* atrybut `maxsize` - zalecana liczba, która jest n**2\n",
    "* atrybut `typed` (od v3.3) - gdy ustawiony na true, rozróżnia typy np. `foo(3) !=  foo(3.0)`\n",
    "* `cache_info()` - metoda zwracająca  namedtuple(`hits, misses, maxsize, currsize`)\n",
    "* `cache_clear()` - czyszczenie cache'a"
   ]
  },
  {
   "cell_type": "code",
   "execution_count": null,
   "metadata": {
    "collapsed": true,
    "slideshow": {
     "slide_type": "subslide"
    }
   },
   "outputs": [],
   "source": [
    "from functools import lru_cache\n",
    "import requests\n",
    "\n",
    "@lru_cache(maxsize=32, typed=False)\n",
    "def get_web(url):\n",
    "    return requests.get(url=url)"
   ]
  },
  {
   "cell_type": "code",
   "execution_count": null,
   "metadata": {
    "slideshow": {
     "slide_type": "fragment"
    }
   },
   "outputs": [],
   "source": [
    "print(get_web(\"http://www.trojmiasto.pl\"))\n",
    "print(get_web.cache_info())"
   ]
  },
  {
   "cell_type": "markdown",
   "metadata": {
    "slideshow": {
     "slide_type": "slide"
    }
   },
   "source": [
    "# partial\n",
    "* dekorator do tworzenia funkcji z wypełnionymi parametrami\n",
    "* upraszczanie sygnatury funkcji"
   ]
  },
  {
   "cell_type": "code",
   "execution_count": null,
   "metadata": {
    "slideshow": {
     "slide_type": "subslide"
    }
   },
   "outputs": [],
   "source": [
    "from functools import partial\n",
    "from operator import add\n",
    "\n",
    "def foo(a, b, d=5, e=10):\n",
    "    print(a, b, d, e)\n",
    "\n",
    "add_to_five = partial(add, 5)\n",
    "print(add_to_five(2))\n",
    "print(add_to_five(10))\n",
    "\n",
    "p1 = partial(foo, d=-5)\n",
    "p2 = partial(p1, 5)\n",
    "p2(-3, e=-100)"
   ]
  }
 ],
 "metadata": {
  "celltoolbar": "Slideshow",
  "kernelspec": {
   "display_name": "Python 3",
   "language": "python",
   "name": "python3"
  },
  "language_info": {
   "codemirror_mode": {
    "name": "ipython",
    "version": 3
   },
   "file_extension": ".py",
   "mimetype": "text/x-python",
   "name": "python",
   "nbconvert_exporter": "python",
   "pygments_lexer": "ipython3",
   "version": "3.6.2"
  }
 },
 "nbformat": 4,
 "nbformat_minor": 2
}
