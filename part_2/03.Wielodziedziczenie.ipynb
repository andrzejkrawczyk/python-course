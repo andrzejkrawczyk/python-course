{
 "cells": [
  {
   "cell_type": "code",
   "execution_count": null,
   "metadata": {
    "slideshow": {
     "slide_type": "slide"
    }
   },
   "outputs": [],
   "source": [
    "class Adam(): pass\n",
    "class Ewa(): pass\n",
    "class Eugeniusz(Adam, Ewa): pass\n",
    "class Genowefa(Adam, Ewa): pass\n",
    "class Maksymilian(Adam, Ewa): pass\n",
    "class Agnieszka(Adam, Ewa): pass\n",
    "\n",
    "class Marek(Eugeniusz, Genowefa): pass\n",
    "class Henryka(Maksymilian, Agnieszka): pass\n",
    "class Andrzej(Marek, Henryka): pass\n",
    "\n",
    "help(Andrzej)\n",
    "Andrzej.mro()"
   ]
  },
  {
   "cell_type": "markdown",
   "metadata": {
    "slideshow": {
     "slide_type": "subslide"
    }
   },
   "source": [
    "# Wielodziedziczenie\n",
    "* stare i nowe klasy w Python2\n",
    "* dziedziczenie - technika do wykorzystywania ponownie kodu\n",
    "* Deterministyczny algorytm C3 linearization\n",
    "* słowo kluczowe `super`\n",
    "* `classname.mro()` i `help(classname)`\n",
    "* technika delegacji pracy do innego obiektu\n",
    "* specjalizowanie działania klas\n",
    "* mixin classes - budowanie obiektu z komponentów"
   ]
  },
  {
   "cell_type": "code",
   "execution_count": null,
   "metadata": {
    "slideshow": {
     "slide_type": "subslide"
    }
   },
   "outputs": [],
   "source": [
    "class DostawcaBrazu(object):\n",
    "    def pobierz_material(self):\n",
    "        return \"Braz\"\n",
    "        \n",
    "class Kowal():\n",
    "    \n",
    "    def stworz(self, *przedmioty):\n",
    "        material = DostawcaBrazu().pobierz_material()\n",
    "        print(\"Zaczynam prace\")\n",
    "        for przedmiot in przedmioty:\n",
    "            print(\"wykuwam z {0}: \".format(material), przedmiot)\n",
    "        print(\"Skonczylem prace\")\n",
    "            \n",
    "Kowal().stworz(\"tarcza\", \"miecz\")"
   ]
  },
  {
   "cell_type": "code",
   "execution_count": null,
   "metadata": {
    "slideshow": {
     "slide_type": "subslide"
    }
   },
   "outputs": [],
   "source": [
    "class DostawcaBrazu(object):\n",
    "    def pobierz_material(self):\n",
    "        return \"Braz\"\n",
    "        \n",
    "class Kowal(object):\n",
    "    \n",
    "    def stworz(self, *przedmioty):\n",
    "        material = super().pobierz_material()\n",
    "        print(\"Zaczynam prace\")\n",
    "        for przedmiot in przedmioty:\n",
    "            print(\"wykuwam z {0}: \".format(material), przedmiot)\n",
    "        print(\"Skonczylem prace\")\n",
    "        \n",
    "class BrazKowal(Kowal, DostawcaBrazu): \n",
    "    pass\n",
    "            \n",
    "BrazKowal().stworz(\"tarcza\", \"miecz\")"
   ]
  },
  {
   "cell_type": "code",
   "execution_count": null,
   "metadata": {
    "slideshow": {
     "slide_type": "subslide"
    }
   },
   "outputs": [],
   "source": [
    "class DostawcaStali(object):\n",
    "    \n",
    "    def pobierz_material(self):\n",
    "        return \"Stal\"\n",
    "        \n",
    "        \n",
    "class StalowyKowal(Kowal, DostawcaStali):\n",
    "    pass\n",
    "\n",
    "\n",
    "StalowyKowal().stworz(\"tarcza\", \"miecz\", \"zbroja\")"
   ]
  },
  {
   "cell_type": "code",
   "execution_count": null,
   "metadata": {
    "slideshow": {
     "slide_type": "slide"
    }
   },
   "outputs": [],
   "source": [
    "import requests\n",
    "class PodstawoweOperacje():\n",
    "    \n",
    "    def pobierz_dane_z_internetu(self):\n",
    "        return requests.get(url=\"http://www.trojmiasto.pl\")\n",
    "        \n",
    "    def parsuj_dane(self, dane):\n",
    "        print(\"Parsuje dane\")\n",
    "        print(dane)\n",
    "        return \"Dane sparsowane\"\n",
    "        \n",
    "        \n",
    "class WykonajAsynchronicznaOperacje(PodstawoweOperacje):\n",
    "    \n",
    "    def wykonaj(self):\n",
    "        dane = super().pobierz_dane_z_internetu()\n",
    "        super().parsuj_dane(dane)\n",
    "        \n",
    "WykonajAsynchronicznaOperacje().wykonaj()"
   ]
  },
  {
   "cell_type": "code",
   "execution_count": null,
   "metadata": {
    "slideshow": {
     "slide_type": "subslide"
    }
   },
   "outputs": [],
   "source": [
    "import requests\n",
    "class MockPodstawowychOperacji(PodstawoweOperacje):\n",
    "    \n",
    "    def pobierz_dane_z_internetu(self):\n",
    "        return \"Dane z internetuj\"\n",
    "        \n",
    "    def parsuj_dane(self, dane):\n",
    "        print(\"Parsuje dane\")\n",
    "        print(dane)\n",
    "        return \"Dane sparsowane\"\n",
    "        \n",
    "        \n",
    "class MockWykonajAsynchronicznaOperacje(WykonajAsynchronicznaOperacje, MockPodstawowychOperacji):\n",
    "    pass\n",
    "        \n",
    "MockWykonajAsynchronicznaOperacje().wykonaj()  "
   ]
  },
  {
   "cell_type": "code",
   "execution_count": null,
   "metadata": {
    "slideshow": {
     "slide_type": "slide"
    }
   },
   "outputs": [],
   "source": [
    "class DoKwadratuMixin():\n",
    "    \n",
    "    def do_kwadratu(self, liczba):\n",
    "        return liczba ** 2\n",
    "    \n",
    "class ObiektMatematyczny(DoKwadratuMixin):\n",
    "    pass\n",
    "\n",
    "print(ObiektMatematyczny().do_kwadratu(4))"
   ]
  },
  {
   "cell_type": "code",
   "execution_count": null,
   "metadata": {
    "slideshow": {
     "slide_type": "slide"
    }
   },
   "outputs": [],
   "source": [
    "class ModelCacheMixin(object):\n",
    "    CACHE_PREFIX = None\n",
    "\n",
    "    @classmethod\n",
    "    def set_cache(cls, id, value, timeout=30*60):\n",
    "        cache.set(cls.CACHE_PREFIX % id, value, timeout=timeout)\n",
    "\n",
    "    @classmethod\n",
    "    def get_cached(cls, id, timeout=30*60):\n",
    "        cached_object = cache.get(cls.CACHE_PREFIX % id)\n",
    "        if cached_object:\n",
    "            return cached_object\n",
    "        else:\n",
    "            entity = cls.objects.get(id=id)\n",
    "            cls.set_cache(id, entity, timeout=timeout)\n",
    "            return entity\n",
    "\n",
    "    @classmethod\n",
    "    def get_cache(cls, id):\n",
    "        return cache.get(cls.CACHE_PREFIX % id)\n",
    "\n",
    "    @classmethod\n",
    "    def get_cached_or_none(cls, id):\n",
    "        try:\n",
    "            return cls.get_cached(id)\n",
    "        except cls.DoesNotExist:\n",
    "            return None\n",
    "\n",
    "    @classmethod\n",
    "    def get_cached_or_404(cls, id):\n",
    "        try:\n",
    "            return cls.get_cached(id)\n",
    "        except cls.DoesNotExist:\n",
    "            raise Http404()\n",
    "\n",
    "    @classmethod\n",
    "    def cache_delete(cls, id):\n",
    "        cache.delete(cls.CACHE_PREFIX % id)"
   ]
  }
 ],
 "metadata": {
  "celltoolbar": "Slideshow",
  "kernelspec": {
   "display_name": "Python 3",
   "language": "python",
   "name": "python3"
  },
  "language_info": {
   "codemirror_mode": {
    "name": "ipython",
    "version": 3
   },
   "file_extension": ".py",
   "mimetype": "text/x-python",
   "name": "python",
   "nbconvert_exporter": "python",
   "pygments_lexer": "ipython3",
   "version": "3.6.2"
  }
 },
 "nbformat": 4,
 "nbformat_minor": 2
}
