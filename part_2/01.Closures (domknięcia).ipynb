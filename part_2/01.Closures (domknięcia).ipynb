{
 "cells": [
  {
   "cell_type": "markdown",
   "metadata": {
    "slideshow": {
     "slide_type": "slide"
    }
   },
   "source": [
    "# Closures\n",
    "* mechanizm, gdzie funkcja wewnętrzna zapamiętuje i ma dostęp do lokalnego środowiska funkcji domykającej\n",
    "* definicja zmiennych lokalnych dla funkcji wewnętrznej\n",
    "* pozbywanie się nadmiarowych zmiennych o zbyt dużym scopie\n",
    "* słowo kluczowe `nonlocal` - pozwalające na odwoływanie się do już istniejących zmiennych, nie globalnych. Przeszukiwany jest scope, który jest najbliższym zamykającym dla istniejącego\n",
    "* środowisko closure'a zapisywane w attrybucie `__closure__`"
   ]
  },
  {
   "cell_type": "code",
   "execution_count": null,
   "metadata": {
    "slideshow": {
     "slide_type": "subslide"
    }
   },
   "outputs": [],
   "source": [
    "def make_counter():\n",
    "    i = 0\n",
    "    def counter():\n",
    "        print(i)\n",
    "    return counter\n",
    "\n",
    "\n",
    "ct1 = make_counter()\n",
    "ct2 = make_counter()\n",
    "\n",
    "ct1()\n",
    "ct1()\n",
    "ct2()\n",
    "ct2()"
   ]
  },
  {
   "cell_type": "code",
   "execution_count": null,
   "metadata": {
    "slideshow": {
     "slide_type": "subslide"
    }
   },
   "outputs": [],
   "source": [
    "def make_counter():\n",
    "    i = 0\n",
    "    def counter():\n",
    "        print(i)\n",
    "        i += 1\n",
    "    return counter\n",
    "\n",
    "\n",
    "ct1 = make_counter()\n",
    "ct2 = make_counter()\n",
    "\n",
    "ct1(), ct1(), ct2(), ct2()"
   ]
  },
  {
   "cell_type": "code",
   "execution_count": null,
   "metadata": {
    "slideshow": {
     "slide_type": "subslide"
    }
   },
   "outputs": [],
   "source": [
    "def make_counter():\n",
    "    i = 0\n",
    "    def counter():\n",
    "        nonlocal i\n",
    "        print(i)\n",
    "        i += 1\n",
    "    return counter\n",
    "\n",
    "\n",
    "ct1 = make_counter()\n",
    "ct2 = make_counter()\n",
    "\n",
    "ct1()\n",
    "ct1()\n",
    "ct2()\n",
    "ct2()"
   ]
  },
  {
   "cell_type": "code",
   "execution_count": null,
   "metadata": {
    "slideshow": {
     "slide_type": "subslide"
    }
   },
   "outputs": [],
   "source": [
    "def make_counter():\n",
    "    i = 0\n",
    "    b = 0\n",
    "    def counter():\n",
    "        nonlocal i, b\n",
    "        print(i, b)\n",
    "        i += 1\n",
    "        b -= 1\n",
    "    return counter\n",
    "\n",
    "\n",
    "ct1 = make_counter()\n",
    "print(\", \".join(dir(ct1)))\n",
    "print(ct1.__closure__)\n",
    "ct1()\n",
    "ct1()\n",
    "ct1.__closure__ = (-5, 5)"
   ]
  }
 ],
 "metadata": {
  "celltoolbar": "Slideshow",
  "kernelspec": {
   "display_name": "Python 3",
   "language": "python",
   "name": "python3"
  },
  "language_info": {
   "codemirror_mode": {
    "name": "ipython",
    "version": 3
   },
   "file_extension": ".py",
   "mimetype": "text/x-python",
   "name": "python",
   "nbconvert_exporter": "python",
   "pygments_lexer": "ipython3",
   "version": "3.6.2"
  }
 },
 "nbformat": 4,
 "nbformat_minor": 2
}
