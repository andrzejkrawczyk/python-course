{
 "cells": [
  {
   "cell_type": "markdown",
   "metadata": {},
   "source": [
    "Napisz symulator monte carlo do gry blackjak czy opłaca się pobrać kolejną kartę.\n",
    "\n",
    "Blackjack:\n",
    "\n",
    "* wygrywa gracz, który ma najbliższą wartość do 21\n",
    "* karty od dwójki do dziesiątki warte są tyle ile karta\n",
    "* waltem, dama, król -> 10 pkt\n",
    "* As ma wartość 1 lub 11, co lepsze dla gracza\n",
    "* gracz dostaje dwie karty odkryte\n",
    "* krupier dostaje 2 karty, 1 odkryta\n",
    "* gra się na 1-8 talii, ilość talii powinna być sparametryzowana\n",
    "* Krupier musi grać według następujących przepisów: wziąć kartę, jeżeli ma 16 punktów lub mniej i nie brać więcej kart, gdy ma 17 punktów lub więcej (niezależnie, ile punktów ma gracz). Wygrywa ten, który ma sumę punktów bliższą lub równą 21.\n",
    "* zasady z: https://pl.wikipedia.org/wiki/Blackjack"
   ]
  }
 ],
 "metadata": {
  "kernelspec": {
   "display_name": "Python 3",
   "language": "python",
   "name": "python3"
  },
  "language_info": {
   "codemirror_mode": {
    "name": "ipython",
    "version": 3
   },
   "file_extension": ".py",
   "mimetype": "text/x-python",
   "name": "python",
   "nbconvert_exporter": "python",
   "pygments_lexer": "ipython3",
   "version": "3.7.3"
  }
 },
 "nbformat": 4,
 "nbformat_minor": 2
}
