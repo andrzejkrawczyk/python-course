{
 "cells": [
  {
   "cell_type": "markdown",
   "metadata": {
    "slideshow": {
     "slide_type": "slide"
    }
   },
   "source": [
    "# Funkcje"
   ]
  },
  {
   "cell_type": "markdown",
   "metadata": {
    "slideshow": {
     "slide_type": "fragment"
    }
   },
   "source": [
    "* tworzenie przez słowo kluczowe def"
   ]
  },
  {
   "cell_type": "markdown",
   "metadata": {
    "slideshow": {
     "slide_type": "fragment"
    }
   },
   "source": [
    "* funkcje to obiekty, Callable"
   ]
  },
  {
   "cell_type": "markdown",
   "metadata": {
    "slideshow": {
     "slide_type": "fragment"
    }
   },
   "source": [
    "* nazwa funkcji wskazuje na obiekt"
   ]
  },
  {
   "cell_type": "markdown",
   "metadata": {
    "slideshow": {
     "slide_type": "subslide"
    }
   },
   "source": [
    "* dowolna ilość argumentów"
   ]
  },
  {
   "cell_type": "markdown",
   "metadata": {
    "slideshow": {
     "slide_type": "fragment"
    }
   },
   "source": [
    "* dowolna ilość zwracanych argumentów"
   ]
  },
  {
   "cell_type": "markdown",
   "metadata": {
    "slideshow": {
     "slide_type": "fragment"
    }
   },
   "source": [
    "* wykonywane w runtime"
   ]
  },
  {
   "cell_type": "markdown",
   "metadata": {
    "slideshow": {
     "slide_type": "fragment"
    }
   },
   "source": [
    "* domyślnie zwracany argument None"
   ]
  },
  {
   "cell_type": "code",
   "execution_count": null,
   "metadata": {
    "slideshow": {
     "slide_type": "slide"
    }
   },
   "outputs": [],
   "source": [
    "def foo():\n",
    "    pass\n",
    "\n",
    "def suma(a, b):\n",
    "    return a + b\n",
    "\n",
    "print(foo())\n",
    "print(foo)\n",
    "print(suma(5, 10))"
   ]
  },
  {
   "cell_type": "code",
   "execution_count": null,
   "metadata": {
    "slideshow": {
     "slide_type": "subslide"
    }
   },
   "outputs": [],
   "source": [
    "def suma(a, b, c=5, d=10):\n",
    "    return a + b + c + d\n",
    "\n",
    "print(suma(1, 2))"
   ]
  },
  {
   "cell_type": "code",
   "execution_count": null,
   "metadata": {
    "slideshow": {
     "slide_type": "fragment"
    }
   },
   "outputs": [],
   "source": [
    "def suma(a, b, c=5, d=10):\n",
    "    return a + b + c + d\n",
    "\n",
    "print(suma(1, 2, 3))"
   ]
  },
  {
   "cell_type": "code",
   "execution_count": null,
   "metadata": {
    "slideshow": {
     "slide_type": "subslide"
    }
   },
   "outputs": [],
   "source": [
    "def suma(a, b, c=5, d=10):\n",
    "    return a + b + c + d\n",
    "\n",
    "print(suma(1, 2, d=5, c=5))"
   ]
  },
  {
   "cell_type": "code",
   "execution_count": null,
   "metadata": {
    "slideshow": {
     "slide_type": "fragment"
    }
   },
   "outputs": [],
   "source": [
    "def suma(a, b, c=5, d=10):\n",
    "    return a + b + c + d\n",
    "\n",
    "print(suma(1, d=5, c=5))"
   ]
  },
  {
   "cell_type": "code",
   "execution_count": null,
   "metadata": {
    "slideshow": {
     "slide_type": "subslide"
    }
   },
   "outputs": [],
   "source": [
    "def suma(a, b, c=5, d=10):\n",
    "    return a + b + c + d\n",
    "\n",
    "print(suma(1, d=5, e=5))"
   ]
  },
  {
   "cell_type": "code",
   "execution_count": null,
   "metadata": {
    "slideshow": {
     "slide_type": "subslide"
    }
   },
   "outputs": [],
   "source": [
    "def suma(a, b, c=5, d=10):\n",
    "    return a + b + c + d\n",
    "\n",
    "liczby = {\n",
    "    \"c\": 5,\n",
    "    \"d\": 10\n",
    "}\n",
    "print(suma(1, 2, **liczby))"
   ]
  },
  {
   "cell_type": "code",
   "execution_count": null,
   "metadata": {
    "slideshow": {
     "slide_type": "subslide"
    }
   },
   "outputs": [],
   "source": [
    "def suma(a, b, c=5, d=10):\n",
    "    return a + b + c + d\n",
    "\n",
    "liczby = {\n",
    "    \"c\": 5,\n",
    "    \"e\": 10\n",
    "}\n",
    "print(suma(1, 2, **liczby))"
   ]
  },
  {
   "cell_type": "code",
   "execution_count": null,
   "metadata": {
    "slideshow": {
     "slide_type": "subslide"
    }
   },
   "outputs": [],
   "source": [
    "def suma(a, b, **kwargs):\n",
    "    print(kwargs)\n",
    "    return a + b + sum(kwargs.values())\n",
    "\n",
    "liczby = {\n",
    "    \"c\": 5,\n",
    "    \"e\": 10\n",
    "}\n",
    "print(suma(1, 2, **liczby))"
   ]
  },
  {
   "cell_type": "code",
   "execution_count": null,
   "metadata": {
    "slideshow": {
     "slide_type": "subslide"
    }
   },
   "outputs": [],
   "source": [
    "def suma(a, b, **kwargs):\n",
    "    print(kwargs)\n",
    "    return a + b + sum(kwargs.values())\n",
    "\n",
    "liczby = {\n",
    "    \"c\": 5,\n",
    "    \"e\": 10\n",
    "}\n",
    "\n",
    "print(suma(1, 2, a=5))"
   ]
  },
  {
   "cell_type": "code",
   "execution_count": null,
   "metadata": {
    "slideshow": {
     "slide_type": "subslide"
    }
   },
   "outputs": [],
   "source": [
    "def suma(a, b, **kwargs):\n",
    "    print(kwargs)\n",
    "    return a + b + sum(kwargs.values())\n",
    "\n",
    "liczby = {\n",
    "    \"c\": 5,\n",
    "    \"e\": 10\n",
    "}\n",
    "\n",
    "print(suma(1, 2, liczba1=1, liczba2=2, liczba3=3))"
   ]
  },
  {
   "cell_type": "code",
   "execution_count": null,
   "metadata": {
    "slideshow": {
     "slide_type": "subslide"
    }
   },
   "outputs": [],
   "source": [
    "def suma(a, b, *args, **kwargs):\n",
    "    print(kwargs)\n",
    "    print(args)\n",
    "    return a + b + sum(args) + sum(kwargs.values())\n",
    "\n",
    "liczby = {\n",
    "    \"c\": 5,\n",
    "    \"e\": 10\n",
    "}\n",
    "\n",
    "print(suma(1, 2, 3, liczba1=1, liczba2=2, liczba3=3))"
   ]
  },
  {
   "cell_type": "code",
   "execution_count": null,
   "metadata": {
    "slideshow": {
     "slide_type": "subslide"
    }
   },
   "outputs": [],
   "source": [
    "def suma(a, b, *args, **kwargs):\n",
    "    print(kwargs)\n",
    "    print(args)\n",
    "    return a + b + sum(args) + sum(kwargs.values())\n",
    "\n",
    "liczby = {\n",
    "    \"c\": 5,\n",
    "    \"e\": 10\n",
    "}\n",
    "\n",
    "print(suma(1, 2))"
   ]
  },
  {
   "cell_type": "code",
   "execution_count": null,
   "metadata": {
    "slideshow": {
     "slide_type": "subslide"
    }
   },
   "outputs": [],
   "source": [
    "def akumulator(liczby=[]):\n",
    "    liczby.append(1)\n",
    "    return liczby\n",
    "\n",
    "akumulator()\n",
    "akumulator()\n",
    "print(akumulator())\n",
    "print(akumulator([]))\n",
    "print(akumulator())"
   ]
  },
  {
   "cell_type": "code",
   "execution_count": null,
   "metadata": {
    "slideshow": {
     "slide_type": "subslide"
    }
   },
   "outputs": [],
   "source": [
    "def akumulator(liczby=[]):\n",
    "    liczby.append(1)\n",
    "    return liczby\n",
    "\n",
    "akumulator()\n",
    "akumulator()\n",
    "akumulator()\n",
    "akumulator([])\n",
    "akumulator()\n",
    "print(akumulator.__defaults__)"
   ]
  },
  {
   "cell_type": "code",
   "execution_count": null,
   "metadata": {
    "slideshow": {
     "slide_type": "subslide"
    }
   },
   "outputs": [],
   "source": [
    "def akumulator(liczby=None):\n",
    "    if liczby is None:\n",
    "        liczby = []\n",
    "    liczby.append(1)\n",
    "    return liczby\n",
    "\n",
    "akumulator()\n",
    "akumulator()\n",
    "print(akumulator())\n",
    "print(akumulator([]))\n",
    "print(akumulator())"
   ]
  },
  {
   "cell_type": "code",
   "execution_count": null,
   "metadata": {
    "slideshow": {
     "slide_type": "subslide"
    }
   },
   "outputs": [],
   "source": [
    "def foo():\n",
    "    return 1, 2, 3, 4, 5\n",
    "\n",
    "a, b, c, *d = foo()\n",
    "print(a)\n",
    "print(b)\n",
    "print(c)\n",
    "print(d)"
   ]
  },
  {
   "cell_type": "code",
   "execution_count": null,
   "metadata": {
    "slideshow": {
     "slide_type": "subslide"
    }
   },
   "outputs": [],
   "source": [
    "def foo():\n",
    "    return 1, 2, 3, 4, 5\n",
    "\n",
    "_, *d, _ = foo()\n",
    "print(d)"
   ]
  },
  {
   "cell_type": "code",
   "execution_count": null,
   "metadata": {
    "slideshow": {
     "slide_type": "subslide"
    }
   },
   "outputs": [],
   "source": [
    "def foo():\n",
    "    lista = [1, 2, 3, 4, 5]\n",
    "    return lista\n",
    "\n",
    "a, b, c, *d = foo()\n",
    "print(a)\n",
    "print(b)\n",
    "print(c)\n",
    "print(d)"
   ]
  },
  {
   "cell_type": "code",
   "execution_count": null,
   "metadata": {
    "slideshow": {
     "slide_type": "subslide"
    }
   },
   "outputs": [],
   "source": [
    "x = lambda x: x + 5\n",
    "a = x(10)\n",
    "print(a)"
   ]
  },
  {
   "cell_type": "code",
   "execution_count": null,
   "metadata": {
    "slideshow": {
     "slide_type": "fragment"
    }
   },
   "outputs": [],
   "source": [
    "x = lambda x, y: x + 5 + y\n",
    "a = x(10, 5)\n",
    "print(a)"
   ]
  },
  {
   "cell_type": "code",
   "execution_count": null,
   "metadata": {
    "slideshow": {
     "slide_type": "fragment"
    }
   },
   "outputs": [],
   "source": [
    "x = lambda: 10\n",
    "a = x()\n",
    "print(a)"
   ]
  },
  {
   "cell_type": "markdown",
   "metadata": {
    "slideshow": {
     "slide_type": "slide"
    }
   },
   "source": [
    "# Zasięg zmiennych"
   ]
  },
  {
   "cell_type": "markdown",
   "metadata": {
    "slideshow": {
     "slide_type": "fragment"
    }
   },
   "source": [
    "* Local"
   ]
  },
  {
   "cell_type": "markdown",
   "metadata": {
    "slideshow": {
     "slide_type": "fragment"
    }
   },
   "source": [
    "* Enclosing"
   ]
  },
  {
   "cell_type": "markdown",
   "metadata": {
    "slideshow": {
     "slide_type": "fragment"
    }
   },
   "source": [
    "* Global"
   ]
  },
  {
   "cell_type": "markdown",
   "metadata": {
    "slideshow": {
     "slide_type": "fragment"
    }
   },
   "source": [
    "* Bult-in"
   ]
  },
  {
   "cell_type": "code",
   "execution_count": null,
   "metadata": {
    "slideshow": {
     "slide_type": "subslide"
    }
   },
   "outputs": [],
   "source": [
    "x = 10\n",
    "def foo():\n",
    "    print(x)\n",
    "\n",
    "    \n",
    "def bar():\n",
    "    x = 5\n",
    "    print(x)\n",
    "    \n",
    "def foobar():\n",
    "    global x\n",
    "    x = 1\n",
    "    print(x)\n",
    "foo()\n",
    "bar()\n",
    "print(x)\n",
    "foobar()\n",
    "print(x)"
   ]
  },
  {
   "cell_type": "code",
   "execution_count": null,
   "metadata": {
    "slideshow": {
     "slide_type": "subslide"
    }
   },
   "outputs": [],
   "source": [
    "x = 10\n",
    "class Point():\n",
    "    a = x\n",
    "    print(\":)\")\n",
    "    \n",
    "    def foo(self):\n",
    "        print(self.a)\n",
    "        self.a = 5\n",
    "        print(self.a)\n",
    "        \n",
    "    def bar(self):\n",
    "        print(x)\n",
    "        \n",
    "print(x)\n",
    "Point().foo()\n",
    "print(x)\n",
    "x = 7\n",
    "Point().bar()"
   ]
  }
 ],
 "metadata": {
  "celltoolbar": "Slideshow",
  "kernelspec": {
   "display_name": "Python 3",
   "language": "python",
   "name": "python3"
  },
  "language_info": {
   "codemirror_mode": {
    "name": "ipython",
    "version": 3
   },
   "file_extension": ".py",
   "mimetype": "text/x-python",
   "name": "python",
   "nbconvert_exporter": "python",
   "pygments_lexer": "ipython3",
   "version": "3.6.2"
  }
 },
 "nbformat": 4,
 "nbformat_minor": 2
}
