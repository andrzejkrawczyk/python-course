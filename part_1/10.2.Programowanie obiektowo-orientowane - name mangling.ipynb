{
 "cells": [
  {
   "cell_type": "markdown",
   "metadata": {
    "slideshow": {
     "slide_type": "slide"
    }
   },
   "source": [
    "# Name Mangling\n",
    "* technika do tworzenia lokalnej kopii w scopie klasy\n",
    "* `__nazwa` -> `_classname__nazwa`\n",
    "* pozwala na uniknięcie nadpisania metody w klasach dziedziczących"
   ]
  },
  {
   "cell_type": "code",
   "execution_count": null,
   "metadata": {
    "slideshow": {
     "slide_type": "subslide"
    }
   },
   "outputs": [],
   "source": [
    "class Point():\n",
    "    \"\"\"This is a docstring\"\"\"\n",
    "    \n",
    "    version = \"0.1\"\n",
    "    \n",
    "    def __init__(self, x, y, version=None):\n",
    "        self.x = x\n",
    "        self.y = y\n",
    "        if version is not None:\n",
    "            self.version = version\n",
    "            \n",
    "    def quotient(self):\n",
    "        p = self.x * self.y\n",
    "        return 10 * p\n",
    "        \n",
    "    def double(self):\n",
    "        return self.x * self.y\n",
    "    \n",
    "    def print_version(self):\n",
    "        print(self.version)\n",
    "        \n",
    "p = Point(1, 2)\n",
    "print(p.quotient())"
   ]
  },
  {
   "cell_type": "code",
   "execution_count": null,
   "metadata": {
    "slideshow": {
     "slide_type": "subslide"
    }
   },
   "outputs": [],
   "source": [
    "class Point():\n",
    "    \"\"\"This is a docstring\"\"\"\n",
    "    \n",
    "    version = \"0.1\"\n",
    "    \n",
    "    def __init__(self, x, y, version=None):\n",
    "        self.x = x\n",
    "        self.y = y\n",
    "        if version is not None:\n",
    "            self.version = version\n",
    "            \n",
    "    def quotient(self):\n",
    "        p = self.double()\n",
    "        return 10 * p\n",
    "        \n",
    "    def double(self):\n",
    "        return self.x * self.y\n",
    "    \n",
    "    def print_version(self):\n",
    "        print(self.version)\n",
    "\n",
    "p = Point(1, 2)\n",
    "print(p.quotient())"
   ]
  },
  {
   "cell_type": "code",
   "execution_count": null,
   "metadata": {
    "slideshow": {
     "slide_type": "subslide"
    }
   },
   "outputs": [],
   "source": [
    "class Point3D(Point):\n",
    "    \n",
    "    def __init__(self, x, y, z, version=None):\n",
    "        self.z = z\n",
    "        super().__init__(x, y, version)\n",
    "        \n",
    "    def double(self):\n",
    "        return self.z * self.x * self.y\n",
    "        \n",
    "        \n",
    "p = Point3D(1, 2, 3, \"1\")\n",
    "print(p.quotient())"
   ]
  },
  {
   "cell_type": "code",
   "execution_count": null,
   "metadata": {
    "slideshow": {
     "slide_type": "subslide"
    }
   },
   "outputs": [],
   "source": [
    "class Point():\n",
    "    \"\"\"This is a docstring\"\"\"\n",
    "    \n",
    "    version = \"0.1\"\n",
    "    \n",
    "    def __init__(self, x, y, version=None):\n",
    "        self.x = x\n",
    "        self.y = y\n",
    "        if version is not None:\n",
    "            self.version = version\n",
    "            \n",
    "    def quotient(self):\n",
    "        p = self.__double()\n",
    "        return 10 * p\n",
    "        \n",
    "    def double(self):\n",
    "        return self.x * self.y\n",
    "    \n",
    "    def print_version(self):\n",
    "        print(self.version)\n",
    "        \n",
    "    __double = double\n",
    "\n",
    "print(Point(1, 2).quotient())\n",
    "#print(Point(1, 2).__double)\n",
    "#print(Point.__double)\n",
    "#print(Point._Point__double)"
   ]
  },
  {
   "cell_type": "code",
   "execution_count": null,
   "metadata": {
    "slideshow": {
     "slide_type": "subslide"
    }
   },
   "outputs": [],
   "source": [
    "class Point3D(Point):\n",
    "    \n",
    "    def __init__(self, x, y, z, version=None):\n",
    "        self._z = z\n",
    "        super().__init__(x, y, version)\n",
    "        \n",
    "    def double(self):\n",
    "        return self._z * self.x * self.y\n",
    "        \n",
    "        \n",
    "p = Point3D(1, 2, 3, \"1\")\n",
    "print(p.quotient())"
   ]
  }
 ],
 "metadata": {
  "celltoolbar": "Slideshow",
  "kernelspec": {
   "display_name": "Python 3",
   "language": "python",
   "name": "python3"
  },
  "language_info": {
   "codemirror_mode": {
    "name": "ipython",
    "version": 3
   },
   "file_extension": ".py",
   "mimetype": "text/x-python",
   "name": "python",
   "nbconvert_exporter": "python",
   "pygments_lexer": "ipython3",
   "version": "3.6.2"
  }
 },
 "nbformat": 4,
 "nbformat_minor": 2
}
