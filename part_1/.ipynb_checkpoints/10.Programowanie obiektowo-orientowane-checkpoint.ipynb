{
 "cells": [
  {
   "cell_type": "markdown",
   "metadata": {
    "slideshow": {
     "slide_type": "slide"
    }
   },
   "source": [
    "# Programowanie obiektowo-orientowane"
   ]
  },
  {
   "cell_type": "markdown",
   "metadata": {
    "slideshow": {
     "slide_type": "fragment"
    }
   },
   "source": [
    "\n",
    "* Wszystko jest obiektem w Pythonie"
   ]
  },
  {
   "cell_type": "markdown",
   "metadata": {
    "slideshow": {
     "slide_type": "fragment"
    }
   },
   "source": [
    "* Klasy, instancje"
   ]
  },
  {
   "cell_type": "markdown",
   "metadata": {
    "slideshow": {
     "slide_type": "fragment"
    }
   },
   "source": [
    "* Brak interfejsów"
   ]
  },
  {
   "cell_type": "markdown",
   "metadata": {
    "slideshow": {
     "slide_type": "fragment"
    }
   },
   "source": [
    "* Wielodziedziczenie"
   ]
  },
  {
   "cell_type": "markdown",
   "metadata": {
    "slideshow": {
     "slide_type": "subslide"
    }
   },
   "source": [
    "* przeciążanie operatorów, magic methods np. `(__contains__)`"
   ]
  },
  {
   "cell_type": "markdown",
   "metadata": {
    "slideshow": {
     "slide_type": "fragment"
    }
   },
   "source": [
    "* sprawdzanie typów przez `type()`"
   ]
  },
  {
   "cell_type": "code",
   "execution_count": 5,
   "metadata": {
    "slideshow": {
     "slide_type": "subslide"
    }
   },
   "outputs": [
    {
     "name": "stdout",
     "output_type": "stream",
     "text": [
      "50\n"
     ]
    }
   ],
   "source": [
    "class Point():\n",
    "    def x(self, x):\n",
    "        self.x = x\n",
    "        \n",
    "    def y(self, y):\n",
    "        self.y = y\n",
    "        \n",
    "    def double(self):\n",
    "        return self.x * self.y\n",
    "    \n",
    "p = Point()\n",
    "p.y(5)\n",
    "p.x(10)\n",
    "print(p.double())"
   ]
  },
  {
   "cell_type": "code",
   "execution_count": 6,
   "metadata": {
    "slideshow": {
     "slide_type": "subslide"
    }
   },
   "outputs": [
    {
     "name": "stdout",
     "output_type": "stream",
     "text": [
      "12\n"
     ]
    }
   ],
   "source": [
    "class Point():\n",
    "    \n",
    "    def __init__(self, x, y):\n",
    "        self.x = x\n",
    "        self.y = y\n",
    "        \n",
    "    def double(self):\n",
    "        return self.x * self.y\n",
    "    \n",
    "p = Point(3, 4)\n",
    "print(p.double())"
   ]
  },
  {
   "cell_type": "code",
   "execution_count": 9,
   "metadata": {
    "collapsed": true,
    "slideshow": {
     "slide_type": "subslide"
    }
   },
   "outputs": [],
   "source": [
    "class Point():\n",
    "    \"\"\"This is a docstring\"\"\"\n",
    "    \n",
    "    def __init__(self, x, y):\n",
    "        self.x = x\n",
    "        self.y = y\n",
    "        \n",
    "    def double(self):\n",
    "        return self.x * self.y\n",
    "    \n",
    "Point?"
   ]
  },
  {
   "cell_type": "code",
   "execution_count": 12,
   "metadata": {
    "slideshow": {
     "slide_type": "subslide"
    }
   },
   "outputs": [
    {
     "name": "stdout",
     "output_type": "stream",
     "text": [
      "0.1\n",
      "1\n"
     ]
    }
   ],
   "source": [
    "class Point():\n",
    "    \"\"\"This is a docstring\"\"\"\n",
    "    \n",
    "    version = \"0.1\"\n",
    "    \n",
    "    def __init__(self, x, y, version=None):\n",
    "        self.x = x\n",
    "        self.y = y\n",
    "        if version is not None:\n",
    "            self.version = version\n",
    "        \n",
    "    def double(self):\n",
    "        return self.x * self.y\n",
    "    \n",
    "    def print_version(self):\n",
    "        print(self.version)\n",
    "    \n",
    "print(Point.version)\n",
    "Point(1, 2, version=\"1\").print_version()"
   ]
  },
  {
   "cell_type": "code",
   "execution_count": 46,
   "metadata": {
    "collapsed": true,
    "slideshow": {
     "slide_type": "subslide"
    }
   },
   "outputs": [],
   "source": [
    "class Point():\n",
    "    \"\"\"This is a docstring\"\"\"\n",
    "    \n",
    "    version = \"0.1\"\n",
    "    \n",
    "    def __init__(self, x, y, version=None):\n",
    "        self.x = x\n",
    "        self.y = y\n",
    "        if version is not None:\n",
    "            self.version = version\n",
    "        \n",
    "    def double(self):\n",
    "        return self.x * self.y\n",
    "    \n",
    "    def print_version(self):\n",
    "        print(self.version)"
   ]
  },
  {
   "cell_type": "code",
   "execution_count": 17,
   "metadata": {
    "slideshow": {
     "slide_type": "subslide"
    }
   },
   "outputs": [
    {
     "name": "stdout",
     "output_type": "stream",
     "text": [
      "1\n",
      "3\n"
     ]
    }
   ],
   "source": [
    "    \n",
    "class Point3D(Point):\n",
    "    \n",
    "    def __init__(self, x, y, z, version=None):\n",
    "        self.z = z\n",
    "        super().__init__(x, y, version)\n",
    "        \n",
    "p = Point3D(1, 2, 3, \"1\")\n",
    "p.print_version()\n",
    "print(p.z)"
   ]
  },
  {
   "cell_type": "markdown",
   "metadata": {
    "collapsed": true,
    "slideshow": {
     "slide_type": "subslide"
    }
   },
   "source": [
    "# Python2\n",
    "```\n",
    "class Point(object):\n",
    "    \"\"\"This is a docstring\"\"\"\n",
    "    \n",
    "    version = \"0.1\"\n",
    "    \n",
    "    def __init__(self, x, y, version=None):\n",
    "        self.x = x\n",
    "        self.y = y\n",
    "        if version is not None:\n",
    "            self.version = version\n",
    "        \n",
    "    def double(self):\n",
    "        return self.x * self.y\n",
    "    \n",
    "    def print_version(self):\n",
    "        print(self.version)\n",
    "```"
   ]
  },
  {
   "cell_type": "markdown",
   "metadata": {
    "slideshow": {
     "slide_type": "subslide"
    }
   },
   "source": [
    "# Python2\n",
    "```  \n",
    "class Point3D(Point):\n",
    "    \n",
    "    def __init__(self, x, y, z, version=None):\n",
    "        self.z = z\n",
    "        super(Point3D, self).__init__(x, y, version)\n",
    "```     "
   ]
  },
  {
   "cell_type": "code",
   "execution_count": 21,
   "metadata": {
    "slideshow": {
     "slide_type": "subslide"
    }
   },
   "outputs": [
    {
     "name": "stdout",
     "output_type": "stream",
     "text": [
      "20\n"
     ]
    }
   ],
   "source": [
    "class Point():\n",
    "    \"\"\"This is a docstring\"\"\"\n",
    "    \n",
    "    version = \"0.1\"\n",
    "    \n",
    "    def __init__(self, x, y, version=None):\n",
    "        self.x = x\n",
    "        self.y = y\n",
    "        if version is not None:\n",
    "            self.version = version\n",
    "            \n",
    "    def quotient(self):\n",
    "        p = self.x * self.y\n",
    "        return 10 * p\n",
    "        \n",
    "    def double(self):\n",
    "        return self.x * self.y\n",
    "    \n",
    "    def print_version(self):\n",
    "        print(self.version)\n",
    "        \n",
    "p = Point(1, 2)\n",
    "print(p.quotient())"
   ]
  },
  {
   "cell_type": "code",
   "execution_count": 26,
   "metadata": {
    "slideshow": {
     "slide_type": "subslide"
    }
   },
   "outputs": [
    {
     "name": "stdout",
     "output_type": "stream",
     "text": [
      "6\n"
     ]
    }
   ],
   "source": [
    "class Point3D(Point):\n",
    "    \n",
    "    def __init__(self, x, y, z, version=None):\n",
    "        self.z = z\n",
    "        super().__init__(x, y, version)\n",
    "        \n",
    "    def double(self):\n",
    "        return self.z * self.x * self.y\n",
    "        \n",
    "        \n",
    "p = Point3D(1, 2, 3, \"1\")\n",
    "print(p.double())"
   ]
  },
  {
   "cell_type": "code",
   "execution_count": 22,
   "metadata": {
    "slideshow": {
     "slide_type": "subslide"
    }
   },
   "outputs": [
    {
     "name": "stdout",
     "output_type": "stream",
     "text": [
      "20\n"
     ]
    }
   ],
   "source": [
    "class Point():\n",
    "    \"\"\"This is a docstring\"\"\"\n",
    "    \n",
    "    version = \"0.1\"\n",
    "    \n",
    "    def __init__(self, x, y, version=None):\n",
    "        self.x = x\n",
    "        self.y = y\n",
    "        if version is not None:\n",
    "            self.version = version\n",
    "            \n",
    "    def quotient(self):\n",
    "        p = self.double()\n",
    "        return 10 * p\n",
    "        \n",
    "    def double(self):\n",
    "        return self.x * self.y\n",
    "    \n",
    "    def print_version(self):\n",
    "        print(self.version)\n",
    "        \n",
    "p = Point(1, 2)\n",
    "print(p.quotient())"
   ]
  },
  {
   "cell_type": "code",
   "execution_count": 27,
   "metadata": {
    "slideshow": {
     "slide_type": "subslide"
    }
   },
   "outputs": [
    {
     "name": "stdout",
     "output_type": "stream",
     "text": [
      "60\n"
     ]
    }
   ],
   "source": [
    "p = Point3D(1, 2, 3, \"1\")\n",
    "print(p.quotient())"
   ]
  },
  {
   "cell_type": "code",
   "execution_count": 48,
   "metadata": {
    "collapsed": true,
    "slideshow": {
     "slide_type": "subslide"
    }
   },
   "outputs": [],
   "source": [
    "class Point():\n",
    "    \"\"\"This is a docstring\"\"\"\n",
    "    \n",
    "    version = \"0.1\"\n",
    "    \n",
    "    def __init__(self, x, y, version=None):\n",
    "        self.x = x\n",
    "        self.y = y\n",
    "        if version is not None:\n",
    "            self.version = version\n",
    "            \n",
    "    def quotient(self):\n",
    "        p = self.__double()\n",
    "        return 10 * p\n",
    "        \n",
    "    def double(self):\n",
    "        return self.x * self.y\n",
    "    \n",
    "    def print_version(self):\n",
    "        print(self.version)\n",
    "        \n",
    "    __double = double"
   ]
  },
  {
   "cell_type": "code",
   "execution_count": 49,
   "metadata": {
    "slideshow": {
     "slide_type": "subslide"
    }
   },
   "outputs": [
    {
     "name": "stdout",
     "output_type": "stream",
     "text": [
      "20\n"
     ]
    }
   ],
   "source": [
    "p = Point(1, 2)\n",
    "print(p.quotient())"
   ]
  },
  {
   "cell_type": "code",
   "execution_count": 32,
   "metadata": {
    "slideshow": {
     "slide_type": "subslide"
    }
   },
   "outputs": [
    {
     "name": "stdout",
     "output_type": "stream",
     "text": [
      "20\n"
     ]
    }
   ],
   "source": [
    "class Point3D(Point):\n",
    "    \n",
    "    def __init__(self, x, y, z, version=None):\n",
    "        self.z = z\n",
    "        super().__init__(x, y, version)\n",
    "        \n",
    "    def double(self):\n",
    "        return self.z * self.x * self.y\n",
    "        \n",
    "        \n",
    "p = Point3D(1, 2, 3, \"1\")\n",
    "print(p.quotient())"
   ]
  },
  {
   "cell_type": "code",
   "execution_count": 39,
   "metadata": {
    "slideshow": {
     "slide_type": "subslide"
    }
   },
   "outputs": [
    {
     "name": "stdout",
     "output_type": "stream",
     "text": [
      "20\n"
     ]
    }
   ],
   "source": [
    "class Point3D(Point):\n",
    "    \n",
    "    def __init__(self, x, y, z, version=None):\n",
    "        self.z = z\n",
    "        super().__init__(x, y, version)\n",
    "        \n",
    "    def double(self):\n",
    "        return self.z * self.x * self.y\n",
    "\n",
    "        \n",
    "p = Point3D(1, 2, 3, \"1\")\n",
    "print(p.quotient())"
   ]
  },
  {
   "cell_type": "code",
   "execution_count": 50,
   "metadata": {
    "collapsed": true,
    "slideshow": {
     "slide_type": "subslide"
    }
   },
   "outputs": [],
   "source": [
    "class Point():\n",
    "    \"\"\"This is a docstring\"\"\"\n",
    "    \n",
    "    version = \"0.1\"\n",
    "    \n",
    "    def __init__(self, x, y, version=None):\n",
    "        self.x = x\n",
    "        self.y = y\n",
    "        if version is not None:\n",
    "            self.version = version\n",
    "            \n",
    "    @staticmethod\n",
    "    def add(a, b):\n",
    "        return Point(a.x + b.x, a.y + b.y)\n",
    "        \n",
    "    @classmethod    \n",
    "    def fromstrings(cls, x, y):\n",
    "        return cls(int(x), int(y))\n",
    "            \n",
    "    def quotient(self):\n",
    "        p = self.__double()\n",
    "        return 10 * p\n",
    "        \n",
    "    def double(self):\n",
    "        return self.x * self.y\n",
    "    \n",
    "    def print_version(self):\n",
    "        print(self.version)\n",
    "        \n",
    "    __double = double"
   ]
  },
  {
   "cell_type": "code",
   "execution_count": 51,
   "metadata": {
    "slideshow": {
     "slide_type": "subslide"
    }
   },
   "outputs": [
    {
     "name": "stdout",
     "output_type": "stream",
     "text": [
      "20\n",
      "2 4\n",
      "80\n"
     ]
    }
   ],
   "source": [
    "p = Point.fromstrings('1', '2')\n",
    "print(p.quotient())\n",
    "p2 = Point.add(p, p)\n",
    "print(p2.x, p2.y)\n",
    "print(p2.quotient())"
   ]
  },
  {
   "cell_type": "code",
   "execution_count": 52,
   "metadata": {
    "collapsed": true,
    "slideshow": {
     "slide_type": "subslide"
    }
   },
   "outputs": [],
   "source": [
    "class Point():\n",
    "    \"\"\"This is a docstring\"\"\"\n",
    "    \n",
    "    __slots__ = ['x', 'y']\n",
    "    \n",
    "    version = \"0.1\"\n",
    "    \n",
    "    def __init__(self, x, y, version=None):\n",
    "        self.x = x\n",
    "        self.y = y\n",
    "        if version is not None:\n",
    "            self.version = version\n",
    "            \n",
    "    @staticmethod\n",
    "    def add(a, b):\n",
    "        return Point(a.x + b.x, a.y + b.y)\n",
    "        \n",
    "    @classmethod    \n",
    "    def fromstrings(cls, x, y):\n",
    "        return cls(int(x), int(y))\n",
    "            \n",
    "    def quotient(self):\n",
    "        p = self.__double()\n",
    "        return 10 * p\n",
    "        \n",
    "    def double(self):\n",
    "        return self.x * self.y\n",
    "    \n",
    "    def print_version(self):\n",
    "        print(self.version)\n",
    "        \n",
    "    __double = double"
   ]
  },
  {
   "cell_type": "code",
   "execution_count": 53,
   "metadata": {
    "slideshow": {
     "slide_type": "subslide"
    }
   },
   "outputs": [
    {
     "name": "stdout",
     "output_type": "stream",
     "text": [
      "20\n",
      "2 4\n",
      "80\n"
     ]
    }
   ],
   "source": [
    "p = Point.fromstrings('1', '2')\n",
    "print(p.quotient())\n",
    "p2 = Point.add(p, p)\n",
    "print(p2.x, p2.y)\n",
    "print(p2.quotient())"
   ]
  },
  {
   "cell_type": "code",
   "execution_count": 55,
   "metadata": {
    "slideshow": {
     "slide_type": "subslide"
    }
   },
   "outputs": [
    {
     "name": "stdout",
     "output_type": "stream",
     "text": [
      "Square(5)\n",
      "[5]\n"
     ]
    }
   ],
   "source": [
    "class Square():\n",
    "    \n",
    "    def __init__(self, x):\n",
    "        self.x = x\n",
    "        \n",
    "    def __repr__(self):\n",
    "        return \"Square(%d)\" % self.x\n",
    "    \n",
    "    def __str__(self):\n",
    "        return \"[%d]\" % self.x\n",
    "    \n",
    "print(repr(Square(5)))\n",
    "print(str(Square(5)))"
   ]
  }
 ],
 "metadata": {
  "celltoolbar": "Slideshow",
  "kernelspec": {
   "display_name": "Python 3",
   "language": "python",
   "name": "python3"
  },
  "language_info": {
   "codemirror_mode": {
    "name": "ipython",
    "version": 3
   },
   "file_extension": ".py",
   "mimetype": "text/x-python",
   "name": "python",
   "nbconvert_exporter": "python",
   "pygments_lexer": "ipython3",
   "version": "3.6.2"
  }
 },
 "nbformat": 4,
 "nbformat_minor": 2
}
