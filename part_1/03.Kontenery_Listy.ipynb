{
 "cells": [
  {
   "cell_type": "markdown",
   "metadata": {
    "slideshow": {
     "slide_type": "slide"
    }
   },
   "source": [
    "# Kontenery\n",
    "* Listy, typ wycinka\n",
    "* Krotki (tuples) / Namedtuples\n",
    "* Sets\n",
    "* Słowniki\n",
    "* Deques"
   ]
  },
  {
   "cell_type": "markdown",
   "metadata": {
    "slideshow": {
     "slide_type": "slide"
    }
   },
   "source": [
    "# Listy\n",
    "* nieograniczona długość\n",
    "* zachowuje kolejność dodawania elementów\n",
    "* iterowalna\n",
    "* wartości różnego typu"
   ]
  },
  {
   "cell_type": "markdown",
   "metadata": {
    "slideshow": {
     "slide_type": "slide"
    }
   },
   "source": [
    "# Implementacja\n",
    "* bazuje na tablicy\n",
    "* tablica wskaźników na wartości\n",
    "* alokacja wskaźników i kopiowanie\n",
    "* nadmiarowa alokacja wskaźników\n",
    "* 1.25 wielkość zwiększana\n",
    "* alokowanie list o znanej długości\n",
    "* dodawanie elementu do listy O(1)"
   ]
  },
  {
   "cell_type": "markdown",
   "metadata": {
    "slideshow": {
     "slide_type": "subslide"
    }
   },
   "source": [
    ">[....]\n",
    "\n",
    ">[1234]\n",
    "\n",
    ">[1234....]"
   ]
  },
  {
   "cell_type": "markdown",
   "metadata": {
    "slideshow": {
     "slide_type": "fragment"
    }
   },
   "source": [
    "* realokacja gdy lista zmniejszy się o połowę\n",
    "* pop jest tanie"
   ]
  },
  {
   "cell_type": "code",
   "execution_count": null,
   "metadata": {
    "collapsed": true,
    "slideshow": {
     "slide_type": "slide"
    }
   },
   "outputs": [],
   "source": [
    "liczby = [1, 2, 3, 4, 5]\n",
    "print(liczby)\n",
    "print(list(range(5)))\n",
    "print(len([1, 2, 3, 4, 5]))"
   ]
  },
  {
   "cell_type": "code",
   "execution_count": null,
   "metadata": {
    "collapsed": true,
    "slideshow": {
     "slide_type": "subslide"
    }
   },
   "outputs": [],
   "source": [
    "from functools import partial\n",
    "padding = partial('{0:{fill}{align}16}'.format, fill=\" \", align=\"^\")\n",
    "\n",
    "a = [1, 2, 3, 4]\n",
    "print(padding(\"copy:\"), a[:])\n",
    "print(padding(\"last item:\"), a[-1])\n",
    "print(padding(\"slice:\"), a[0:2])\n",
    "print(padding(\"reversed:\"), a[::-1])"
   ]
  },
  {
   "cell_type": "code",
   "execution_count": null,
   "metadata": {
    "collapsed": true,
    "slideshow": {
     "slide_type": "subslide"
    }
   },
   "outputs": [],
   "source": [
    "from functools import partial\n",
    "padding = partial('{0:{fill}{align}16}'.format, fill=\" \", align=\"^\")\n",
    "\n",
    "a = [1, 2, 3, 4, 4]\n",
    "a.append(5)\n",
    "print(padding(\"append:\"), a)\n",
    "print(padding(\"count:\"), a.count(4))\n",
    "\n",
    "a.extend([5, 5])\n",
    "print(padding(\"extend:\"), a)\n",
    "\n",
    "a.reverse()\n",
    "print(padding(\"reversed: \"), a)\n",
    "\n",
    "a = a + [5, 5]\n",
    "print(padding(\"addition: \"), a)"
   ]
  },
  {
   "cell_type": "code",
   "execution_count": null,
   "metadata": {
    "collapsed": true,
    "slideshow": {
     "slide_type": "subslide"
    }
   },
   "outputs": [],
   "source": [
    "from functools import partial\n",
    "padding = partial('{0:{fill}{align}16}'.format, fill=\" \", align=\"^\")\n",
    "\n",
    "a = [5, 6, 7, 1, 1, 3, 4]\n",
    "a.sort()\n",
    "print(padding(\"sorted:\"), a)\n",
    "\n",
    "a.remove(6)\n",
    "print(padding(\"remove:\"), a)\n",
    "print(padding(\"popping return:\"), a.pop())\n",
    "print(padding(\"after pop:\"), a)\n",
    "\n",
    "a.insert(0, 5)\n",
    "print(padding(\"insert at 0:\"), a)\n",
    "a.insert(2, 5)\n",
    "print(padding(\"insert at 2:\"), a)"
   ]
  },
  {
   "cell_type": "code",
   "execution_count": null,
   "metadata": {
    "collapsed": true,
    "slideshow": {
     "slide_type": "slide"
    }
   },
   "outputs": [],
   "source": [
    "liczby = [1, 2, 3, 4, 5]\n",
    "srodek = slice(1, -1)\n",
    "print(liczby[srodek])\n",
    "\n",
    "liczby = list(range(20))\n",
    "parzyste = slice(0, len(liczby), 2)\n",
    "print(liczby[parzyste])"
   ]
  },
  {
   "cell_type": "markdown",
   "metadata": {
    "slideshow": {
     "slide_type": "slide"
    }
   },
   "source": [
    "<h1><center>?</center></h1>"
   ]
  },
  {
   "cell_type": "code",
   "execution_count": null,
   "metadata": {
    "collapsed": true,
    "slideshow": {
     "slide_type": "subslide"
    }
   },
   "outputs": [],
   "source": [
    "b = 0\n",
    "print([b]*3)"
   ]
  },
  {
   "cell_type": "code",
   "execution_count": null,
   "metadata": {
    "collapsed": true,
    "slideshow": {
     "slide_type": "subslide"
    }
   },
   "outputs": [],
   "source": [
    "b = []\n",
    "a = [b] * 3\n",
    "b.append(1)\n",
    "print(a)\n",
    "\n",
    "a = [[]] * 3\n",
    "a[0].append(1)\n",
    "print(a)"
   ]
  },
  {
   "cell_type": "code",
   "execution_count": null,
   "metadata": {
    "collapsed": true,
    "slideshow": {
     "slide_type": "subslide"
    }
   },
   "outputs": [],
   "source": [
    "a = [4] * 3\n",
    "a[0] = 5\n",
    "print(a)"
   ]
  },
  {
   "cell_type": "code",
   "execution_count": null,
   "metadata": {
    "collapsed": true,
    "slideshow": {
     "slide_type": "subslide"
    }
   },
   "outputs": [],
   "source": [
    "liczby = [1,2,3]\n",
    "liczby.append(liczby)\n",
    "print(liczby)\n",
    "print(liczby[-1])"
   ]
  }
 ],
 "metadata": {
  "celltoolbar": "Slideshow",
  "kernelspec": {
   "display_name": "Python 3",
   "language": "python",
   "name": "python3"
  },
  "language_info": {
   "codemirror_mode": {
    "name": "ipython",
    "version": 3
   },
   "file_extension": ".py",
   "mimetype": "text/x-python",
   "name": "python",
   "nbconvert_exporter": "python",
   "pygments_lexer": "ipython3",
   "version": "3.6.2"
  }
 },
 "nbformat": 4,
 "nbformat_minor": 2
}
