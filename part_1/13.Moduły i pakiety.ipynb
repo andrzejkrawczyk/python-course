{
 "cells": [
  {
   "cell_type": "markdown",
   "metadata": {
    "slideshow": {
     "slide_type": "slide"
    }
   },
   "source": [
    "# Moduły\n",
    "* kwestia organizacyjna\n",
    "* instrukcje from i import\n",
    "* możliwość importu całego modułu lub jego części\n",
    "* `from collections import OrderedDict`"
   ]
  },
  {
   "cell_type": "markdown",
   "metadata": {
    "slideshow": {
     "slide_type": "subslide"
    }
   },
   "source": [
    "* `from foo import *`\n",
    "* każdy plik jest modułem\n",
    "* importowany raz\n",
    "* nie powinien samoczynnie wykonywać kodu\n",
    "* można wymusić przeładowanie modułu"
   ]
  },
  {
   "cell_type": "markdown",
   "metadata": {
    "slideshow": {
     "slide_type": "subslide"
    }
   },
   "source": [
    "* wbudowana funkcja `reload` Python2\n",
    "* funkcja modułu `imp.reload` Python3\n",
    "* nazwa pliku = nazwa modułu\n",
    "* zdefiniowane obiekty są atrybutami modułu"
   ]
  },
  {
   "cell_type": "markdown",
   "metadata": {
    "slideshow": {
     "slide_type": "subslide"
    }
   },
   "source": [
    "* `__dict__ dir()`\n",
    "* `__name__` dostępna nazwa modułu\n",
    "* `__name__` jest ustawiony na `__main__` jeśli moduł został wywołany"
   ]
  },
  {
   "cell_type": "markdown",
   "metadata": {
    "slideshow": {
     "slide_type": "subslide"
    }
   },
   "source": [
    "# Wyszukiwanie modułów\n",
    "* zmienna systemowa PYTHONPATH\n",
    "* folder root skryptu wejściowego\n",
    "* dostępne ścieżki w czasie uruchomienia `sys.path`"
   ]
  },
  {
   "cell_type": "markdown",
   "metadata": {
    "slideshow": {
     "slide_type": "slide"
    }
   },
   "source": [
    "# Pakiety\n",
    "* katalog = pakiet\n",
    "* wymagany plik `__init__.py` - może być pusty\n",
    "* przy imporcie pakietu najpierw uruchamiany jest `__init__`\n",
    "* specjalny atrybut `__all__`, pozwalający na definiowanie exportów"
   ]
  }
 ],
 "metadata": {
  "celltoolbar": "Slideshow",
  "kernelspec": {
   "display_name": "Python 3",
   "language": "python",
   "name": "python3"
  },
  "language_info": {
   "codemirror_mode": {
    "name": "ipython",
    "version": 3
   },
   "file_extension": ".py",
   "mimetype": "text/x-python",
   "name": "python",
   "nbconvert_exporter": "python",
   "pygments_lexer": "ipython3",
   "version": "3.6.2"
  }
 },
 "nbformat": 4,
 "nbformat_minor": 2
}
