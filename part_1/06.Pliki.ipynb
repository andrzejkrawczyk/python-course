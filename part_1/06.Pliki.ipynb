{
 "cells": [
  {
   "cell_type": "markdown",
   "metadata": {
    "slideshow": {
     "slide_type": "slide"
    }
   },
   "source": [
    "# Pliki\n",
    "* obiekt iterowalny\n",
    "* open(filename, mode) -> zwraca obiekt pliku\n",
    "* r read\n",
    "* r+ read i write \n",
    "* w write \n",
    "* b binary  dodawany do r/w np rb\n",
    "* a append"
   ]
  },
  {
   "cell_type": "code",
   "execution_count": null,
   "metadata": {
    "collapsed": true,
    "slideshow": {
     "slide_type": "subslide"
    }
   },
   "outputs": [],
   "source": [
    "import os\n",
    "f = open(\"temp.txt\", 'w')\n",
    "f.write(\"ala ma kota \\n ala ma kota\\n a\")\n",
    "f.close()\n",
    "\n",
    "f = open(\"temp.txt\", 'r')\n",
    "for line in f:\n",
    "    print(line)\n",
    "f.close()\n",
    "\n",
    "os.remove(\"temp.txt\")"
   ]
  },
  {
   "cell_type": "code",
   "execution_count": null,
   "metadata": {
    "collapsed": true,
    "slideshow": {
     "slide_type": "subslide"
    }
   },
   "outputs": [],
   "source": [
    "import os\n",
    "with open(\"temp.txt\", 'w') as f:\n",
    "    f.write(\"ala ma kota \\n ala ma kota\\n a\")\n",
    "\n",
    "with open(\"temp.txt\", 'r') as f:\n",
    "    print(f.readlines())\n",
    "\n",
    "os.remove(\"temp.txt\")"
   ]
  },
  {
   "cell_type": "code",
   "execution_count": null,
   "metadata": {
    "collapsed": true,
    "slideshow": {
     "slide_type": "subslide"
    }
   },
   "outputs": [],
   "source": [
    "import os\n",
    "with open(\"temp.txt\", 'a') as f:\n",
    "    pass\n",
    "\n",
    "os.remove(\"temp.txt\")"
   ]
  },
  {
   "cell_type": "code",
   "execution_count": null,
   "metadata": {
    "collapsed": true,
    "slideshow": {
     "slide_type": "subslide"
    }
   },
   "outputs": [],
   "source": [
    "import os\n",
    "def touch(path):\n",
    "    with open(path, 'a') as f:\n",
    "        os.utime(path, None)\n",
    "\n",
    "path = \"temp.txt\"\n",
    "touch(path)\n",
    "os.remove(path)"
   ]
  },
  {
   "cell_type": "markdown",
   "metadata": {
    "slideshow": {
     "slide_type": "slide"
    }
   },
   "source": [
    "# Typy danych\n",
    "* mutowalne i niemutowalne\n",
    "* wszystko jest obiektem"
   ]
  },
  {
   "cell_type": "markdown",
   "metadata": {
    "slideshow": {
     "slide_type": "fragment"
    }
   },
   "source": []
  },
  {
   "cell_type": "markdown",
   "metadata": {
    "slideshow": {
     "slide_type": "fragment"
    }
   },
   "source": []
  },
  {
   "cell_type": "markdown",
   "metadata": {
    "slideshow": {
     "slide_type": "fragment"
    }
   },
   "source": [
    "* referencje na instancje"
   ]
  },
  {
   "cell_type": "code",
   "execution_count": null,
   "metadata": {
    "collapsed": true,
    "slideshow": {
     "slide_type": "subslide"
    }
   },
   "outputs": [],
   "source": [
    "liczby = [1,2,3]\n",
    "liczby.append(liczby)\n",
    "print(liczby)\n",
    "print(liczby[-1])"
   ]
  }
 ],
 "metadata": {
  "celltoolbar": "Slideshow",
  "kernelspec": {
   "display_name": "Python 3",
   "language": "python",
   "name": "python3"
  },
  "language_info": {
   "codemirror_mode": {
    "name": "ipython",
    "version": 3
   },
   "file_extension": ".py",
   "mimetype": "text/x-python",
   "name": "python",
   "nbconvert_exporter": "python",
   "pygments_lexer": "ipython3",
   "version": "3.6.2"
  }
 },
 "nbformat": 4,
 "nbformat_minor": 2
}
