{
 "cells": [
  {
   "cell_type": "markdown",
   "metadata": {
    "slideshow": {
     "slide_type": "slide"
    }
   },
   "source": [
    "# With"
   ]
  },
  {
   "cell_type": "markdown",
   "metadata": {
    "slideshow": {
     "slide_type": "fragment"
    }
   },
   "source": [
    "* opakowanie kodu w metody `__enter__(self)` i `__exit__`"
   ]
  },
  {
   "cell_type": "markdown",
   "metadata": {
    "slideshow": {
     "slide_type": "fragment"
    }
   },
   "source": [
    "* `__exit__` wywoływane na koniec bloku kodu"
   ]
  },
  {
   "cell_type": "markdown",
   "metadata": {
    "slideshow": {
     "slide_type": "fragment"
    }
   },
   "source": [
    "> with open(\"asdf.txt\", \"r\" as f:\n",
    "\n",
    ">    ...."
   ]
  },
  {
   "cell_type": "code",
   "execution_count": null,
   "metadata": {
    "slideshow": {
     "slide_type": "subslide"
    }
   },
   "outputs": [],
   "source": [
    "class CustomContextManager(object):\n",
    "    def __enter__(self):\n",
    "        print(\"rozpoczynamy\")\n",
    "        return 5\n",
    "    \n",
    "    def __exit__(self, exc_type, exc_value, traceback):\n",
    "        if exc_type is not None:\n",
    "            print(\"co zrobic na exception?\")\n",
    "        print (exc_type, exc_value, traceback)\n",
    "        print(\"koniec bloku\")\n",
    "        \n",
    "with CustomContextManager() as number:\n",
    "    raise NotImplementedError\n",
    "    print(number)"
   ]
  },
  {
   "cell_type": "code",
   "execution_count": null,
   "metadata": {
    "slideshow": {
     "slide_type": "subslide"
    }
   },
   "outputs": [],
   "source": [
    "class CustomContextManager(object):\n",
    "    def __enter__(self):\n",
    "        print(\"rozpoczynamy\")\n",
    "        return 5\n",
    "    \n",
    "    def __exit__(self, exc_type, exc_value, traceback):\n",
    "        if exc_type is not None:\n",
    "            raise ValueError\n",
    "        #print (exc_type, exc_value, traceback)\n",
    "        print(\"koniec bloku\")\n",
    "        \n",
    "with CustomContextManager() as number:\n",
    "    raise NotImplementedError\n",
    "    print(number)"
   ]
  },
  {
   "cell_type": "code",
   "execution_count": null,
   "metadata": {
    "slideshow": {
     "slide_type": "subslide"
    }
   },
   "outputs": [],
   "source": [
    "class CustomContextManager(object):\n",
    "    def __enter__(self):\n",
    "        print(\"rozpoczynamy\")\n",
    "        return 5\n",
    "    \n",
    "    def __exit__(self, exc_type, exc_value, traceback):\n",
    "        if exc_type is not None:\n",
    "            raise ValueError\n",
    "        #print (exc_type, exc_value, traceback)\n",
    "        print(\"koniec bloku\")\n",
    "    \n",
    "try:\n",
    "    with CustomContextManager() as number:\n",
    "        raise NotImplementedError\n",
    "        print(number)\n",
    "except ValueError:\n",
    "        print(\"supress ValueError\")"
   ]
  },
  {
   "cell_type": "code",
   "execution_count": null,
   "metadata": {
    "slideshow": {
     "slide_type": "subslide"
    }
   },
   "outputs": [],
   "source": [
    "class CustomContextManager(object):\n",
    "    def __enter__(self):\n",
    "        print(\"rozpoczynamy\")\n",
    "        return 5\n",
    "    \n",
    "    def __exit__(self, exc_type, exc_value, traceback):\n",
    "        print(\"koniec bloku\")\n",
    "        return True\n",
    "    \n",
    "try:\n",
    "    with CustomContextManager() as number:\n",
    "        raise NotImplementedError\n",
    "        print(number)\n",
    "except NotImplementedError:\n",
    "        print(\"supress NotImplementedError\")"
   ]
  },
  {
   "cell_type": "markdown",
   "metadata": {
    "slideshow": {
     "slide_type": "slide"
    }
   },
   "source": [
    "# range i xrange"
   ]
  },
  {
   "cell_type": "markdown",
   "metadata": {
    "slideshow": {
     "slide_type": "fragment"
    }
   },
   "source": [
    "* python2 xrange - iterator\n",
    "* python2 range - zwraca liste\n",
    "* python3 brak xrange, range - iterator"
   ]
  },
  {
   "cell_type": "code",
   "execution_count": null,
   "metadata": {
    "slideshow": {
     "slide_type": "subslide"
    }
   },
   "outputs": [],
   "source": [
    "list(range(5))"
   ]
  },
  {
   "cell_type": "code",
   "execution_count": null,
   "metadata": {
    "slideshow": {
     "slide_type": "fragment"
    }
   },
   "outputs": [],
   "source": [
    "list(range(0, 10, 1))"
   ]
  },
  {
   "cell_type": "code",
   "execution_count": null,
   "metadata": {
    "slideshow": {
     "slide_type": "fragment"
    }
   },
   "outputs": [],
   "source": [
    "list(range(10, 1, -1))"
   ]
  },
  {
   "cell_type": "code",
   "execution_count": null,
   "metadata": {
    "slideshow": {
     "slide_type": "fragment"
    }
   },
   "outputs": [],
   "source": [
    "list(range(10, 1, -1))[::2]"
   ]
  },
  {
   "cell_type": "markdown",
   "metadata": {
    "slideshow": {
     "slide_type": "slide"
    }
   },
   "source": [
    "# Instrukcje warunkowe"
   ]
  },
  {
   "cell_type": "markdown",
   "metadata": {
    "slideshow": {
     "slide_type": "fragment"
    }
   },
   "source": [
    "* if, else, elif"
   ]
  },
  {
   "cell_type": "markdown",
   "metadata": {
    "slideshow": {
     "slide_type": "fragment"
    }
   },
   "source": [
    "* x if x > 5 else 10"
   ]
  },
  {
   "cell_type": "markdown",
   "metadata": {
    "slideshow": {
     "slide_type": "fragment"
    }
   },
   "source": [
    "* brak switch case"
   ]
  },
  {
   "cell_type": "code",
   "execution_count": null,
   "metadata": {
    "slideshow": {
     "slide_type": "subslide"
    }
   },
   "outputs": [],
   "source": [
    "zmienna = \"nic\"\n",
    "if zmienna == \"nic\":\n",
    "    print(\"nic\")"
   ]
  },
  {
   "cell_type": "code",
   "execution_count": null,
   "metadata": {
    "slideshow": {
     "slide_type": "fragment"
    }
   },
   "outputs": [],
   "source": [
    "if \"a\" in [\"a\", 2, 3]:\n",
    "    print(\"element w kolekcji\")"
   ]
  },
  {
   "cell_type": "code",
   "execution_count": null,
   "metadata": {
    "slideshow": {
     "slide_type": "fragment"
    }
   },
   "outputs": [],
   "source": [
    "if \"a\" in set([\"a\", 2, 3]):\n",
    "    print(\"element w kolekcji\")"
   ]
  },
  {
   "cell_type": "code",
   "execution_count": null,
   "metadata": {
    "slideshow": {
     "slide_type": "fragment"
    }
   },
   "outputs": [],
   "source": [
    "a = 10\n",
    "if 5 < a < 20:\n",
    "    print(\"a w zakresie 5 i 20\")"
   ]
  },
  {
   "cell_type": "code",
   "execution_count": null,
   "metadata": {
    "slideshow": {
     "slide_type": "fragment"
    }
   },
   "outputs": [],
   "source": [
    "a = 10\n",
    "if a in range(20):\n",
    "    print(\"w zakresie do 20\")"
   ]
  },
  {
   "cell_type": "code",
   "execution_count": null,
   "metadata": {
    "slideshow": {
     "slide_type": "subslide"
    }
   },
   "outputs": [],
   "source": [
    "mapa = {\n",
    "    \"a\": 5,\n",
    "    \"b\": 10,\n",
    "    \"c\": 20\n",
    "}\n",
    "\n",
    "print(\"a\" in mapa)"
   ]
  },
  {
   "cell_type": "code",
   "execution_count": null,
   "metadata": {
    "slideshow": {
     "slide_type": "fragment"
    }
   },
   "outputs": [],
   "source": [
    "mapa = {\n",
    "    \"a\": 5,\n",
    "    \"b\": 10,\n",
    "    \"c\": 20\n",
    "}\n",
    "\n",
    "if \"e\" not in mapa:\n",
    "    print(\"mapa nie posiada elementu\")"
   ]
  },
  {
   "cell_type": "code",
   "execution_count": null,
   "metadata": {
    "slideshow": {
     "slide_type": "subslide"
    }
   },
   "outputs": [],
   "source": [
    "class Point():\n",
    "    pass\n",
    "\n",
    "a = Point()\n",
    "b = Point()\n",
    "\n",
    "print(a is b)\n",
    "print(a == b)"
   ]
  },
  {
   "cell_type": "code",
   "execution_count": null,
   "metadata": {
    "slideshow": {
     "slide_type": "fragment"
    }
   },
   "outputs": [],
   "source": [
    "a = None\n",
    "if a is not None:\n",
    "    print(\"zrob cos\")\n",
    "    \n",
    "x = True\n",
    "y = False\n",
    "\n",
    "if not y and x:\n",
    "    print(x, y)\n",
    "    \n",
    "print(y and x)"
   ]
  },
  {
   "cell_type": "code",
   "execution_count": null,
   "metadata": {
    "slideshow": {
     "slide_type": "subslide"
    }
   },
   "outputs": [],
   "source": [
    "a = 10\n",
    "\n",
    "if a < 5:\n",
    "    print(\"a w zakresie do 5\")\n",
    "elif a > 10:\n",
    "    print(\"a wieksze od 10\")\n",
    "else:\n",
    "    print(\"jak nie spelnia warunkow to tutaj\")"
   ]
  },
  {
   "cell_type": "code",
   "execution_count": null,
   "metadata": {
    "slideshow": {
     "slide_type": "subslide"
    }
   },
   "outputs": [],
   "source": [
    "liczba = 10\n",
    "a = liczba if liczba > 5 else -5\n",
    "b = liczba if liczba > 20 else -5\n",
    "print(a)\n",
    "print(b)"
   ]
  },
  {
   "cell_type": "markdown",
   "metadata": {
    "slideshow": {
     "slide_type": "slide"
    }
   },
   "source": [
    "# Pętle"
   ]
  },
  {
   "cell_type": "markdown",
   "metadata": {
    "slideshow": {
     "slide_type": "fragment"
    }
   },
   "source": [
    "* tylko dwie pętle for i while"
   ]
  },
  {
   "cell_type": "markdown",
   "metadata": {
    "slideshow": {
     "slide_type": "fragment"
    }
   },
   "source": [
    "* for - iteracja po obiektach iterowalnych"
   ]
  },
  {
   "cell_type": "markdown",
   "metadata": {
    "slideshow": {
     "slide_type": "fragment"
    }
   },
   "source": [
    "* while - iteracja warunkowa"
   ]
  },
  {
   "cell_type": "code",
   "execution_count": null,
   "metadata": {
    "slideshow": {
     "slide_type": "subslide"
    }
   },
   "outputs": [],
   "source": [
    "for index, element in enumerate(range(10, 50, 10)):\n",
    "    print(index, element)"
   ]
  },
  {
   "cell_type": "code",
   "execution_count": null,
   "metadata": {
    "slideshow": {
     "slide_type": "subslide"
    }
   },
   "outputs": [],
   "source": [
    "for element in range(len([1, 2, 3, 4, 5])):\n",
    "    print(element)"
   ]
  },
  {
   "cell_type": "code",
   "execution_count": null,
   "metadata": {
    "slideshow": {
     "slide_type": "subslide"
    }
   },
   "outputs": [],
   "source": [
    "for element in range(len([1, 2, 3, 4, 5])):\n",
    "    if element == 2:\n",
    "        break\n",
    "    print(element)"
   ]
  },
  {
   "cell_type": "code",
   "execution_count": null,
   "metadata": {
    "slideshow": {
     "slide_type": "subslide"
    }
   },
   "outputs": [],
   "source": [
    "for element in range(len([1, 2, 3, 4, 5])):\n",
    "    if element == 2:\n",
    "        continue\n",
    "    print(element)"
   ]
  },
  {
   "cell_type": "code",
   "execution_count": null,
   "metadata": {
    "collapsed": true,
    "slideshow": {
     "slide_type": "subslide"
    }
   },
   "outputs": [],
   "source": [
    "for element in range(len([1, 2, 3, 4, 5])):\n",
    "    pass"
   ]
  },
  {
   "cell_type": "code",
   "execution_count": null,
   "metadata": {
    "slideshow": {
     "slide_type": "fragment"
    }
   },
   "outputs": [],
   "source": [
    "for element in range(len([1, 2, 3, 4, 5])):\n",
    "    print(element)\n",
    "else:\n",
    "    print(\"blok kodu w else\")"
   ]
  },
  {
   "cell_type": "code",
   "execution_count": null,
   "metadata": {
    "slideshow": {
     "slide_type": "subslide"
    }
   },
   "outputs": [],
   "source": [
    "for element in range(len([1, 2, 3, 4, 5])):\n",
    "    print(element)\n",
    "    if element == 2:\n",
    "        break\n",
    "else:\n",
    "    print(\"blok kodu w else\")"
   ]
  },
  {
   "cell_type": "code",
   "execution_count": null,
   "metadata": {
    "slideshow": {
     "slide_type": "subslide"
    }
   },
   "outputs": [],
   "source": [
    "for element in range(len([1, 2, 3, 4, 5])):\n",
    "    print(element)\n",
    "    if element == 2:\n",
    "        continue\n",
    "else:\n",
    "    print(\"blok kodu w else\")"
   ]
  },
  {
   "cell_type": "code",
   "execution_count": null,
   "metadata": {
    "slideshow": {
     "slide_type": "subslide"
    }
   },
   "outputs": [],
   "source": [
    "a = 5\n",
    "while a > 0:\n",
    "    print(a)\n",
    "    a = a - 1"
   ]
  }
 ],
 "metadata": {
  "celltoolbar": "Slideshow",
  "kernelspec": {
   "display_name": "Python 3",
   "language": "python",
   "name": "python3"
  },
  "language_info": {
   "codemirror_mode": {
    "name": "ipython",
    "version": 3
   },
   "file_extension": ".py",
   "mimetype": "text/x-python",
   "name": "python",
   "nbconvert_exporter": "python",
   "pygments_lexer": "ipython3",
   "version": "3.6.2"
  }
 },
 "nbformat": 4,
 "nbformat_minor": 2
}
