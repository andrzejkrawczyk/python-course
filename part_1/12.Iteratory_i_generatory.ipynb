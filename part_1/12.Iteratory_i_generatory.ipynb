{
 "cells": [
  {
   "cell_type": "markdown",
   "metadata": {
    "slideshow": {
     "slide_type": "slide"
    }
   },
   "source": [
    "# Iteratory"
   ]
  },
  {
   "cell_type": "markdown",
   "metadata": {
    "slideshow": {
     "slide_type": "fragment"
    }
   },
   "source": [
    "* relacja konsument - producent"
   ]
  },
  {
   "cell_type": "markdown",
   "metadata": {
    "slideshow": {
     "slide_type": "fragment"
    }
   },
   "source": [
    "* obiekt, który wie jak poruszać się po kolejnych elementach kolekcji"
   ]
  },
  {
   "cell_type": "markdown",
   "metadata": {
    "slideshow": {
     "slide_type": "fragment"
    }
   },
   "source": [
    "* implementuje protokół iteratora"
   ]
  },
  {
   "cell_type": "markdown",
   "metadata": {
    "slideshow": {
     "slide_type": "fragment"
    }
   },
   "source": [
    "* iteratory na tej samej kolekcji są niezależne od siebie"
   ]
  },
  {
   "cell_type": "markdown",
   "metadata": {
    "slideshow": {
     "slide_type": "subslide"
    }
   },
   "source": [
    "* implementuje funkcję `__next__`, która zwraca strumień danych"
   ]
  },
  {
   "cell_type": "markdown",
   "metadata": {
    "slideshow": {
     "slide_type": "fragment"
    }
   },
   "source": [
    "* brak możliwości uruchomienia iteratora od początku"
   ]
  },
  {
   "cell_type": "markdown",
   "metadata": {
    "slideshow": {
     "slide_type": "fragment"
    }
   },
   "source": [
    "* gdy przejdzie do końca kolekcji rzuca wyjątkiem `StopIteration`"
   ]
  },
  {
   "cell_type": "markdown",
   "metadata": {
    "slideshow": {
     "slide_type": "fragment"
    }
   },
   "source": [
    "* implementuje funkcję `__iter__`, która zwraca iterator"
   ]
  },
  {
   "cell_type": "code",
   "execution_count": null,
   "metadata": {
    "slideshow": {
     "slide_type": "subslide"
    }
   },
   "outputs": [],
   "source": [
    "lista = [1, 2, 3]\n",
    "for el in lista:\n",
    "    print(el)"
   ]
  },
  {
   "cell_type": "code",
   "execution_count": null,
   "metadata": {
    "slideshow": {
     "slide_type": "subslide"
    }
   },
   "outputs": [],
   "source": [
    "lista = [1, 2, 3]\n",
    "iterator = iter(lista)\n",
    "print(iterator)\n",
    "print(type(iterator))\n",
    "print(next(iterator))\n",
    "print(next(iterator))\n",
    "print(next(iterator))\n",
    "print(next(iterator))"
   ]
  },
  {
   "cell_type": "code",
   "execution_count": null,
   "metadata": {
    "collapsed": true,
    "slideshow": {
     "slide_type": "subslide"
    }
   },
   "outputs": [],
   "source": [
    "class CustomIterator():\n",
    "    def __init__(self):\n",
    "        self.liczby = [1, 2, 3]\n",
    "        self.index = -1\n",
    "        \n",
    "    def __iter__(self):\n",
    "        print(\"pobieram iterator\")\n",
    "        return self\n",
    "        \n",
    "    def __next__(self):\n",
    "        print(\"pobieram kolejna wartosc\")\n",
    "        self.index = self.index + 1\n",
    "        if (self.index == len(self.liczby)):\n",
    "            raise StopIteration\n",
    "        else:\n",
    "            return self.liczby[self.index]"
   ]
  },
  {
   "cell_type": "code",
   "execution_count": null,
   "metadata": {
    "slideshow": {
     "slide_type": "subslide"
    }
   },
   "outputs": [],
   "source": [
    "for x in CustomIterator():\n",
    "    print(x)"
   ]
  },
  {
   "cell_type": "code",
   "execution_count": null,
   "metadata": {
    "collapsed": true,
    "slideshow": {
     "slide_type": "subslide"
    }
   },
   "outputs": [],
   "source": [
    "class CustomCollection():\n",
    "    def __init__(self, collection):\n",
    "        self.collection = collection\n",
    "        \n",
    "    def __iter__(self):\n",
    "        return CustomIterator(self.collection)\n",
    "    \n",
    "\n",
    "class CustomIterator():\n",
    "    def __init__(self, collection):\n",
    "        self.collection = collection\n",
    "        self.index = -1\n",
    "        self.stop_index = len(collection)\n",
    "        \n",
    "    def __next__(self):\n",
    "        self.index = self.index + 1\n",
    "        if (self.index == self.stop_index):\n",
    "            raise StopIteration\n",
    "        else:\n",
    "            return self.collection[self.index]"
   ]
  },
  {
   "cell_type": "code",
   "execution_count": null,
   "metadata": {
    "slideshow": {
     "slide_type": "subslide"
    }
   },
   "outputs": [],
   "source": [
    "for x in CustomCollection(list(range(5))):\n",
    "    print(x)"
   ]
  },
  {
   "cell_type": "code",
   "execution_count": null,
   "metadata": {
    "collapsed": true,
    "slideshow": {
     "slide_type": "subslide"
    }
   },
   "outputs": [],
   "source": [
    "class CustomCollection():\n",
    "    def __init__(self, collection):\n",
    "        self.collection = collection\n",
    "        \n",
    "    def __iter__(self):\n",
    "        return CustomIterator(self.collection)\n",
    "    \n",
    "\n",
    "class CustomIterator():\n",
    "    def __init__(self, collection):\n",
    "        self.collection = collection\n",
    "        self.index = -1\n",
    "        self.stop_index = len(collection)\n",
    "        \n",
    "    def __next__(self):\n",
    "        self.index = self.index + 1\n",
    "        if (self.index == self.stop_index):\n",
    "            raise StopIteration\n",
    "        else:\n",
    "            return self.collection[self.index]"
   ]
  },
  {
   "cell_type": "code",
   "execution_count": null,
   "metadata": {
    "slideshow": {
     "slide_type": "subslide"
    }
   },
   "outputs": [],
   "source": [
    "iterator = iter(CustomCollection(list(range(10))))\n",
    "print(type(iterator))\n",
    "print(next(iterator))"
   ]
  },
  {
   "cell_type": "code",
   "execution_count": null,
   "metadata": {
    "collapsed": true,
    "slideshow": {
     "slide_type": "subslide"
    }
   },
   "outputs": [],
   "source": [
    "class CustomCollection():\n",
    "    def __init__(self, collection):\n",
    "        self.collection = collection\n",
    "        \n",
    "    def __iter__(self):\n",
    "        return CustomIterator(self.collection)\n",
    "    \n",
    "\n",
    "class CustomIterator():\n",
    "    def __init__(self, collection):\n",
    "        self.collection = collection\n",
    "        self.index = -1\n",
    "        self.stop_index = len(collection)\n",
    "        \n",
    "    def __next__(self):\n",
    "        self.index = self.index + 1\n",
    "        if (self.index == self.stop_index):\n",
    "            raise StopIteration\n",
    "        else:\n",
    "            return self.collection[self.index]"
   ]
  },
  {
   "cell_type": "code",
   "execution_count": null,
   "metadata": {
    "slideshow": {
     "slide_type": "subslide"
    }
   },
   "outputs": [],
   "source": [
    "iterator = iter(CustomCollection(list(range(10))))\n",
    "print(type(iterator))\n",
    "print(next(iterator))"
   ]
  },
  {
   "cell_type": "markdown",
   "metadata": {
    "slideshow": {
     "slide_type": "slide"
    }
   },
   "source": [
    "# Generatory"
   ]
  },
  {
   "cell_type": "markdown",
   "metadata": {
    "slideshow": {
     "slide_type": "fragment"
    }
   },
   "source": [
    "* implementuje protokół iteratora"
   ]
  },
  {
   "cell_type": "markdown",
   "metadata": {
    "slideshow": {
     "slide_type": "fragment"
    }
   },
   "source": [
    "* funkcja zawierająca słowo kluczowe yield"
   ]
  },
  {
   "cell_type": "markdown",
   "metadata": {
    "slideshow": {
     "slide_type": "fragment"
    }
   },
   "source": [
    "* yield zatrzymuje wykonanie funkcji, przy ponownym wywołaniu uruchamia wykonywanie od słowa yield"
   ]
  },
  {
   "cell_type": "code",
   "execution_count": null,
   "metadata": {
    "slideshow": {
     "slide_type": "subslide"
    }
   },
   "outputs": [],
   "source": [
    "import random\n",
    "def frange(start, stop, step=1):\n",
    "    x = start\n",
    "    while x < stop:\n",
    "        yield x\n",
    "        x += step\n",
    "        \n",
    "for el in frange(1, 4, 0.5):\n",
    "    print(el)"
   ]
  },
  {
   "cell_type": "code",
   "execution_count": null,
   "metadata": {
    "slideshow": {
     "slide_type": "subslide"
    }
   },
   "outputs": [],
   "source": [
    "import random\n",
    "def random_numbers_generator(quantity=5, start=0, stop=10):\n",
    "    while quantity > 0:\n",
    "        yield random.randrange(start, stop)\n",
    "        quantity -= 1\n",
    "        \n",
    "for el in random_numbers_generator():\n",
    "    print(el)"
   ]
  },
  {
   "cell_type": "code",
   "execution_count": null,
   "metadata": {
    "slideshow": {
     "slide_type": "subslide"
    }
   },
   "outputs": [],
   "source": [
    "import random\n",
    "def random_numbers_generator(quantity=5, start=0, stop=10):\n",
    "    while quantity > 0:\n",
    "        yield random.randrange(start, stop)\n",
    "        quantity -= 1\n",
    "        \n",
    "for el in random_numbers_generator():\n",
    "    print(el)"
   ]
  },
  {
   "cell_type": "code",
   "execution_count": null,
   "metadata": {
    "slideshow": {
     "slide_type": "subslide"
    }
   },
   "outputs": [],
   "source": [
    "def only_unique(items):\n",
    "    seen = set()\n",
    "    for item in items:\n",
    "        if item in seen:\n",
    "            continue\n",
    "        else:\n",
    "            seen.add(item)\n",
    "            yield item\n",
    "            \n",
    "list(only_unique('aaaabbbcccddeeefff'))"
   ]
  },
  {
   "cell_type": "code",
   "execution_count": null,
   "metadata": {
    "slideshow": {
     "slide_type": "subslide"
    }
   },
   "outputs": [],
   "source": [
    "from collections import Iterable\n",
    "def flatten(items):\n",
    "    for item in items:\n",
    "        if isinstance(item, Iterable):\n",
    "            yield from flatten(item)\n",
    "        else:\n",
    "            yield item\n",
    "\n",
    "x = [1, 2, 3, [4, 5, [6, 7], 8], 9]\n",
    "for el in flatten(x):\n",
    "    print(el)"
   ]
  },
  {
   "cell_type": "markdown",
   "metadata": {
    "slideshow": {
     "slide_type": "subslide"
    }
   },
   "source": [
    "# Python2\n",
    "```from collections import Iterable\n",
    "def flatten(items):\n",
    "    for item in items:\n",
    "       if isinstance(item, Iterable):\n",
    "          for y in flatten(item):\n",
    "              yield y\n",
    "       else:\n",
    "           yield item\n",
    "x = [1, 2, 3, [4, 5, [6, 7], 8], 9]\n",
    "for el in flatten(x):\n",
    "    print(el)\n",
    "```"
   ]
  }
 ],
 "metadata": {
  "celltoolbar": "Slideshow",
  "kernelspec": {
   "display_name": "Python 3",
   "language": "python",
   "name": "python3"
  },
  "language_info": {
   "codemirror_mode": {
    "name": "ipython",
    "version": 3
   },
   "file_extension": ".py",
   "mimetype": "text/x-python",
   "name": "python",
   "nbconvert_exporter": "python",
   "pygments_lexer": "ipython3",
   "version": "3.6.2"
  }
 },
 "nbformat": 4,
 "nbformat_minor": 2
}
