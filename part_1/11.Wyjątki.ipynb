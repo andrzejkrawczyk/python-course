{
 "cells": [
  {
   "cell_type": "markdown",
   "metadata": {
    "slideshow": {
     "slide_type": "slide"
    }
   },
   "source": [
    "# Wyjątki\n",
    "* obsługa błędów, których się nie spodziewamy\n",
    "* należy obsługiwać jak najwęższy odcinek wyjątków\n",
    "* EAFP (Easier to ask for forgiveness than permission ) vs LBYL (Look before you leap)"
   ]
  },
  {
   "cell_type": "code",
   "execution_count": null,
   "metadata": {
    "slideshow": {
     "slide_type": "subslide"
    }
   },
   "outputs": [],
   "source": [
    "import random\n",
    "try:\n",
    "    open(\"{}.txt\".format(random.random()), \"r\")\n",
    "except FileNotFoundError as e:\n",
    "    print(\"nie ma pliku!\")\n",
    "    print(e)\n",
    "finally:\n",
    "    print(\"zawsze sie wykonuje!\")"
   ]
  },
  {
   "cell_type": "code",
   "execution_count": null,
   "metadata": {
    "slideshow": {
     "slide_type": "subslide"
    }
   },
   "outputs": [],
   "source": [
    "import random\n",
    "def foo():\n",
    "    try:\n",
    "        #return open(\"{}.txt\".format(random.random()), \"r\")\n",
    "        return 5\n",
    "    except FileNotFoundError as e:\n",
    "        print(\"nie ma pliku!\")\n",
    "        print(e)\n",
    "    finally:\n",
    "        print(\"zawsze sie wykonuje!\")\n",
    "        \n",
    "print(foo())"
   ]
  },
  {
   "cell_type": "code",
   "execution_count": null,
   "metadata": {
    "slideshow": {
     "slide_type": "subslide"
    }
   },
   "outputs": [],
   "source": [
    "try:\n",
    "    [1, 2, 3, 4]['a']\n",
    "    [1, 2, 3, 4][10]\n",
    "except IndexError as e:\n",
    "    print(\"poza zakresem\")\n",
    "except TypeError as e:\n",
    "    print(\"zly typ indexu\")\n",
    "    print(e)"
   ]
  },
  {
   "cell_type": "code",
   "execution_count": null,
   "metadata": {
    "slideshow": {
     "slide_type": "subslide"
    }
   },
   "outputs": [],
   "source": [
    "try:\n",
    "    [1, 2, 3, 4]['a']\n",
    "    [1, 2, 3, 4][10]\n",
    "except (IndexError, TypeError) as e:\n",
    "    print(\"oops!\")\n",
    "    raise e"
   ]
  },
  {
   "cell_type": "code",
   "execution_count": null,
   "metadata": {
    "slideshow": {
     "slide_type": "subslide"
    }
   },
   "outputs": [],
   "source": [
    "class Error(Exception):\n",
    "    pass\n",
    "\n",
    "class SpecificError(Error):\n",
    "    def __init__(self, msg, msg2):\n",
    "        self.error_msg = msg\n",
    "        self.error_2 = msg2\n",
    "        \n",
    "def foo():\n",
    "    try:\n",
    "        raise SpecificError(\"oops!\", \"ehh!\")\n",
    "    except Error as e:\n",
    "        print(e)\n",
    "        \n",
    "foo()"
   ]
  },
  {
   "cell_type": "code",
   "execution_count": null,
   "metadata": {
    "slideshow": {
     "slide_type": "subslide"
    }
   },
   "outputs": [],
   "source": [
    "def divide_numbers(a, b):\n",
    "    try:\n",
    "        result = a / b\n",
    "    except ZeroDivisionError:\n",
    "        print(\"nie dziel przez zero!\")\n",
    "    else:\n",
    "        print(\"podzielilem: \", result)\n",
    "    finally:\n",
    "        print(\"finnaly\")\n",
    "\n",
    "divide_numbers(5, 2)\n",
    "divide_numbers(5, 0)"
   ]
  },
  {
   "cell_type": "markdown",
   "metadata": {
    "slideshow": {
     "slide_type": "slide"
    }
   },
   "source": [
    "# With\n",
    "\n",
    "* opakowanie kodu w metody `__enter__(self)` i `__exit__`\n",
    "* `__exit__` wywoływane na koniec bloku kodu\n",
    "\n",
    "> with open(\"asdf.txt\", \"r\" as f):\n",
    "\n",
    ">    ...."
   ]
  },
  {
   "cell_type": "code",
   "execution_count": null,
   "metadata": {
    "slideshow": {
     "slide_type": "subslide"
    }
   },
   "outputs": [],
   "source": [
    "class CustomContextManager(object):\n",
    "    def __enter__(self):\n",
    "        print(\"wejscie w metode enter\")\n",
    "        return 5\n",
    "    \n",
    "    def __exit__(self, exc_type, exc_value, traceback):\n",
    "        if exc_type is not None:\n",
    "            print(\"co zrobic na exception?\")\n",
    "        print (exc_type, exc_value, traceback)\n",
    "        print(\"koniec bloku exit\")\n",
    "        \n",
    "with CustomContextManager() as number:\n",
    "    raise NotImplementedError\n",
    "    print(number)"
   ]
  },
  {
   "cell_type": "code",
   "execution_count": null,
   "metadata": {
    "slideshow": {
     "slide_type": "subslide"
    }
   },
   "outputs": [],
   "source": [
    "class CustomContextManager(object):\n",
    "    def __enter__(self):\n",
    "        print(\"wejscie w metode enter\")\n",
    "        return 5\n",
    "    \n",
    "    def __exit__(self, exc_type, exc_value, traceback):\n",
    "        if exc_type is not None:\n",
    "            raise ValueError\n",
    "        print(\"koniec bloku exit\")\n",
    "        \n",
    "with CustomContextManager() as number:\n",
    "    raise NotImplementedError\n",
    "    print(number)"
   ]
  },
  {
   "cell_type": "code",
   "execution_count": null,
   "metadata": {
    "slideshow": {
     "slide_type": "subslide"
    }
   },
   "outputs": [],
   "source": [
    "class CustomContextManager(object):\n",
    "    def __enter__(self):\n",
    "        print(\"wejscie w metode enter\")\n",
    "        return 5\n",
    "    \n",
    "    def __exit__(self, exc_type, exc_value, traceback):\n",
    "        if exc_type is not None:\n",
    "            raise ValueError\n",
    "        print(\"koniec bloku exit\")\n",
    "    \n",
    "try:\n",
    "    with CustomContextManager() as number:\n",
    "        raise NotImplementedError\n",
    "        print(number)\n",
    "except ValueError:\n",
    "        print(\"supress ValueError\")\n",
    "        print(number)"
   ]
  },
  {
   "cell_type": "code",
   "execution_count": null,
   "metadata": {
    "slideshow": {
     "slide_type": "subslide"
    }
   },
   "outputs": [],
   "source": [
    "class CustomContextManager(object):\n",
    "    def __enter__(self):\n",
    "        print(\"wejscie w metode enter\")\n",
    "        return 5\n",
    "    \n",
    "    def __exit__(self, exc_type, exc_value, traceback):\n",
    "        print(\"koniec bloku exit\")\n",
    "        return True\n",
    "    \n",
    "try:\n",
    "    with CustomContextManager() as number:\n",
    "        raise NotImplementedError\n",
    "        print(number)\n",
    "except NotImplementedError:\n",
    "        print(\"supress NotImplementedError\")"
   ]
  }
 ],
 "metadata": {
  "celltoolbar": "Slideshow",
  "kernelspec": {
   "display_name": "Python 3",
   "language": "python",
   "name": "python3"
  },
  "language_info": {
   "codemirror_mode": {
    "name": "ipython",
    "version": 3
   },
   "file_extension": ".py",
   "mimetype": "text/x-python",
   "name": "python",
   "nbconvert_exporter": "python",
   "pygments_lexer": "ipython3",
   "version": "3.6.2"
  }
 },
 "nbformat": 4,
 "nbformat_minor": 2
}
