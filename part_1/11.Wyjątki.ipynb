{
 "cells": [
  {
   "cell_type": "markdown",
   "metadata": {
    "slideshow": {
     "slide_type": "slide"
    }
   },
   "source": [
    "# Wyjątki"
   ]
  },
  {
   "cell_type": "markdown",
   "metadata": {
    "slideshow": {
     "slide_type": "fragment"
    }
   },
   "source": [
    "* obsługa błędów, których się nie spodziewamy"
   ]
  },
  {
   "cell_type": "markdown",
   "metadata": {
    "slideshow": {
     "slide_type": "fragment"
    }
   },
   "source": [
    "* należy obsługiwać jak najwęższy odcinek wyjątków"
   ]
  },
  {
   "cell_type": "markdown",
   "metadata": {
    "slideshow": {
     "slide_type": "fragment"
    }
   },
   "source": [
    "* EAFP (Easier to ask for forgiveness than permission ) vs LBYL (Look before you leap)"
   ]
  },
  {
   "cell_type": "code",
   "execution_count": null,
   "metadata": {
    "slideshow": {
     "slide_type": "subslide"
    }
   },
   "outputs": [],
   "source": [
    "import random\n",
    "try:\n",
    "    open(\"{}.txt\".format(random.random()), \"r\")\n",
    "except FileNotFoundError as e:\n",
    "    print(\"nie ma pliku!\")\n",
    "    print(e)\n",
    "finally:\n",
    "    print(\"zawsze sie wykonuje!\")"
   ]
  },
  {
   "cell_type": "code",
   "execution_count": null,
   "metadata": {
    "slideshow": {
     "slide_type": "subslide"
    }
   },
   "outputs": [],
   "source": [
    "import random\n",
    "def foo():\n",
    "    try:\n",
    "        #return open(\"{}.txt\".format(random.random()), \"r\")\n",
    "        return 5\n",
    "    except FileNotFoundError as e:\n",
    "        print(\"nie ma pliku!\")\n",
    "        print(e)\n",
    "    finally:\n",
    "        print(\"zawsze sie wykonuje!\")\n",
    "        \n",
    "print(foo())"
   ]
  },
  {
   "cell_type": "code",
   "execution_count": null,
   "metadata": {
    "slideshow": {
     "slide_type": "subslide"
    }
   },
   "outputs": [],
   "source": [
    "try:\n",
    "    [1, 2, 3, 4]['a']\n",
    "    [1, 2, 3, 4][10]\n",
    "except IndexError as e:\n",
    "    print(\"poza zakresem\")\n",
    "except TypeError:\n",
    "    print(\"zly typ indexu\")"
   ]
  },
  {
   "cell_type": "code",
   "execution_count": null,
   "metadata": {
    "slideshow": {
     "slide_type": "subslide"
    }
   },
   "outputs": [],
   "source": [
    "try:\n",
    "    [1, 2, 3, 4]['a']\n",
    "    [1, 2, 3, 4][10]\n",
    "except (IndexError, TypeError) as e:\n",
    "    print(\"oops!\")\n",
    "    raise e"
   ]
  },
  {
   "cell_type": "code",
   "execution_count": null,
   "metadata": {
    "slideshow": {
     "slide_type": "subslide"
    }
   },
   "outputs": [],
   "source": [
    "class Error(Exception):\n",
    "    pass\n",
    "\n",
    "class SpecificError(Error):\n",
    "    def __init__(self, msg, msg2):\n",
    "        self.error_msg = msg\n",
    "        self.error_2 = msg2\n",
    "        \n",
    "def foo():\n",
    "    try:\n",
    "        raise SpecificError(\"oops!\", \"ehh!\")\n",
    "    except Error as e:\n",
    "        print(e)\n",
    "        \n",
    "foo()"
   ]
  },
  {
   "cell_type": "code",
   "execution_count": null,
   "metadata": {
    "slideshow": {
     "slide_type": "subslide"
    }
   },
   "outputs": [],
   "source": [
    "def divide_numbers(a, b):\n",
    "    try:\n",
    "        result = a / b\n",
    "    except ZeroDivisionError:\n",
    "        print(\"nie dziel przez zero!\")\n",
    "    else:\n",
    "        print(\"podzielilem: \", result)\n",
    "    finally:\n",
    "        print(\"finnaly\")\n",
    "\n",
    "divide_numbers(5, 2)\n",
    "divide_numbers(5, 0)"
   ]
  }
 ],
 "metadata": {
  "celltoolbar": "Slideshow",
  "kernelspec": {
   "display_name": "Python 3",
   "language": "python",
   "name": "python3"
  },
  "language_info": {
   "codemirror_mode": {
    "name": "ipython",
    "version": 3
   },
   "file_extension": ".py",
   "mimetype": "text/x-python",
   "name": "python",
   "nbconvert_exporter": "python",
   "pygments_lexer": "ipython3",
   "version": "3.6.2"
  }
 },
 "nbformat": 4,
 "nbformat_minor": 2
}
