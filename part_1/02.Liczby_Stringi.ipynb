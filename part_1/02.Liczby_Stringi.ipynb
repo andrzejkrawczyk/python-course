{
 "cells": [
  {
   "cell_type": "markdown",
   "metadata": {
    "slideshow": {
     "slide_type": "slide"
    }
   },
   "source": [
    "# Liczby "
   ]
  },
  {
   "cell_type": "code",
   "execution_count": null,
   "metadata": {
    "slideshow": {
     "slide_type": "subslide"
    }
   },
   "outputs": [],
   "source": [
    "a = 5\n",
    "b = 2\n",
    "c = 5.5\n",
    "d = 3+2j\n",
    "e = 3e+4\n",
    "print(a, b, c, d, e)"
   ]
  },
  {
   "cell_type": "code",
   "execution_count": null,
   "metadata": {
    "slideshow": {
     "slide_type": "fragment"
    }
   },
   "outputs": [],
   "source": [
    "a, b = 5, 2\n",
    "print(a, b)\n",
    "a, b = b, a\n",
    "print(a, b)"
   ]
  },
  {
   "cell_type": "markdown",
   "metadata": {
    "slideshow": {
     "slide_type": "subslide"
    }
   },
   "source": [
    "### Python 3"
   ]
  },
  {
   "cell_type": "code",
   "execution_count": null,
   "metadata": {
    "slideshow": {
     "slide_type": "fragment"
    }
   },
   "outputs": [],
   "source": [
    "print(5 / 2)\n",
    "print(5 // 2)\n",
    "print(5 / 2.0)\n",
    "print(5 % 2)\n",
    "print(5 ** 2)"
   ]
  },
  {
   "cell_type": "markdown",
   "metadata": {
    "slideshow": {
     "slide_type": "subslide"
    }
   },
   "source": [
    "### Python 2\n",
    "> 5 / 2\n",
    ">\n",
    "> 5 // 2\n",
    ">\n",
    "> 5 / 2.0"
   ]
  },
  {
   "cell_type": "code",
   "execution_count": null,
   "metadata": {
    "slideshow": {
     "slide_type": "subslide"
    }
   },
   "outputs": [],
   "source": [
    "a, b, c = abs(-2), pow(5, 2), pow(5, 2, 10)\n",
    "print(a)\n",
    "print(b)\n",
    "print(c) # 5 ** 2 % 10"
   ]
  },
  {
   "cell_type": "code",
   "execution_count": null,
   "metadata": {
    "slideshow": {
     "slide_type": "subslide"
    }
   },
   "outputs": [],
   "source": [
    "x = 10\n",
    "print(5 < x < 100)\n",
    "print(5 and 2)\n",
    "print(5 or 2)"
   ]
  },
  {
   "cell_type": "code",
   "execution_count": null,
   "metadata": {
    "slideshow": {
     "slide_type": "subslide"
    }
   },
   "outputs": [],
   "source": [
    "a = 5\n",
    "a++"
   ]
  },
  {
   "cell_type": "code",
   "execution_count": null,
   "metadata": {
    "slideshow": {
     "slide_type": "fragment"
    }
   },
   "outputs": [],
   "source": [
    "a = 5\n",
    "a += 1\n",
    "print(a)"
   ]
  },
  {
   "cell_type": "code",
   "execution_count": null,
   "metadata": {
    "slideshow": {
     "slide_type": "subslide"
    }
   },
   "outputs": [],
   "source": [
    "a = 5\n",
    "a--"
   ]
  },
  {
   "cell_type": "code",
   "execution_count": null,
   "metadata": {
    "slideshow": {
     "slide_type": "fragment"
    }
   },
   "outputs": [],
   "source": [
    "a = 5\n",
    "a -= 1\n",
    "print(a)"
   ]
  },
  {
   "cell_type": "markdown",
   "metadata": {
    "slideshow": {
     "slide_type": "slide"
    }
   },
   "source": [
    "# Łańcuchy Znaków"
   ]
  },
  {
   "cell_type": "code",
   "execution_count": null,
   "metadata": {
    "slideshow": {
     "slide_type": "subslide"
    }
   },
   "outputs": [],
   "source": [
    "a = \"hulajnoga\"\n",
    "b = 'deskorolka'\n",
    "c = \"\"\"ala \n",
    "ma \n",
    "kota\"\"\"\n",
    "d = \"\"\"ala \\\n",
    "ma \\\n",
    "kota\"\"\"\n",
    "print(a, b, c, d)"
   ]
  },
  {
   "cell_type": "code",
   "execution_count": null,
   "metadata": {
    "slideshow": {
     "slide_type": "fragment"
    }
   },
   "outputs": [],
   "source": [
    "dlugosc = len(\"ala ma kota\")\n",
    "print(dlugosc)\n",
    "print(\"ala\" * 3)\n",
    "print(\"ala\" \" ma\" \" kota\" == \"ala ma kota\")"
   ]
  },
  {
   "cell_type": "code",
   "execution_count": null,
   "metadata": {
    "slideshow": {
     "slide_type": "subslide"
    }
   },
   "outputs": [],
   "source": [
    "import string\n",
    "print(string.digits)\n",
    "print(string.ascii_letters)\n",
    "print(string.ascii_uppercase)\n",
    "print(string.ascii_lowercase)\n",
    "print(string.hexdigits)"
   ]
  },
  {
   "attachments": {
    "slices.jpg": {
     "image/jpeg": "[encoded data removed]"
    }
   },
   "cell_type": "markdown",
   "metadata": {
    "slideshow": {
     "slide_type": "subslide"
    }
   },
   "source": [
    "![slices.jpg](attachment:slices.jpg)"
   ]
  },
  {
   "cell_type": "code",
   "execution_count": null,
   "metadata": {
    "slideshow": {
     "slide_type": "subslide"
    }
   },
   "outputs": [],
   "source": [
    "first, middle, last, reversed_name = \"ala\"[0], \"ala\"[1:2], \"ala\"[-1], \"andrzej\"[::-1]\n",
    "print(\"\\n\".join((first, middle, last, reversed_name)))"
   ]
  },
  {
   "cell_type": "code",
   "execution_count": null,
   "metadata": {
    "slideshow": {
     "slide_type": "subslide"
    }
   },
   "outputs": [],
   "source": [
    "print(\"{} {} {}\".format(\"ala\", \"ma\", \"kota\"))\n",
    "print(\"{2} {1} {0}\".format(\"ala\", \"ma\", \"kota\"))\n",
    "print(\"{liczbapierwsza} {ala} {ma}\".format(liczbapierwsza=7, ala=\"ala\", ma=[1,2]))"
   ]
  },
  {
   "cell_type": "code",
   "execution_count": null,
   "metadata": {
    "slideshow": {
     "slide_type": "subslide"
    }
   },
   "outputs": [],
   "source": [
    "class Punkt():\n",
    "    x = 5\n",
    "    y = 10\n",
    "\n",
    "slowa = {\n",
    "    \"imie\": \"ala\",\n",
    "    \"dom\": \"jednorodzinny\",\n",
    "    \"wiek\": [\"27\", \"lat\"],\n",
    "    \"lista\": [1,2,3,4],\n",
    "    \"punkt\": Punkt()\n",
    "}\n",
    "\"{imie} ma {wiek[0]} {wiek[1]} i buduje {dom} dom, współrzędne {punkt.x}, {punkt.y}\".format(**slowa)"
   ]
  },
  {
   "cell_type": "code",
   "execution_count": null,
   "metadata": {
    "slideshow": {
     "slide_type": "subslide"
    }
   },
   "outputs": [],
   "source": [
    "a = \"ala %s\" % \"ma kota\"\n",
    "b = \"ala %d\" % 5\n",
    "c = \"%o\" % 111\n",
    "print(a)\n",
    "print(b)\n",
    "print(c)"
   ]
  },
  {
   "cell_type": "code",
   "execution_count": null,
   "metadata": {
    "slideshow": {
     "slide_type": "subslide"
    }
   },
   "outputs": [],
   "source": [
    "print(\" \".join([\"ala\", \"ma\", \"kota\"]))\n",
    "print(\"   ala ma  kota    \".strip())\n",
    "print(\"ala ma kota\".split(\" \"))\n",
    "print(\"ala ma kota\".split(sep=\" \", maxsplit=1))\n",
    "print(list(\"ala ma kota\"))\n",
    "print(\"ala ma arbuza\".replace(\"arbuza\", \"kota\"))"
   ]
  },
  {
   "cell_type": "markdown",
   "metadata": {
    "slideshow": {
     "slide_type": "subslide"
    }
   },
   "source": [
    "# Python2\n",
    "* Stringi są danymi binarnymi\n",
    "* Wymagają jawnej konwersji do unicode\n",
    "* Należy pamiętać o kodowaniu i co mamy w danej zmiennej"
   ]
  },
  {
   "cell_type": "markdown",
   "metadata": {
    "slideshow": {
     "slide_type": "subslide"
    }
   },
   "source": [
    "* \"ala ma kota\" # -> dane binarne\n",
    "* u\"ala ma kota\" # -> unicode"
   ]
  },
  {
   "cell_type": "markdown",
   "metadata": {
    "slideshow": {
     "slide_type": "subslide"
    }
   },
   "source": [
    "* \"ala ma kota\".decode(\"utf-8\") # -> odkodowanie stringa utf-8 na unicode\n",
    "* u\"Łabądź\".encode(\"utf-8\") # -> kodowanie unicode na utf-8 '\\xc5\\x81ab\\xc4\\x85d\\xc5\\xba'\n",
    "* u\"Łabądź\".encode(\"utf-8\").decode(\"ascii\")\n",
    "\n",
    ">Traceback (most recent call last):\n",
    ">  File \"python\", line 1, in <module>\n",
    "UnicodeDecodeError: 'ascii' codec can't decode byte 0xc5 in position 0: ordinal not in range(128)"
   ]
  },
  {
   "cell_type": "markdown",
   "metadata": {
    "slideshow": {
     "slide_type": "subslide"
    }
   },
   "source": [
    "# Python3\n",
    "* Domyślnie unicode\n",
    "* Wymaga jawnego zaznaczenia danych binarnych\n",
    "* Jedna z głównych zmian między wersjami Pythona"
   ]
  },
  {
   "cell_type": "code",
   "execution_count": null,
   "metadata": {
    "slideshow": {
     "slide_type": "subslide"
    }
   },
   "outputs": [],
   "source": [
    "print(b\"Ala ma kota\")\n",
    "print(b\"Ala ma kota\".decode(\"ascii\"))\n",
    "print(\"Łabądź\".encode(\"utf-8\"))\n",
    "print(\"Łabądź\".encode(\"utf-8\").decode(\"utf-8\"))\n",
    "print(\"Łabądź\".encode(\"utf-8\").decode(\"ascii\"))"
   ]
  }
 ],
 "metadata": {
  "celltoolbar": "Slideshow",
  "kernelspec": {
   "display_name": "Python 3",
   "language": "python",
   "name": "python3"
  },
  "language_info": {
   "codemirror_mode": {
    "name": "ipython",
    "version": 3
   },
   "file_extension": ".py",
   "mimetype": "text/x-python",
   "name": "python",
   "nbconvert_exporter": "python",
   "pygments_lexer": "ipython3",
   "version": "3.6.2"
  }
 },
 "nbformat": 4,
 "nbformat_minor": 2
}
