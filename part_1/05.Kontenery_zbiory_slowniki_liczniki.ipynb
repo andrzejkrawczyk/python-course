{
 "cells": [
  {
   "cell_type": "markdown",
   "metadata": {
    "slideshow": {
     "slide_type": "slide"
    }
   },
   "source": [
    "# Sets (Zbiory)\n",
    "* hashtablice o stałej długości\n",
    "* nie zawiera kolejności elementów\n",
    "* obiekt oraz hash wartość\n",
    "* startowy rozmiar 8\n",
    "* powiększanie o x4 przy 2/3 zapełnieniu"
   ]
  },
  {
   "cell_type": "code",
   "execution_count": 1,
   "metadata": {
    "slideshow": {
     "slide_type": "subslide"
    }
   },
   "outputs": [
    {
     "name": "stdout",
     "output_type": "stream",
     "text": [
      "{3, 4}\n",
      "{1, 2, 3, 4, 5}\n",
      "{1, 2, 3}\n"
     ]
    }
   ],
   "source": [
    "iloczyn = set([1, 2, 3, 4, 5]) & set([3, 4])\n",
    "suma = set([1, 2, 3]) | set([4, 5])\n",
    "roznica = set([1, 2, 3, 4, 5]) - set([4, 5])\n",
    "print(iloczyn)\n",
    "print(suma)\n",
    "print(roznica)"
   ]
  },
  {
   "cell_type": "code",
   "execution_count": 2,
   "metadata": {
    "slideshow": {
     "slide_type": "fragment"
    }
   },
   "outputs": [
    {
     "name": "stdout",
     "output_type": "stream",
     "text": [
      "{2, 3}\n"
     ]
    }
   ],
   "source": [
    "a = [1, 2, 3, 4]\n",
    "b = [2, 3]\n",
    "zbior1 = set(a)\n",
    "zbior2 = set(b)\n",
    "iloczyn = zbior1 & zbior2\n",
    "print(zbior2)"
   ]
  },
  {
   "cell_type": "markdown",
   "metadata": {
    "slideshow": {
     "slide_type": "slide"
    }
   },
   "source": [
    "# Słowniki (Maps/Dictionaries)\n",
    "* brak zachowania kolejności dodawania\n",
    "* iterowalna\n",
    "* tablice asocjacyjne"
   ]
  },
  {
   "cell_type": "code",
   "execution_count": 3,
   "metadata": {
    "slideshow": {
     "slide_type": "subslide"
    }
   },
   "outputs": [
    {
     "name": "stdout",
     "output_type": "stream",
     "text": [
      "{'andrzej': 10, 'bartek': 15}\n",
      "dict_keys(['andrzej', 'bartek'])\n",
      "dict_values([10, 15])\n"
     ]
    }
   ],
   "source": [
    "imiona = {\n",
    "    \"andrzej\": 10,\n",
    "    \"bartek\": 15\n",
    "}\n",
    "print(imiona)\n",
    "print(imiona.keys())\n",
    "print(imiona.values())"
   ]
  },
  {
   "cell_type": "code",
   "execution_count": 4,
   "metadata": {
    "slideshow": {
     "slide_type": "fragment"
    }
   },
   "outputs": [
    {
     "name": "stdout",
     "output_type": "stream",
     "text": [
      "{'andrzej': 10, 10: 5}\n",
      "{'andrzej': 10, 'bartek': 5}\n",
      "dict_items([('andrzej', 10), ('bartek', 5)])\n",
      "{'a': [], 'b': [], 'c': [], 'd': []}\n"
     ]
    }
   ],
   "source": [
    "print( dict([(\"andrzej\", 10), (10, 5)]))\n",
    "imiona = dict(andrzej=10, bartek=5)\n",
    "print(imiona)\n",
    "print(imiona.items())\n",
    "print(dict.fromkeys('abcd', []))"
   ]
  },
  {
   "cell_type": "code",
   "execution_count": 5,
   "metadata": {
    "slideshow": {
     "slide_type": "subslide"
    }
   },
   "outputs": [
    {
     "name": "stdout",
     "output_type": "stream",
     "text": [
      "5\n",
      "True\n",
      "10\n",
      "ala ma kota\n"
     ]
    }
   ],
   "source": [
    "imiona = dict(andrzej=10, bartek=5)\n",
    "print(imiona.get(\"andrzej2\", 5))\n",
    "print(\"andrzej\" in imiona)\n",
    "print(imiona.pop(\"andrzej\"))\n",
    "print(imiona.pop(\"andrzej2\", \"ala ma kota\"))"
   ]
  },
  {
   "cell_type": "code",
   "execution_count": 6,
   "metadata": {
    "slideshow": {
     "slide_type": "subslide"
    }
   },
   "outputs": [
    {
     "name": "stdout",
     "output_type": "stream",
     "text": [
      "10\n",
      "domyślna wartość\n"
     ]
    }
   ],
   "source": [
    "imiona = dict(andrzej=10, bartek=5)\n",
    "print(imiona.setdefault(\"andrzej\"))\n",
    "print(imiona.setdefault(\"klucz którego nie ma\", \"domyślna wartość\"))"
   ]
  },
  {
   "cell_type": "code",
   "execution_count": null,
   "metadata": {
    "collapsed": true,
    "slideshow": {
     "slide_type": "fragment"
    }
   },
   "outputs": [],
   "source": [
    "imiona = dict(andrzej=10, bartek=5)\n",
    "print(imiona.setdefault(\"andrzej\"))\n",
    "print(imiona.setdefault(\"klucz którego nie ma\", \"domyślna wartość\"))"
   ]
  },
  {
   "cell_type": "code",
   "execution_count": 7,
   "metadata": {
    "slideshow": {
     "slide_type": "subslide"
    }
   },
   "outputs": [
    {
     "data": {
      "text/plain": [
       "defaultdict(list, {'andrzej': [5]})"
      ]
     },
     "execution_count": 7,
     "metadata": {},
     "output_type": "execute_result"
    }
   ],
   "source": [
    "from collections import defaultdict\n",
    "imiona = defaultdict(list)\n",
    "\n",
    "imiona[\"andrzej\"].append(5)\n",
    "imiona"
   ]
  },
  {
   "cell_type": "code",
   "execution_count": 8,
   "metadata": {
    "slideshow": {
     "slide_type": "fragment"
    }
   },
   "outputs": [
    {
     "data": {
      "text/plain": [
       "defaultdict(set, {'andrzej': {5}})"
      ]
     },
     "execution_count": 8,
     "metadata": {},
     "output_type": "execute_result"
    }
   ],
   "source": [
    "from collections import defaultdict\n",
    "imiona = defaultdict(set)\n",
    "\n",
    "imiona[\"andrzej\"].add(5)\n",
    "imiona"
   ]
  },
  {
   "cell_type": "code",
   "execution_count": 9,
   "metadata": {
    "slideshow": {
     "slide_type": "subslide"
    }
   },
   "outputs": [
    {
     "data": {
      "text/plain": [
       "defaultdict(int, {'andrzej': 1, 'andrzej2': -5})"
      ]
     },
     "execution_count": 9,
     "metadata": {},
     "output_type": "execute_result"
    }
   ],
   "source": [
    "from collections import defaultdict\n",
    "imiona = defaultdict(int)\n",
    "\n",
    "imiona[\"andrzej\"] += 1\n",
    "imiona[\"andrzej2\"] -= 5\n",
    "imiona"
   ]
  },
  {
   "cell_type": "code",
   "execution_count": 10,
   "metadata": {
    "slideshow": {
     "slide_type": "subslide"
    }
   },
   "outputs": [
    {
     "name": "stdout",
     "output_type": "stream",
     "text": [
      "False\n",
      "False\n"
     ]
    },
    {
     "data": {
      "text/plain": [
       "defaultdict(<function __main__.<lambda>>, {'andrzej': 11})"
      ]
     },
     "execution_count": 10,
     "metadata": {},
     "output_type": "execute_result"
    }
   ],
   "source": [
    "from collections import defaultdict\n",
    "\n",
    "imiona = defaultdict(lambda: 10)\n",
    "\n",
    "imiona[\"andrzej\"] += 1\n",
    "print(\"bartek\" in imiona)\n",
    "print(10 in imiona)\n",
    "imiona"
   ]
  },
  {
   "cell_type": "code",
   "execution_count": 11,
   "metadata": {
    "slideshow": {
     "slide_type": "subslide"
    }
   },
   "outputs": [
    {
     "data": {
      "text/plain": [
       "(4, 5)"
      ]
     },
     "execution_count": 11,
     "metadata": {},
     "output_type": "execute_result"
    }
   ],
   "source": [
    "from operator import itemgetter\n",
    "\n",
    "dane = {\"a\": 1, \"b\": 2, \"c\": 4, \"d\": 5}\n",
    "pobierz_wartosci = itemgetter(\"c\", \"d\")\n",
    "pobierz_wartosci(dane)"
   ]
  },
  {
   "cell_type": "code",
   "execution_count": 12,
   "metadata": {
    "slideshow": {
     "slide_type": "fragment"
    }
   },
   "outputs": [
    {
     "data": {
      "text/plain": [
       "[{'a': 1, 'b': 2, 'c': 4, 'd': 5},\n",
       " {'a': 2, 'b': 2, 'c': 4, 'd': 7},\n",
       " {'a': 4, 'b': 2, 'c': 4, 'd': 10}]"
      ]
     },
     "execution_count": 12,
     "metadata": {},
     "output_type": "execute_result"
    }
   ],
   "source": [
    "rows = [\n",
    "    {\"a\": 1, \"b\": 2, \"c\": 4, \"d\": 5},\n",
    "    {\"a\": 4, \"b\": 2, \"c\": 4, \"d\": 10},\n",
    "    {\"a\": 2, \"b\": 2, \"c\": 4, \"d\": 7}\n",
    "]\n",
    "sorted(rows, key=itemgetter(\"a\", \"d\"))"
   ]
  },
  {
   "cell_type": "markdown",
   "metadata": {
    "slideshow": {
     "slide_type": "slide"
    }
   },
   "source": [
    "# OrderedDict"
   ]
  },
  {
   "cell_type": "code",
   "execution_count": 13,
   "metadata": {
    "slideshow": {
     "slide_type": "fragment"
    }
   },
   "outputs": [
    {
     "name": "stdout",
     "output_type": "stream",
     "text": [
      "OrderedDict([('a', []), ('b', []), ('c', []), ('d', []), ('e', [])])\n",
      "odict_keys(['a', 'b', 'c', 'd', 'e'])\n"
     ]
    }
   ],
   "source": [
    "from collections import OrderedDict\n",
    "a = OrderedDict.fromkeys('abcde', [])\n",
    "print(a)\n",
    "print(a.keys())"
   ]
  },
  {
   "cell_type": "code",
   "execution_count": 14,
   "metadata": {
    "slideshow": {
     "slide_type": "fragment"
    }
   },
   "outputs": [
    {
     "name": "stdout",
     "output_type": "stream",
     "text": [
      "OrderedDict([('a', []), ('c', []), ('d', []), ('e', []), ('b', [])])\n",
      "OrderedDict([('b', []), ('a', []), ('c', []), ('d', []), ('e', [])])\n"
     ]
    }
   ],
   "source": [
    "a.move_to_end('b')\n",
    "print(a)\n",
    "a.move_to_end('b', last=False)\n",
    "print(a)"
   ]
  },
  {
   "cell_type": "code",
   "execution_count": 15,
   "metadata": {
    "slideshow": {
     "slide_type": "subslide"
    }
   },
   "outputs": [
    {
     "name": "stdout",
     "output_type": "stream",
     "text": [
      "('e', [])\n",
      "('d', [])\n",
      "('a', [])\n"
     ]
    }
   ],
   "source": [
    "a = OrderedDict.fromkeys('abcde', [])\n",
    "print(a.popitem())\n",
    "print(a.popitem())\n",
    "print(a.popitem(last=False))"
   ]
  },
  {
   "cell_type": "markdown",
   "metadata": {
    "slideshow": {
     "slide_type": "slide"
    }
   },
   "source": [
    "# Counter\n",
    "* słownik służący do zliczania elementów\n",
    "* brak fromkeys"
   ]
  },
  {
   "cell_type": "code",
   "execution_count": 16,
   "metadata": {
    "slideshow": {
     "slide_type": "subslide"
    }
   },
   "outputs": [
    {
     "name": "stdout",
     "output_type": "stream",
     "text": [
      "Counter({'a': 6, 'b': 3, 'd': 3, 's': 3, 'l': 2, 'f': 2, 'c': 1, 'h': 1})\n",
      "[('a', 6), ('b', 3), ('d', 3)]\n",
      "<itertools.chain object at 0x7fb180037c18>\n",
      "['a', 'a', 'a', 'a', 'a', 'a', 'b', 'b', 'b', 'c', 'd', 'd', 'd', 'f', 'f', 'h', 'l', 'l', 's', 's', 's']\n"
     ]
    }
   ],
   "source": [
    "from collections import Counter\n",
    "ct = Counter('aaaabbbcdaslfhsdlfdas')\n",
    "print(ct)\n",
    "print(ct.most_common(3))\n",
    "print(ct.elements())\n",
    "print(sorted(ct.elements()))"
   ]
  },
  {
   "cell_type": "code",
   "execution_count": 17,
   "metadata": {
    "slideshow": {
     "slide_type": "subslide"
    }
   },
   "outputs": [
    {
     "name": "stdout",
     "output_type": "stream",
     "text": [
      "21\n",
      "['a', 'b', 'c', 'd', 's', 'l', 'f', 'h']\n",
      "Counter()\n"
     ]
    }
   ],
   "source": [
    "print(sum(Counter('aaaabbbcdaslfhsdlfdas').values()))\n",
    "print(list(Counter('aaaabbbcdaslfhsdlfdas')))\n",
    "c = Counter('aaaabbbcdaslfhsdlfdas')\n",
    "c.clear()\n",
    "print(c)"
   ]
  },
  {
   "cell_type": "code",
   "execution_count": 18,
   "metadata": {
    "slideshow": {
     "slide_type": "fragment"
    }
   },
   "outputs": [
    {
     "name": "stdout",
     "output_type": "stream",
     "text": [
      "Counter({'a': 3, 'b': 3, 'd': 0, 'e': -4})\n",
      "Counter({'a': 3, 'b': 3})\n"
     ]
    }
   ],
   "source": [
    "c = Counter('aaabbb')\n",
    "c['e'] = -4\n",
    "c['d'] = 0\n",
    "print(c)\n",
    "print(+c)"
   ]
  },
  {
   "cell_type": "code",
   "execution_count": 19,
   "metadata": {
    "slideshow": {
     "slide_type": "subslide"
    }
   },
   "outputs": [
    {
     "name": "stdout",
     "output_type": "stream",
     "text": [
      "Counter({'a': 3, 'b': 3})\n",
      "Counter({'a': 2, 'b': 1})\n"
     ]
    }
   ],
   "source": [
    "c = Counter('aaabbb')\n",
    "print(c)\n",
    "c.subtract(Counter('abb'))\n",
    "print(c)"
   ]
  }
 ],
 "metadata": {
  "celltoolbar": "Slideshow",
  "kernelspec": {
   "display_name": "Python 3",
   "language": "python",
   "name": "python3"
  },
  "language_info": {
   "codemirror_mode": {
    "name": "ipython",
    "version": 3
   },
   "file_extension": ".py",
   "mimetype": "text/x-python",
   "name": "python",
   "nbconvert_exporter": "python",
   "pygments_lexer": "ipython3",
   "version": "3.6.2"
  }
 },
 "nbformat": 4,
 "nbformat_minor": 2
}
