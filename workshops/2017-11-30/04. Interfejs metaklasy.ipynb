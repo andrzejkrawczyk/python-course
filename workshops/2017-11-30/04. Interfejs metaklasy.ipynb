{
 "cells": [
  {
   "cell_type": "markdown",
   "metadata": {},
   "source": [
    "Zaimplementuj metaklasę sprawdzającą implementację interfejsu. Nazwy metod powinny być przechowywane w atrybucie `__interfaces__`"
   ]
  },
  {
   "cell_type": "code",
   "execution_count": null,
   "metadata": {},
   "outputs": [],
   "source": [
    "class Interface(type):\n",
    "    def __init__(cls, classname, bases, classdict):\n",
    "        super().__init__(classname, bases, classdict)\n",
    "        implements = set(dir(cls))\n",
    "        \n",
    "        for interface_attributes, interface_class in ((set(dir(interface)), interface) for interface in cls.__interfaces__):\n",
    "            if not implements >= interface_attributes:\n",
    "                missing_attributes = str(interface_attributes - implements)\n",
    "                raise AttributeError(\"In {} is missing: {}\".format(interface_class, missing_attributes))\n",
    "    \n",
    "class IPunkt():\n",
    "    x = 5\n",
    "    y = 10\n",
    "    \n",
    "    def odleglosc(self):\n",
    "        pass\n",
    "    \n",
    "class Punkt(object, metaclass=Interface):\n",
    "    __interfaces__ = [ IPunkt]\n",
    "    \n",
    "    x = 1\n",
    "    y = 2\n",
    "    \n",
    "    def __init__(self, x, y):\n",
    "        self.x = x\n",
    "        self.y = y\n",
    "        \n",
    "    def odleglosc(self):\n",
    "        pass\n",
    "        \n",
    "p = Punkt(1, 2)"
   ]
  }
 ],
 "metadata": {
  "kernelspec": {
   "display_name": "Python 3",
   "language": "python",
   "name": "python3"
  },
  "language_info": {
   "codemirror_mode": {
    "name": "ipython",
    "version": 3
   },
   "file_extension": ".py",
   "mimetype": "text/x-python",
   "name": "python",
   "nbconvert_exporter": "python",
   "pygments_lexer": "ipython3",
   "version": "3.6.2"
  }
 },
 "nbformat": 4,
 "nbformat_minor": 2
}
