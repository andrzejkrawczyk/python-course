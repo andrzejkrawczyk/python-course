{
 "cells": [
  {
   "cell_type": "markdown",
   "metadata": {
    "slideshow": {
     "slide_type": "slide"
    }
   },
   "source": [
    "# 1.\n",
    "\n",
    "Zaimplementuj generator liczb pseudolosowych korzystając z algorytmu Wichmann–Hill. \n",
    "Zmodyfikuj generator tak, aby zwracał liczby:\n",
    "z zakresu z częstosliwością:\n",
    "* 1-10 -> 25%\n",
    "* 11-50 -> 15%\n",
    "* 51-75 -> 35%\n",
    "* 76 - 99 -> 20%\n",
    "* 100 -> 5%"
   ]
  },
  {
   "cell_type": "markdown",
   "metadata": {
    "slideshow": {
     "slide_type": "subslide"
    }
   },
   "source": [
    "Na próbce 100 tysięcy liczb, oblicz rozkład.\n",
    ">function(s1, s2, s3)\n",
    ">\n",
    ">    s1 = mod ( `171 * s1`, 30269 )\n",
    ">\n",
    ">    s2 = mod ( `172 * s2`, 30307 )\n",
    ">\n",
    ">    s3 = mod ( `170 * s3`, 30323 )\n",
    ">\n",
    ">\n",
    ">    r = mod ( s1/30269 + s2/30307 + s3/30323, 1 )\n",
    ">\n",
    ">    return r"
   ]
  },
  {
   "cell_type": "markdown",
   "metadata": {
    "slideshow": {
     "slide_type": "slide"
    }
   },
   "source": [
    "<center><h1>2. Zaimplementuj dekorator `WordProcessor`, który można wbogacać o pluginy. Przykład użycia:</h1></center>"
   ]
  },
  {
   "cell_type": "code",
   "execution_count": null,
   "metadata": {
    "collapsed": true,
    "slideshow": {
     "slide_type": "subslide"
    }
   },
   "outputs": [],
   "source": [
    "@WordProcessor.register\n",
    "def strip_text(text):\n",
    "    pass\n",
    "\n",
    "@WordProcessor.register\n",
    "def capitalize_text(text):\n",
    "    pass\n",
    "\n",
    "@WordProcessor.process(\"   ala ma kota   \") # -> \"Ala ma kota\""
   ]
  },
  {
   "cell_type": "markdown",
   "metadata": {
    "slideshow": {
     "slide_type": "slide"
    }
   },
   "source": [
    "<center><h1> 3. Zaimplementuj dekorator Singleton, który będzie zapewniał dla danej klasy wzorzec Singleton</h1></center>"
   ]
  },
  {
   "cell_type": "markdown",
   "metadata": {
    "slideshow": {
     "slide_type": "slide"
    }
   },
   "source": [
    "<center><h1>4. Zaimplementuj metaklasę sprawdzającą implementację interfejsu. Nazwy metod powinny być przechowywane w atrybucie `__interfaces__`</h1></center>"
   ]
  },
  {
   "cell_type": "markdown",
   "metadata": {
    "collapsed": true,
    "slideshow": {
     "slide_type": "slide"
    }
   },
   "source": [
    "<center><h1>5. Dekorator poprawiający funkcje typu def(l=[]): pass</h1></center>"
   ]
  },
  {
   "cell_type": "markdown",
   "metadata": {
    "collapsed": true,
    "slideshow": {
     "slide_type": "slide"
    }
   },
   "source": [
    "<center><h1>6. Zaimplementuj polecenie tail </h1></center>"
   ]
  }
 ],
 "metadata": {
  "celltoolbar": "Slideshow",
  "kernelspec": {
   "display_name": "Python 3",
   "language": "python",
   "name": "python3"
  },
  "language_info": {
   "codemirror_mode": {
    "name": "ipython",
    "version": 3
   },
   "file_extension": ".py",
   "mimetype": "text/x-python",
   "name": "python",
   "nbconvert_exporter": "python",
   "pygments_lexer": "ipython3",
   "version": "3.6.2"
  }
 },
 "nbformat": 4,
 "nbformat_minor": 2
}
