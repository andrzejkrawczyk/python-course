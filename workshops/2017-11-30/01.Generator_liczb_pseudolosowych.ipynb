{
 "cells": [
  {
   "cell_type": "markdown",
   "metadata": {
    "slideshow": {
     "slide_type": "slide"
    }
   },
   "source": [
    "Zaimplementuj generator liczb pseudolosowych korzystając z algorytmu Wichmann–Hill. \n",
    "Zmodyfikuj generator tak, aby zwracał liczby:\n",
    "z zakresu z częstosliwością:\n",
    "* 1-10 -> 25%\n",
    "* 11-50 -> 15%\n",
    "* 51-75 -> 35%\n",
    "* 76 - 99 -> 20%\n",
    "* 100 -> 5%\n",
    "\n",
    "Na próbce 100 tysięcy liczb, oblicz rozkład.\n",
    ">function(s1, s2, s3)\n",
    ">\n",
    ">    s1 = mod ( `171 * s1`, 30269 )\n",
    ">\n",
    ">    s2 = mod ( `172 * s2`, 30307 )\n",
    ">\n",
    ">    s3 = mod ( `170 * s3`, 30323 )\n",
    ">\n",
    ">\n",
    ">    r = mod ( s1/30269 + s2/30307 + s3/30323, 1 )\n",
    ">\n",
    ">    return r"
   ]
  },
  {
   "cell_type": "code",
   "execution_count": null,
   "metadata": {
    "collapsed": true,
    "slideshow": {
     "slide_type": "subslide"
    }
   },
   "outputs": [],
   "source": [
    "import time\n",
    "from functools import partial\n",
    "from collections import Counter\n",
    "\n",
    "class RandomNumbersGenerator():\n",
    "    def __init__(self):\n",
    "        self.s1 = time.time()\n",
    "        self.s2 = time.time()\n",
    "        self.s3 = time.time()\n",
    "        \n",
    "    def _linear_rng(self):\n",
    "        while True:\n",
    "            self.s1 = (171 * self.s1) % 30269\n",
    "            self.s2 = (172 * self.s2) % 30307\n",
    "            self.s3 = (170 * self.s3) % 30323\n",
    "            yield (self.s1 / 30269.0 + self.s2 / 30307.0 + self.s3 / 30323.0) % 1.0\n",
    "            \n",
    "    def __iter__(self):\n",
    "        rng = self._linear_rng()\n",
    "        inrange = lambda min, max: int(next(rng) * abs(max - min) + min)\n",
    "        while True:\n",
    "            rn = next(rng)\n",
    "            if rn <= 0.25:\n",
    "                 yield inrange(1, 10)\n",
    "            elif 0.25 < rn <= 0.4:\n",
    "                yield inrange(11, 50)\n",
    "            elif 0.4 < rn <= 0.75:\n",
    "                yield inrange(51, 75)\n",
    "            elif 0.75 < rn <= 0.95:\n",
    "                yield inrange(76, 99)\n",
    "            else:\n",
    "                yield 100\n",
    "                \n",
    "    def __enter__(self):\n",
    "        return iter(self)\n",
    "    \n",
    "    def __exit__(self, *args):\n",
    "        pass"
   ]
  },
  {
   "cell_type": "code",
   "execution_count": null,
   "metadata": {
    "slideshow": {
     "slide_type": "subslide"
    }
   },
   "outputs": [],
   "source": [
    "AMOUNT = 100000\n",
    "with RandomNumbersGenerator() as rng:\n",
    "    rng_gen = partial(next, rng)\n",
    "    ct = Counter()\n",
    "    for i in range(AMOUNT):\n",
    "        rn = rng_gen()\n",
    "        if rn in range(1, 11):\n",
    "            ct[(1, 10)] += 1\n",
    "        elif rn in range(11, 51):\n",
    "            ct[(11, 50)] += 1\n",
    "        elif rn in range(51, 76):\n",
    "            ct[(51, 75)] += 1\n",
    "        elif rn in range(76, 100):\n",
    "            ct[(76, 99)] += 1\n",
    "        else:\n",
    "            ct[(100,)] += 1\n",
    "    print(sorted(ct.items(), key=lambda x: x[0]))"
   ]
  }
 ],
 "metadata": {
  "celltoolbar": "Slideshow",
  "kernelspec": {
   "display_name": "Python 3",
   "language": "python",
   "name": "python3"
  },
  "language_info": {
   "codemirror_mode": {
    "name": "ipython",
    "version": 3
   },
   "file_extension": ".py",
   "mimetype": "text/x-python",
   "name": "python",
   "nbconvert_exporter": "python",
   "pygments_lexer": "ipython3",
   "version": "3.6.2"
  }
 },
 "nbformat": 4,
 "nbformat_minor": 2
}
