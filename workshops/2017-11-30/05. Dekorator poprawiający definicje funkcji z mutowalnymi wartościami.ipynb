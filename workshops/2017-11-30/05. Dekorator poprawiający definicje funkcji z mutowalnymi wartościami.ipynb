{
 "cells": [
  {
   "cell_type": "markdown",
   "metadata": {
    "slideshow": {
     "slide_type": "slide"
    }
   },
   "source": [
    "<center><h1>Dekorator poprawiający funkcje typu `def (l=[]): pass`</h1></center>"
   ]
  },
  {
   "cell_type": "code",
   "execution_count": null,
   "metadata": {
    "collapsed": true,
    "slideshow": {
     "slide_type": "subslide"
    }
   },
   "outputs": [],
   "source": [
    "from inspect import signature, Parameter\n",
    "from copy import deepcopy\n",
    "\n",
    "def refresh(f):\n",
    "    params_to_fix = {}\n",
    "    sig = signature(f)\n",
    "    positionals = 0\n",
    "    for key, param in sig.parameters.items():\n",
    "        if param.kind == Parameter.POSITIONAL_OR_KEYWORD and param.default is not param.empty:\n",
    "            params_to_fix[key] = deepcopy(param.default)\n",
    "            positionals = positionals + 1\n",
    "        elif param.kind in (Parameter.POSITIONAL_ONLY, Parameter.POSITIONAL_OR_KEYWORD):\n",
    "            positionals = positionals + 1\n",
    "\n",
    "    checking_set = set(params_to_fix.keys())\n",
    "    def decorator(*args, **kwargs):\n",
    "        input_kwargs_set = set(kwargs.keys())\n",
    "        if len(args) == positionals or input_kwargs_set >= checking_set:\n",
    "            return f(*args, **kwargs)\n",
    "        else:\n",
    "            difference = checking_set - input_kwargs_set\n",
    "            for key in difference:\n",
    "                kwargs[key] = deepcopy(params_to_fix[key])\n",
    "            return f(*args, **kwargs)\n",
    "        \n",
    "    return decorator\n",
    "        \n",
    "\n",
    "@refresh\n",
    "def f(item, l=[]):\n",
    "    l.append(item)\n",
    "    return l\n",
    "\n",
    "l = []\n",
    "f(1)\n",
    "f(2)"
   ]
  }
 ],
 "metadata": {
  "celltoolbar": "Slideshow",
  "kernelspec": {
   "display_name": "Python 3",
   "language": "python",
   "name": "python3"
  },
  "language_info": {
   "codemirror_mode": {
    "name": "ipython",
    "version": 3
   },
   "file_extension": ".py",
   "mimetype": "text/x-python",
   "name": "python",
   "nbconvert_exporter": "python",
   "pygments_lexer": "ipython3",
   "version": "3.6.2"
  }
 },
 "nbformat": 4,
 "nbformat_minor": 2
}
