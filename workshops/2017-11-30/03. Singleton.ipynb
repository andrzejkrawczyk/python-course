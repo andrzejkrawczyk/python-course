{
 "cells": [
  {
   "cell_type": "markdown",
   "metadata": {
    "slideshow": {
     "slide_type": "slide"
    }
   },
   "source": [
    "<center><h1>Zaimplementuj dekorator Singleton</h1></center>"
   ]
  },
  {
   "cell_type": "code",
   "execution_count": null,
   "metadata": {
    "collapsed": true,
    "slideshow": {
     "slide_type": "slide"
    }
   },
   "outputs": [],
   "source": [
    "def Singleton(cls):\n",
    "    instances = {}\n",
    "    def wrapper(*args, **kwargs):\n",
    "        if instances.get(cls) is None:\n",
    "            instance = cls(*args, **kwargs)\n",
    "            instances[cls] = instance\n",
    "            return instance\n",
    "        else:\n",
    "            return instances[cls]\n",
    "    return wrapper\n",
    "        \n",
    "@Singleton\n",
    "class Punkt():\n",
    "    def __init__(self, x, y):\n",
    "        self.x = x\n",
    "        self.y = y\n",
    "        \n",
    "@Singleton\n",
    "class CustomStruct():\n",
    "    def __init__(self, x, y, data_vector):\n",
    "        self.x = x\n",
    "        self.y = y\n",
    "        self.data_vector = data_vector\n",
    "        "
   ]
  },
  {
   "cell_type": "code",
   "execution_count": null,
   "metadata": {
    "slideshow": {
     "slide_type": "subslide"
    }
   },
   "outputs": [],
   "source": [
    "a = Punkt(1, 2)\n",
    "b = Punkt(2, 3)\n",
    "print(a, vars(a), id(a))\n",
    "print(b, vars(b), id(b))\n",
    "\n",
    "c = CustomStruct(5, 10, [1, 2, 3])\n",
    "d = CustomStruct()\n",
    "\n",
    "print(c, vars(c), id(c))\n",
    "print(d, vars(d), id(d))"
   ]
  }
 ],
 "metadata": {
  "celltoolbar": "Slideshow",
  "kernelspec": {
   "display_name": "Python 3",
   "language": "python",
   "name": "python3"
  },
  "language_info": {
   "codemirror_mode": {
    "name": "ipython",
    "version": 3
   },
   "file_extension": ".py",
   "mimetype": "text/x-python",
   "name": "python",
   "nbconvert_exporter": "python",
   "pygments_lexer": "ipython3",
   "version": "3.6.2"
  }
 },
 "nbformat": 4,
 "nbformat_minor": 2
}
