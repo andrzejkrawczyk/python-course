{
 "cells": [
  {
   "cell_type": "markdown",
   "metadata": {
    "slideshow": {
     "slide_type": "slide"
    }
   },
   "source": [
    "<center><h1>Zaimplementuj system sprawdzania typów</h1></center>"
   ]
  },
  {
   "cell_type": "code",
   "execution_count": null,
   "metadata": {
    "collapsed": true,
    "slideshow": {
     "slide_type": "slide"
    }
   },
   "outputs": [],
   "source": [
    "class Descriptor():\n",
    "    def __init__(self, name=None, **options):\n",
    "        self.name = name\n",
    "        for key, value in options.items():\n",
    "            setattr(self, key, value)\n",
    "            \n",
    "    def __set__(self, instance, value):\n",
    "        instance.__dict__[self.name] = value\n",
    "        \n",
    "class Typed(Descriptor):\n",
    "    expected_type = type(None)\n",
    "    \n",
    "    def __set__(self, instance, value):\n",
    "        if not isinstance(value, self.expected_type):\n",
    "            raise TypeError(\"Expected type: \" + str(self.expected_type) + \"but was: \" + str(type(value)))\n",
    "        super().__set__(instance, value)\n",
    "        \n",
    "class Unsigned(Descriptor):\n",
    "    \n",
    "    def __set__(self, instance, value):\n",
    "        if value < 0:\n",
    "            raise ValueError(\"Expected value to be higher than 0, but was: \" + str(value))\n",
    "        super().__set__(instance, value)"
   ]
  },
  {
   "cell_type": "code",
   "execution_count": null,
   "metadata": {
    "slideshow": {
     "slide_type": "subslide"
    }
   },
   "outputs": [],
   "source": [
    "class MaxSize(Descriptor):\n",
    "    def __init__(self, name=None, **options):\n",
    "        if \"max_size\" not in options:\n",
    "            raise TypeError(\"Expected max_size option\")\n",
    "        super().__init__(name, **options)\n",
    "\n",
    "    def __set__(self, instance, value):\n",
    "        if len(value) > self.max_size:\n",
    "            raise ValueError(\"Expected value to be max size of: {}  but was: {}\".format(str(self.max_size),\n",
    "                                                                                       str(len(value))))\n",
    "        super().__set__(instance, value)\n",
    "        \n",
    "class MinSize(Descriptor):\n",
    "    def __init__(self, name=None, **options):\n",
    "        if \"min_size\" not in options:\n",
    "            raise TypeError(\"Expected min_size option\")\n",
    "        super().__init__(name, **options)\n",
    "        \n",
    "    def __set__(self, instance, value):\n",
    "        if len(value) < self.min_size:\n",
    "            raise ValueError(\"Expected value to be min size of: \" + str(self.min_size) + \" but was: \" + str(len(value)))\n",
    "        super().__set__(instance, value)"
   ]
  },
  {
   "cell_type": "code",
   "execution_count": null,
   "metadata": {
    "collapsed": true,
    "slideshow": {
     "slide_type": "subslide"
    }
   },
   "outputs": [],
   "source": [
    "class Integer(Typed):\n",
    "    expected_type = int\n",
    "    \n",
    "class UnsignedInt(Integer, Unsigned): pass\n",
    "\n",
    "class Float(Typed):\n",
    "    expected_type = float\n",
    "    \n",
    "class UnsignedFloat(Float, Unsigned): pass\n",
    "\n",
    "class String(Typed):\n",
    "    expected_type = str\n",
    "    \n",
    "class MaxMinString(String, MaxSize, MinSize): pass\n",
    "\n",
    "class List(Typed):\n",
    "    expected_type = list\n",
    "    \n",
    "class MaxMinList(List, MaxSize, MinSize): pass"
   ]
  },
  {
   "cell_type": "code",
   "execution_count": null,
   "metadata": {
    "slideshow": {
     "slide_type": "subslide"
    }
   },
   "outputs": [],
   "source": [
    "class CustomStruct():\n",
    "    x = Float(\"x\")\n",
    "    y = Integer(\"y\")\n",
    "    data_vector = MaxMinList(\"data_vector\", min_size=2, max_size=10)\n",
    "    \n",
    "    def __init__(self, x, y, data_vector):\n",
    "        self.x = x\n",
    "        self.y = y\n",
    "        self.data_vector = data_vector\n",
    "        \n",
    "cs = CustomStruct(1.0, 3, [1, 2, 3])\n",
    "print(vars(cs))\n",
    "cs.data_vector = list(range(7))\n",
    "print(cs.data_vector)"
   ]
  },
  {
   "cell_type": "code",
   "execution_count": null,
   "metadata": {
    "collapsed": true,
    "slideshow": {
     "slide_type": "subslide"
    }
   },
   "outputs": [],
   "source": [
    "def typeassert(**kwargs):\n",
    "    def type_assert_wrapper(cls):\n",
    "        for key, value in kwargs.items():\n",
    "            if isinstance(value, Descriptor):\n",
    "                print(key)\n",
    "                value.name = key\n",
    "                setattr(cls, key, value)\n",
    "            else:\n",
    "                print(key, value)\n",
    "                setattr(cls, key, value(key))\n",
    "        return cls\n",
    "    return type_assert_wrapper"
   ]
  },
  {
   "cell_type": "code",
   "execution_count": null,
   "metadata": {
    "slideshow": {
     "slide_type": "subslide"
    }
   },
   "outputs": [],
   "source": [
    "@typeassert(\n",
    "x=Float,\n",
    "y=Integer,\n",
    "data_vector=MaxMinList(max_size=5, min_size=1))\n",
    "class PointVector():\n",
    "    def __init__(self, x, y, data_vector):\n",
    "        self.x = x\n",
    "        self.y = y\n",
    "        self.data_vector = data_vector\n",
    "        \n",
    "p = PointVector(1.0, 2, [1])\n",
    "print(vars(p))\n",
    "p.data_vector = [1, 2, 3, 4, 5]"
   ]
  }
 ],
 "metadata": {
  "celltoolbar": "Slideshow",
  "kernelspec": {
   "display_name": "Python 3",
   "language": "python",
   "name": "python3"
  },
  "language_info": {
   "codemirror_mode": {
    "name": "ipython",
    "version": 3
   },
   "file_extension": ".py",
   "mimetype": "text/x-python",
   "name": "python",
   "nbconvert_exporter": "python",
   "pygments_lexer": "ipython3",
   "version": "3.6.2"
  }
 },
 "nbformat": 4,
 "nbformat_minor": 2
}
