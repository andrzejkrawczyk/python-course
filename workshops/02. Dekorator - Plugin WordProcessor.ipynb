{
 "cells": [
  {
   "cell_type": "markdown",
   "metadata": {
    "slideshow": {
     "slide_type": "slide"
    }
   },
   "source": [
    "<center><h1>Zaimplementuj dekorator `WordProcessor`, który można wbogacać o pluginy.</h1></center>"
   ]
  },
  {
   "cell_type": "code",
   "execution_count": null,
   "metadata": {
    "collapsed": true,
    "slideshow": {
     "slide_type": "slide"
    }
   },
   "outputs": [],
   "source": [
    "class WordProcessor():\n",
    "    PLUGINS = []\n",
    "    \n",
    "    @classmethod\n",
    "    def register(cls, function):\n",
    "        cls.PLUGINS.append(function)\n",
    "        \n",
    "    @classmethod\n",
    "    def process(cls, text):\n",
    "        for plugin in cls.PLUGINS:\n",
    "            text = plugin(text)\n",
    "        return text\n",
    "    \n",
    "@WordProcessor.register\n",
    "def strip_text(text):\n",
    "    return text.strip()\n",
    "\n",
    "@WordProcessor.register\n",
    "def capitalize_text(text):\n",
    "    return text.capitalize()\n",
    "\n",
    "WordProcessor.process(\"   ala ma kota   \") # -> \"Ala ma kota\""
   ]
  }
 ],
 "metadata": {
  "celltoolbar": "Slideshow",
  "kernelspec": {
   "display_name": "Python 3",
   "language": "python",
   "name": "python3"
  },
  "language_info": {
   "codemirror_mode": {
    "name": "ipython",
    "version": 3
   },
   "file_extension": ".py",
   "mimetype": "text/x-python",
   "name": "python",
   "nbconvert_exporter": "python",
   "pygments_lexer": "ipython3",
   "version": "3.6.2"
  }
 },
 "nbformat": 4,
 "nbformat_minor": 2
}
