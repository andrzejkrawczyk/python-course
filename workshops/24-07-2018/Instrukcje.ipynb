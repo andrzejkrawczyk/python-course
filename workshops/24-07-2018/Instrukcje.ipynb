{
 "cells": [
  {
   "cell_type": "markdown",
   "metadata": {},
   "source": [
    "Zaprogramuj gre w terminalu przy uzyciu biblioteki curses w Pythonie.\n",
    "Wzorujac sie na grach typu Roguelike\n",
    "\n",
    "* oprogramuj poruszanie sie po labiryncie\n",
    "* oprogramuj system walki z przeciwnikami\n",
    "* oprogramuj poziomy doswiadczenia i zdobywania przedmiotow\n",
    "* zastanow sie w jaki sposob zaprezentowac sciany, bohatera, skrzynki"
   ]
  },
  {
   "cell_type": "markdown",
   "metadata": {},
   "source": [
    "Instalacja biblioteki curses na Windowsie:\n",
    "Roguelik"
   ]
  },
  {
   "cell_type": "code",
   "execution_count": null,
   "metadata": {},
   "outputs": [],
   "source": [
    "from curses import wrapper\n",
    "\n",
    "def main(stdscr):\n",
    "    # Clear screen\n",
    "    stdscr.clear()\n",
    "    stdscr.border()\n",
    "\n",
    "    # This raises ZeroDivisionError when i == 10.\n",
    "    for i in range(11, 0, -1):\n",
    "        v = i-10\n",
    "        print(v, i)\n",
    "        stdscr.addstr(i, 0, '10 divided by {} is {}'.format(v, 10 + v))\n",
    "        stdscr.refresh()\n",
    "        stdscr.getkey()\n",
    "\n",
    "    stdscr.refresh()\n",
    "    stdscr.getkey()\n",
    "\n",
    "wrapper(main)"
   ]
  }
 ],
 "metadata": {
  "kernelspec": {
   "display_name": "Python 3",
   "language": "python",
   "name": "python3"
  },
  "language_info": {
   "codemirror_mode": {
    "name": "ipython",
    "version": 3
   },
   "file_extension": ".py",
   "mimetype": "text/x-python",
   "name": "python",
   "nbconvert_exporter": "python",
   "pygments_lexer": "ipython3",
   "version": "3.6.5"
  }
 },
 "nbformat": 4,
 "nbformat_minor": 2
}
