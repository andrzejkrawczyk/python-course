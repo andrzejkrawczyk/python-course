{
 "cells": [
  {
   "cell_type": "markdown",
   "metadata": {
    "slideshow": {
     "slide_type": "slide"
    }
   },
   "source": [
    "Napisz funkcje, ktora znajdzie duplikaty w kolekcji"
   ]
  },
  {
   "cell_type": "markdown",
   "metadata": {
    "slideshow": {
     "slide_type": "fragment"
    }
   },
   "source": [
    "Napisz za pomoca jednego polecenia wyswietlenie 300-krotne liczby \"1.44e+4+50\" oddzielonego srednikiem"
   ]
  },
  {
   "cell_type": "code",
   "execution_count": null,
   "metadata": {
    "slideshow": {
     "slide_type": "fragment"
    }
   },
   "outputs": [],
   "source": [
    "assert duplicates((1, 1, 2, 3, 4, 5, 6, 8, 2, 4, -7, 12, -7)) == (1, 2, 4, -7)\n",
    "assert duplicates([1, 1, 2, 3, 4, 5, \"asd\", 8, \"asd\", 4, -7, 12, -7]) == (1, 2, 4, \"asd\", -7)"
   ]
  },
  {
   "cell_type": "markdown",
   "metadata": {
    "slideshow": {
     "slide_type": "fragment"
    }
   },
   "source": [
    "Napisz generator liczb pseudolosowych z czestotliwosciami 0,25 dla zakresu 1-50 i 0,75 dla zakresu 51-100.\n",
    "Sprawdz czestotliwosc dla 250 tysiecy wygenerowanych liczb"
   ]
  },
  {
   "cell_type": "markdown",
   "metadata": {
    "slideshow": {
     "slide_type": "fragment"
    }
   },
   "source": [
    "Napisz list comprehension, ktore zwroci kwadraty liczb z kolekcji"
   ]
  },
  {
   "cell_type": "code",
   "execution_count": null,
   "metadata": {
    "slideshow": {
     "slide_type": "fragment"
    }
   },
   "outputs": [],
   "source": [
    "assert square_collection([1, 2, 3, 4, 5, 6]) == [1, 4, 9, 16, 25, 36]"
   ]
  },
  {
   "cell_type": "markdown",
   "metadata": {
    "slideshow": {
     "slide_type": "slide"
    }
   },
   "source": [
    "Zaimplementuj linked liste w pythonie wykorzystujac namedtuples"
   ]
  },
  {
   "cell_type": "markdown",
   "metadata": {
    "slideshow": {
     "slide_type": "fragment"
    }
   },
   "source": [
    "Zaimplementuj funkcje, ktora znajdzie czesc wspolna dwoch kolekcji"
   ]
  },
  {
   "cell_type": "code",
   "execution_count": null,
   "metadata": {
    "slideshow": {
     "slide_type": "fragment"
    }
   },
   "outputs": [],
   "source": [
    "a = [12, 1, 2, 3, 4, 7, 8, 10]\n",
    "b = [1, 12, 33, 4, 7, 9, 10]\n",
    "assert intersection(a, b) == [12, 1, 4, 7, 10]"
   ]
  },
  {
   "cell_type": "markdown",
   "metadata": {
    "slideshow": {
     "slide_type": "slide"
    }
   },
   "source": [
    "Stworz generator losowych hasel z zakresu ASCII o zadanej dlugosci"
   ]
  }
 ],
 "metadata": {
  "celltoolbar": "Slideshow",
  "kernelspec": {
   "display_name": "Python 3",
   "language": "python",
   "name": "python3"
  },
  "language_info": {
   "codemirror_mode": {
    "name": "ipython",
    "version": 3
   },
   "file_extension": ".py",
   "mimetype": "text/x-python",
   "name": "python",
   "nbconvert_exporter": "python",
   "pygments_lexer": "ipython3",
   "version": "3.6.5"
  }
 },
 "nbformat": 4,
 "nbformat_minor": 2
}
