{
 "cells": [
  {
   "cell_type": "markdown",
   "metadata": {},
   "source": [
    " <center><h3>1. Napisz funkcje, która zwraca maksymalną zadaną liczbę ze stringa, składającą się z kolejnych liczb</h3></center>"
   ]
  },
  {
   "cell_type": "code",
   "execution_count": null,
   "metadata": {
    "collapsed": true
   },
   "outputs": [],
   "source": [
    "max_num(\"9512983\", 1) # \"9\"\n",
    "max_num(\"9512983\", 3) # \"998\"\n",
    "max_num(\"9512983\", 7) # \"9512983\""
   ]
  },
  {
   "cell_type": "markdown",
   "metadata": {},
   "source": [
    "<center><h3>2. Mając dane w takiej postaci, gdzie pierwszy index to numer strony, a drugi to numer zawartości.</center></h3>"
   ]
  },
  {
   "cell_type": "code",
   "execution_count": null,
   "metadata": {
    "collapsed": true
   },
   "outputs": [],
   "source": [
    "POST = {\n",
    "    u\"page[1][1]['id']\": [u'baloes_bd_8_1'],\n",
    "    u\"page[0][1]['text']\": [u'Mum, dad! Look, the school email. '],\n",
    "    u\"page[1][0]['id']\": [u'baloes_bd_9_1'],\n",
    "    u\"page[0][1]['id']\": [u'baloes_bd_6_1'],\n",
    "    u\"page[0][0]['id']\": [u'baloes_bd_5_1'],\n",
    "    u'next': [u'/mycontent/5910974510923776'],\n",
    "    u\"page[0][0]['text']\": [u'Some time later\\u2026'],\n",
    "    u'space_id': [u'5910974510923776'],\n",
    "    u\"page[1][0]['text']\": [u'You open the email, Luana. \\u2028It\\u2019s for you!'\n",
    "                            ],\n",
    "    u\"page[1][1]['text']\": [u'Me too!'],\n",
    "    u'skip_editor': [u'1'],\n",
    "    }\n",
    "    "
   ]
  },
  {
   "cell_type": "markdown",
   "metadata": {},
   "source": [
    "Stwórz listę stron, która będzie zawierała kolejne zawartości 'text'."
   ]
  },
  {
   "cell_type": "code",
   "execution_count": null,
   "metadata": {
    "collapsed": true
   },
   "outputs": [],
   "source": [
    "[ \n",
    " [u'Some time later\\u2026', u'Mum, dad! Look, the school email.'],\n",
    " [u'You open the email, Luana. \\u2028It\\u2019s for you!', u'Me too!']\n",
    "]"
   ]
  },
  {
   "cell_type": "markdown",
   "metadata": {},
   "source": [
    "<center><h3>3 Zaimplementuj algorytm znalezienia najkrótszej ścieżki w labiryncie na podstawie algorytmu</h3></center>\n",
    "\n",
    "Źródło: http://www.unit1.pl/349,txt (2018-02-12)\n",
    "\n",
    "Wynik: Droga w labiryncie, która prowadzi z pola s do wyjścia. \n",
    "* Krok 0: Przyjmij, ze na początku nie byłeś w żadnym polu labiryntu, a więc wszystkie pola są nieodwiedzone. \n",
    "* Krok 1: Umieść w kolejce Q pole s. W polu s umieść liczbę 0 (zero). \n",
    "* Krok 2: Dopóki kolejka Q nie jest pusta wykonuj kroki 3 – 5. \n",
    "* Krok 3: Usuń z kolejki Q jej pierwszy element - oznaczmy to pole przez v. \n",
    "* Krok 4: Dla każdego pola w sąsiedniego względem v i nieoddzielonego od niego ścianą wykonaj krok 5. \n",
    "* Krok 5: Jeśli nie byłeś jeszcze w polu w, to umieść w nim liczbę o jeden większą od liczby znajdującej się w polu v. Jeśli pole w zawiera wyjście to przejdź do kroku 6, a w przeciwnym razie dołącz w do końca kolejki Q. \n",
    "* Krok 6: (W tym kroku budujemy od końca listę pól tworzących najkrótszą drogę z pola s do pola w, na którym zakończył działanie krok 5). Dopóki w nie jest polem s, wykonuj: za kolejne (od końca) pole drogi przyjmij w i za nową wartość w przyjmij pole sąsiednie względem w, w którym znajduje się liczba o jeden mniejsza od liczby znajdującej się w obecnym polu w. \n",
    "\n"
   ]
  }
 ],
 "metadata": {
  "kernelspec": {
   "display_name": "Python 3",
   "language": "python",
   "name": "python3"
  },
  "language_info": {
   "codemirror_mode": {
    "name": "ipython",
    "version": 3
   },
   "file_extension": ".py",
   "mimetype": "text/x-python",
   "name": "python",
   "nbconvert_exporter": "python",
   "pygments_lexer": "ipython3",
   "version": "3.6.2"
  }
 },
 "nbformat": 4,
 "nbformat_minor": 2
}
