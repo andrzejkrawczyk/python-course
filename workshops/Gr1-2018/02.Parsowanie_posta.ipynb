{
 "cells": [
  {
   "cell_type": "markdown",
   "metadata": {},
   "source": [
    "<center><h3>2. Mając dane w takiej postaci, gdzie pierwszy index to numer strony, a drugi to numer zawartości.</center></h3>"
   ]
  },
  {
   "cell_type": "code",
   "execution_count": null,
   "metadata": {
    "collapsed": true
   },
   "outputs": [],
   "source": [
    "POST = {\n",
    "    u\"page[1][1]['id']\": u'baloes_bd_8_1',\n",
    "    u\"page[0][1]['text']\": u'Mum, dad! Look, the school email.',\n",
    "    u\"page[1][0]['id']\": u'baloes_bd_9_1',\n",
    "    u\"page[0][1]['id']\": u'baloes_bd_6_1',\n",
    "    u\"page[0][0]['id']\": u'baloes_bd_5_1',\n",
    "    u'next': u'/mycontent/5910974510923776',\n",
    "    u\"page[0][0]['text']\": u'Some time later\\u2026',\n",
    "    u'space_id': u'5910974510923776',\n",
    "    u\"page[1][0]['text']\": u'You open the email, Luana. \\u2028It\\u2019s for you!',\n",
    "    u\"page[1][1]['text']\": u'Me too!',\n",
    "    u'skip_editor': u'1',\n",
    "}"
   ]
  },
  {
   "cell_type": "code",
   "execution_count": null,
   "metadata": {
    "collapsed": true
   },
   "outputs": [],
   "source": [
    "#Stwórz listę stron, która będzie zawierała kolejne zawartości 'text' w postaci krotek (id, text).\n",
    "\n",
    "expected = [\n",
    "    [(u'baloes_bd_5_1', u'Some time later\\u2026'), (u'baloes_bd_6_1', u'Mum, dad! Look, the school email.')],\n",
    "    [(u'baloes_bd_9_1', u'You open the email, Luana. \\u2028It\\u2019s for you!'), (u'baloes_bd_8_1', u'Me too!')]\n",
    "]"
   ]
  },
  {
   "cell_type": "code",
   "execution_count": null,
   "metadata": {
    "collapsed": true
   },
   "outputs": [],
   "source": [
    "from itertools import groupby, ifilter\n",
    "from collections import namedtuple\n",
    "\n",
    "\n",
    "def _page_text_filter(value):\n",
    "    return value.startswith(\"page\") and value.endswith(\"['text']\")\n",
    "\n",
    "\n",
    "def _page_index_key(value):\n",
    "    index = value.find(\"]\")\n",
    "    lindex = value.find(\"[\") + 1\n",
    "    return int(value[lindex:index])\n",
    "\n",
    "\n",
    "def convert_post_data(post_data):\n",
    "    text_only = ifilter(_page_text_filter, post_data)\n",
    "    sorted_only = sorted(text_only, key=_page_index_key)\n",
    "    grouped_by_page = groupby(sorted_only, _page_index_key)\n",
    "\n",
    "    pages = []\n",
    "    for page_index, group in grouped_by_page:\n",
    "        texts = []\n",
    "        for text_index in group:\n",
    "            text_data = post_data[text_index]\n",
    "            text_id = post_data[text_index.replace(\"text\", \"id\")]\n",
    "            texts.append(TextDataTuple(text_id, text_data))\n",
    "        pages.append(list(reversed(texts)))\n",
    "\n",
    "    return pages\n",
    "\n",
    "TextDataTuple = namedtuple(\"TextDataTuple\", \"id text\")"
   ]
  },
  {
   "cell_type": "code",
   "execution_count": 2,
   "metadata": {},
   "outputs": [
    {
     "name": "stdout",
     "output_type": "stream",
     "text": [
      "False\n"
     ]
    }
   ],
   "source": [
    "print(\"12\" > \"2\")"
   ]
  }
 ],
 "metadata": {
  "kernelspec": {
   "display_name": "Python 3",
   "language": "python",
   "name": "python3"
  },
  "language_info": {
   "codemirror_mode": {
    "name": "ipython",
    "version": 3
   },
   "file_extension": ".py",
   "mimetype": "text/x-python",
   "name": "python",
   "nbconvert_exporter": "python",
   "pygments_lexer": "ipython3",
   "version": "3.6.2"
  }
 },
 "nbformat": 4,
 "nbformat_minor": 2
}
