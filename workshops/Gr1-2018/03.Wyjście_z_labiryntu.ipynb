{
 "cells": [
  {
   "cell_type": "markdown",
   "metadata": {
    "slideshow": {
     "slide_type": "slide"
    }
   },
   "source": [
    "3 Zaimplementuj algorytm znalezienia najkrótszej ścieżki w labiryncie na podstawie algorytmu\n",
    "Źródło: http://www.unit1.pl/349,txt (2018-02-12)\n",
    "\n",
    "* Wynik: najkrótsza ścieżka\n",
    "* Wynik: Droga w labiryncie, która prowadzi z pola s do wyjścia. \n",
    "* Krok 0: Przyjmij, ze na początku nie byłeś w żadnym polu labiryntu, a więc wszystkie pola są nieodwiedzone. \n",
    "* Krok 1: Umieść w kolejce Q pole s. W polu s umieść liczbę 0 (zero). \n",
    "* Krok 2: Dopóki kolejka Q nie jest pusta wykonuj kroki 3 – 5. "
   ]
  },
  {
   "cell_type": "markdown",
   "metadata": {
    "slideshow": {
     "slide_type": "subslide"
    }
   },
   "source": [
    "* Krok 3: Usuń z kolejki Q jej pierwszy element - oznaczmy to pole przez v. \n",
    "* Krok 4: Dla każdego pola w sąsiedniego względem v i nieoddzielonego od niego ścianą wykonaj krok 5. \n",
    "* Krok 5: Jeśli nie byłeś jeszcze w polu w, to umieść w nim liczbę o jeden większą od liczby znajdującej się w polu v. Jeśli pole w zawiera wyjście to przejdź do kroku 6, a w przeciwnym razie dołącz w do końca kolejki Q. \n",
    "* Krok 6: (W tym kroku budujemy od końca listę pól tworzących najkrótszą drogę z pola s do pola w, na którym zakończył działanie krok 5). Dopóki w nie jest polem s, wykonuj: za kolejne (od końca) pole drogi przyjmij w i za nową wartość w przyjmij pole sąsiednie względem w, w którym znajduje się liczba o jeden mniejsza od liczby znajdującej się w obecnym polu w. "
   ]
  },
  {
   "cell_type": "code",
   "execution_count": null,
   "metadata": {
    "collapsed": true,
    "slideshow": {
     "slide_type": "slide"
    }
   },
   "outputs": [],
   "source": [
    "from collections import namedtuple, deque\n",
    "\n",
    "Point = namedtuple(\"Point\", \"x y\")\n",
    "\n",
    "_wall = object()\n",
    "\n",
    "maze = [\n",
    "    [-1, -1,    -1, -1],\n",
    "    [-1, _wall, -1, -1],\n",
    "    [-1, _wall, -1, -1],\n",
    "    [-1, -1, _wall, -1]\n",
    "]\n",
    "\n",
    "expected_result = [\n",
    "    Point(0, 0),\n",
    "    Point(0, 1),\n",
    "    Point(1, 2),\n",
    "    Point(2, 3),\n",
    "    Point(3, 3)\n",
    "]\n",
    "\n",
    "expected_result2 = [\n",
    "    Point(0, 0),\n",
    "    Point(0, 1),\n",
    "    Point(1, 2),\n",
    "    Point(2, 2),\n",
    "    Point(3, 3)\n",
    "]"
   ]
  },
  {
   "cell_type": "code",
   "execution_count": null,
   "metadata": {
    "slideshow": {
     "slide_type": "subslide"
    }
   },
   "outputs": [],
   "source": [
    "def shortest_path(maze, starting_point, exit_point):\n",
    "    que = deque()\n",
    "    maze[starting_point.x][starting_point.y] = 0\n",
    "    que.append(starting_point)\n",
    "\n",
    "    while len(que):\n",
    "        point = que.popleft()\n",
    "        neighbours = _find_neighbours(maze, point)\n",
    "        not_visited = _filter_visited(maze, neighbours)\n",
    "        if _increment_neighbors_value(maze, point, not_visited, exit_point):\n",
    "            return _get_path(maze, exit_point, starting_point)\n",
    "        que.extend(not_visited)\n",
    "\n",
    "\n",
    "def _find_neighbours(maze, tested_point):\n",
    "    maze_length = len(maze)\n",
    "    point_x = tested_point.x\n",
    "    point_y = tested_point.y\n",
    "    points = (Point(x, y) for x in range(point_x - 1, point_x + 2) for y in range(point_y - 1, point_y + 2))\n",
    "\n",
    "    result = []\n",
    "    for point in points:\n",
    "        if (point.x >= 0 and point.y >= 0\n",
    "            and point.y < maze_length\n",
    "            and point.x < maze_length\n",
    "            and point != tested_point\n",
    "            and _point_not_a_wall(maze, point)):\n",
    "                result.append(point)\n",
    "    return result\n",
    "\n",
    "\n",
    "def _point_value(maze, point):\n",
    "    return maze[point.x][point.y]\n",
    "\n",
    "\n",
    "def _point_not_a_wall(maze, point):\n",
    "    return _point_value(maze, point) != _wall\n",
    "\n",
    "\n",
    "def _filter_visited(maze, points):\n",
    "    return [point for point in points if _point_value(maze, point) == -1]\n",
    "\n",
    "\n",
    "def _increment_neighbors_value(maze, point, neighbours, exit_point):\n",
    "    value = _point_value(maze, point)\n",
    "\n",
    "    for p in neighbours:\n",
    "        maze[p.x][p.y] = value + 1\n",
    "        if p == exit_point:\n",
    "            return True\n",
    "    return False\n",
    "\n",
    "\n",
    "def _get_path(maze, exit_point, starting_point):\n",
    "    result = [exit_point]\n",
    "    que = deque([exit_point])\n",
    "\n",
    "    while que:\n",
    "        point = que.popleft()\n",
    "\n",
    "        value = _point_value(maze, point)\n",
    "        neighbours = _find_neighbours(maze, point)\n",
    "        for neighbour in neighbours:\n",
    "            if neighbour == starting_point:\n",
    "                result.append(neighbour)\n",
    "                break\n",
    "            if _point_value(maze, neighbour) == value - 1:\n",
    "                result.append(neighbour)\n",
    "                que.append(neighbour)\n",
    "                break\n",
    "    return list(reversed(result))\n",
    "\n",
    "result = shortest_path(maze, Point(0, 0), Point(3, 3))\n",
    "assert result == expected_result or result == expected_result2"
   ]
  }
 ],
 "metadata": {
  "celltoolbar": "Slideshow",
  "kernelspec": {
   "display_name": "Python 3",
   "language": "python",
   "name": "python3"
  },
  "language_info": {
   "codemirror_mode": {
    "name": "ipython",
    "version": 3
   },
   "file_extension": ".py",
   "mimetype": "text/x-python",
   "name": "python",
   "nbconvert_exporter": "python",
   "pygments_lexer": "ipython3",
   "version": "3.6.2"
  }
 },
 "nbformat": 4,
 "nbformat_minor": 2
}
