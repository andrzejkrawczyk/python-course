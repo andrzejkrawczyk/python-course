{
 "cells": [
  {
   "cell_type": "markdown",
   "metadata": {},
   "source": [
    " <center><h3>Napisz funkcje, która zwraca maksymalną zadaną liczbę ze stringa, składającą się z kolejnych liczb</h3></center>"
   ]
  },
  {
   "cell_type": "code",
   "execution_count": null,
   "metadata": {},
   "outputs": [],
   "source": [
    "def max_num(digits, k):\n",
    "    stack = []\n",
    "    drop = len(digits) - k\n",
    "    for digit in digits:\n",
    "        while len(stack) > 0 and drop > 0 and stack[-1] < digit:\n",
    "            stack.pop()\n",
    "            drop -= 1\n",
    "        stack.append(digit)\n",
    "\n",
    "    return \"\".join(stack[:k])\n",
    "\n",
    "assert max_num(\"9512983\", 1)  == \"9\"\n",
    "assert max_num(\"9512983\", 3) == \"998\"\n",
    "assert max_num(\"9512983\", 7) == \"9512983\""
   ]
  }
 ],
 "metadata": {
  "kernelspec": {
   "display_name": "Python 3",
   "language": "python",
   "name": "python3"
  },
  "language_info": {
   "codemirror_mode": {
    "name": "ipython",
    "version": 3
   },
   "file_extension": ".py",
   "mimetype": "text/x-python",
   "name": "python",
   "nbconvert_exporter": "python",
   "pygments_lexer": "ipython3",
   "version": "3.6.2"
  }
 },
 "nbformat": 4,
 "nbformat_minor": 2
}
